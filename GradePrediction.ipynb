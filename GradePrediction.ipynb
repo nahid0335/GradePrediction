{
  "nbformat": 4,
  "nbformat_minor": 0,
  "metadata": {
    "colab": {
      "name": "GradePrediction.ipynb",
      "provenance": [],
      "authorship_tag": "ABX9TyMynf1V/yLU+Z53TyNtNoib",
      "include_colab_link": true
    },
    "kernelspec": {
      "name": "python3",
      "display_name": "Python 3"
    },
    "language_info": {
      "name": "python"
    }
  },
  "cells": [
    {
      "cell_type": "markdown",
      "metadata": {
        "id": "view-in-github",
        "colab_type": "text"
      },
      "source": [
        "<a href=\"https://colab.research.google.com/github/nahid0335/GradePrediction/blob/main/GradePrediction.ipynb\" target=\"_parent\"><img src=\"https://colab.research.google.com/assets/colab-badge.svg\" alt=\"Open In Colab\"/></a>"
      ]
    },
    {
      "cell_type": "markdown",
      "metadata": {
        "id": "Cu_ScoiUAY0L"
      },
      "source": [
        "# **Decision Tree**"
      ]
    },
    {
      "cell_type": "code",
      "metadata": {
        "id": "ogo9YPhtASVl"
      },
      "source": [
        "import numpy as np \n",
        "import pandas as pd \n",
        "import sklearn\n",
        "from sklearn.model_selection import train_test_split\n",
        "from sklearn.metrics import confusion_matrix \n",
        "from sklearn.tree import DecisionTreeClassifier \n",
        "from sklearn.metrics import accuracy_score \n",
        "from matplotlib import pyplot as plt\n",
        "from sklearn import tree"
      ],
      "execution_count": 232,
      "outputs": []
    },
    {
      "cell_type": "code",
      "metadata": {
        "colab": {
          "base_uri": "https://localhost:8080/"
        },
        "id": "T3YTygSVA6nk",
        "outputId": "b1d35f69-f7fb-4003-a594-f1795a0fa417"
      },
      "source": [
        "from google.colab import drive\n",
        "drive.mount('/content/drive')"
      ],
      "execution_count": 233,
      "outputs": [
        {
          "output_type": "stream",
          "name": "stdout",
          "text": [
            "Mounted at /content/drive\n"
          ]
        }
      ]
    },
    {
      "cell_type": "code",
      "metadata": {
        "id": "TIypscqEBHPi"
      },
      "source": [
        "# load dataset\n",
        "df = pd.read_csv(\"/content/drive/Shareddrives/share drive/Dataset/Grade prediction data/Grade Prediction Data (Responses).csv\")"
      ],
      "execution_count": 234,
      "outputs": []
    },
    {
      "cell_type": "code",
      "metadata": {
        "id": "IIKeIrPQBT66",
        "colab": {
          "base_uri": "https://localhost:8080/",
          "height": 258
        },
        "outputId": "682217ee-2d35-446f-b208-45047405c16c"
      },
      "source": [
        "df.head()\n",
        "#df.replace(np.nan,0)"
      ],
      "execution_count": 235,
      "outputs": [
        {
          "output_type": "execute_result",
          "data": {
            "text/html": [
              "<div>\n",
              "<style scoped>\n",
              "    .dataframe tbody tr th:only-of-type {\n",
              "        vertical-align: middle;\n",
              "    }\n",
              "\n",
              "    .dataframe tbody tr th {\n",
              "        vertical-align: top;\n",
              "    }\n",
              "\n",
              "    .dataframe thead th {\n",
              "        text-align: right;\n",
              "    }\n",
              "</style>\n",
              "<table border=\"1\" class=\"dataframe\">\n",
              "  <thead>\n",
              "    <tr style=\"text-align: right;\">\n",
              "      <th></th>\n",
              "      <th>Daily Study Hour (0 - )</th>\n",
              "      <th>Average CT Marks (0 - 20)</th>\n",
              "      <th>Class Attendance (percentage)</th>\n",
              "      <th>PL/SPL Study Hours (Daily) (0 - )</th>\n",
              "      <th>PL/SPL Sleeping Hours (Daily Average)</th>\n",
              "      <th>Average Sleeping Hours (Daily)</th>\n",
              "      <th>Social Media Hours (Daily Average)</th>\n",
              "      <th>PL/SPL Social Media Hours (Daily Average)</th>\n",
              "      <th>Concentration in Classes (0 - 10)</th>\n",
              "      <th>Confidence (0 - 10)</th>\n",
              "      <th>Final Grade (last Semester - 3-2) (GPA)</th>\n",
              "    </tr>\n",
              "  </thead>\n",
              "  <tbody>\n",
              "    <tr>\n",
              "      <th>0</th>\n",
              "      <td>1.0</td>\n",
              "      <td>8.0</td>\n",
              "      <td>65.0</td>\n",
              "      <td>12.0</td>\n",
              "      <td>6.0</td>\n",
              "      <td>8.0</td>\n",
              "      <td>3.0</td>\n",
              "      <td>1.0</td>\n",
              "      <td>NaN</td>\n",
              "      <td>3.0</td>\n",
              "      <td>3.25</td>\n",
              "    </tr>\n",
              "    <tr>\n",
              "      <th>1</th>\n",
              "      <td>2.0</td>\n",
              "      <td>12.0</td>\n",
              "      <td>95.0</td>\n",
              "      <td>9.0</td>\n",
              "      <td>10.0</td>\n",
              "      <td>10.0</td>\n",
              "      <td>2.0</td>\n",
              "      <td>1.0</td>\n",
              "      <td>7.0</td>\n",
              "      <td>7.0</td>\n",
              "      <td>3.84</td>\n",
              "    </tr>\n",
              "    <tr>\n",
              "      <th>2</th>\n",
              "      <td>2.0</td>\n",
              "      <td>15.0</td>\n",
              "      <td>96.0</td>\n",
              "      <td>13.0</td>\n",
              "      <td>6.0</td>\n",
              "      <td>8.0</td>\n",
              "      <td>5.0</td>\n",
              "      <td>2.0</td>\n",
              "      <td>5.0</td>\n",
              "      <td>8.0</td>\n",
              "      <td>3.61</td>\n",
              "    </tr>\n",
              "    <tr>\n",
              "      <th>3</th>\n",
              "      <td>1.0</td>\n",
              "      <td>9.0</td>\n",
              "      <td>70.0</td>\n",
              "      <td>6.0</td>\n",
              "      <td>8.0</td>\n",
              "      <td>8.0</td>\n",
              "      <td>3.0</td>\n",
              "      <td>2.0</td>\n",
              "      <td>7.0</td>\n",
              "      <td>9.0</td>\n",
              "      <td>3.41</td>\n",
              "    </tr>\n",
              "    <tr>\n",
              "      <th>4</th>\n",
              "      <td>1.0</td>\n",
              "      <td>8.0</td>\n",
              "      <td>60.0</td>\n",
              "      <td>10.0</td>\n",
              "      <td>9.0</td>\n",
              "      <td>8.0</td>\n",
              "      <td>2.0</td>\n",
              "      <td>2.0</td>\n",
              "      <td>3.0</td>\n",
              "      <td>4.0</td>\n",
              "      <td>3.14</td>\n",
              "    </tr>\n",
              "  </tbody>\n",
              "</table>\n",
              "</div>"
            ],
            "text/plain": [
              "   Daily Study Hour (0 - )  ...  Final Grade (last Semester - 3-2) (GPA) \n",
              "0                      1.0  ...                                      3.25\n",
              "1                      2.0  ...                                      3.84\n",
              "2                      2.0  ...                                      3.61\n",
              "3                      1.0  ...                                      3.41\n",
              "4                      1.0  ...                                      3.14\n",
              "\n",
              "[5 rows x 11 columns]"
            ]
          },
          "metadata": {},
          "execution_count": 235
        }
      ]
    },
    {
      "cell_type": "code",
      "metadata": {
        "id": "n9ovX2rhBZGs"
      },
      "source": [
        "drive.flush_and_unmount()"
      ],
      "execution_count": 236,
      "outputs": []
    },
    {
      "cell_type": "code",
      "metadata": {
        "id": "fdd67Po6NKyj",
        "colab": {
          "base_uri": "https://localhost:8080/"
        },
        "outputId": "5893efe6-4486-48fe-ff11-caf2f9336047"
      },
      "source": [
        "df = df.dropna()\n",
        "df.info()"
      ],
      "execution_count": 237,
      "outputs": [
        {
          "output_type": "stream",
          "name": "stdout",
          "text": [
            "<class 'pandas.core.frame.DataFrame'>\n",
            "Int64Index: 87 entries, 1 to 87\n",
            "Data columns (total 11 columns):\n",
            " #   Column                                     Non-Null Count  Dtype  \n",
            "---  ------                                     --------------  -----  \n",
            " 0   Daily Study Hour (0 - )                    87 non-null     float64\n",
            " 1   Average CT Marks (0 - 20)                  87 non-null     float64\n",
            " 2   Class Attendance (percentage)              87 non-null     float64\n",
            " 3   PL/SPL Study Hours (Daily) (0 - )          87 non-null     float64\n",
            " 4   PL/SPL Sleeping Hours (Daily Average)      87 non-null     float64\n",
            " 5   Average Sleeping Hours (Daily)             87 non-null     float64\n",
            " 6   Social Media Hours (Daily Average)         87 non-null     float64\n",
            " 7   PL/SPL Social Media Hours (Daily Average)  87 non-null     float64\n",
            " 8   Concentration in Classes (0 - 10)          87 non-null     float64\n",
            " 9   Confidence (0 - 10)                        87 non-null     float64\n",
            " 10  Final Grade (last Semester - 3-2) (GPA)    87 non-null     float64\n",
            "dtypes: float64(11)\n",
            "memory usage: 8.2 KB\n"
          ]
        }
      ]
    },
    {
      "cell_type": "code",
      "metadata": {
        "id": "_-ZTjv5yBd3f"
      },
      "source": [
        "# feature selection\n",
        "feature_cols = ['Daily Study Hour (0 - )', 'Average CT Marks (0 - 20)', 'Class Attendance (percentage)', 'PL/SPL Study Hours (Daily) (0 - )',\n",
        "                'PL/SPL Sleeping Hours (Daily Average)', 'Average Sleeping Hours (Daily)', 'Social Media Hours (Daily Average)',\n",
        "                'PL/SPL Social Media Hours (Daily Average)','Concentration in Classes (0 - 10)','Confidence (0 - 10)']\n",
        "X = df[feature_cols].values.tolist()\n",
        "y = df['Final Grade (last Semester - 3-2) (GPA) '].values.tolist()"
      ],
      "execution_count": 238,
      "outputs": []
    },
    {
      "cell_type": "code",
      "metadata": {
        "colab": {
          "base_uri": "https://localhost:8080/"
        },
        "id": "Ni7BwtxTCKzR",
        "outputId": "12d6900d-7c05-4f27-9fd5-e30f39ef4230"
      },
      "source": [
        "print(X[0:5])\n",
        "print(y[0:5])"
      ],
      "execution_count": 239,
      "outputs": [
        {
          "output_type": "stream",
          "name": "stdout",
          "text": [
            "[[2.0, 12.0, 95.0, 9.0, 10.0, 10.0, 2.0, 1.0, 7.0, 7.0], [2.0, 15.0, 96.0, 13.0, 6.0, 8.0, 5.0, 2.0, 5.0, 8.0], [1.0, 9.0, 70.0, 6.0, 8.0, 8.0, 3.0, 2.0, 7.0, 9.0], [1.0, 8.0, 60.0, 10.0, 9.0, 8.0, 2.0, 2.0, 3.0, 4.0], [2.0, 15.0, 80.0, 10.0, 5.0, 7.0, 1.0, 0.0, 7.0, 9.0]]\n",
            "[3.84, 3.61, 3.41, 3.14, 3.88]\n"
          ]
        }
      ]
    },
    {
      "cell_type": "code",
      "metadata": {
        "id": "cFMQT0NGCb1Q"
      },
      "source": [
        "for i in range(len(y)):\n",
        "  if y[i]>=3.75:\n",
        "    y[i]=6\n",
        "  elif y[i]>= 3.5:\n",
        "    y[i]=5\n",
        "  elif y[i]>=3.25:\n",
        "    y[i]=4\n",
        "  elif y[i]>=3.0 :\n",
        "    y[i]=3\n",
        "  elif y[i]>=2.75 :\n",
        "    y[i]=2\n",
        "  elif y[i]>= 2.5:\n",
        "    y[i]=1\n",
        "  else:\n",
        "    y[i]=0"
      ],
      "execution_count": 240,
      "outputs": []
    },
    {
      "cell_type": "code",
      "metadata": {
        "colab": {
          "base_uri": "https://localhost:8080/"
        },
        "id": "Io5fDBm4DnaR",
        "outputId": "7755e5e8-1b00-40d8-9bed-1b8cfd7c12da"
      },
      "source": [
        "print(y[0:5])"
      ],
      "execution_count": 241,
      "outputs": [
        {
          "output_type": "stream",
          "name": "stdout",
          "text": [
            "[6, 5, 4, 3, 6]\n"
          ]
        }
      ]
    },
    {
      "cell_type": "code",
      "metadata": {
        "id": "XMKBFy6bHhg4"
      },
      "source": [
        "# Split dataset into training set and test set\n",
        "X_train, X_test, y_train, y_test = train_test_split(X, y, test_size=0.2, random_state=42) # 80% training and 20% test"
      ],
      "execution_count": 242,
      "outputs": []
    },
    {
      "cell_type": "code",
      "metadata": {
        "colab": {
          "base_uri": "https://localhost:8080/"
        },
        "id": "oI1Vc6LyGTuP",
        "outputId": "68627b45-6492-4f27-e679-cf9ad2e6083d"
      },
      "source": [
        "print(np.any(np.isinf(X_train)))\n",
        "print(np.any(np.isinf(X_test)))\n",
        "print(np.any(np.isnan(X_train)))\n",
        "print(np.any(np.isnan(X_test)))\n",
        "\n",
        "#print(X_test)\n",
        "#X_test[np.isnan(X_test)] = 0"
      ],
      "execution_count": 243,
      "outputs": [
        {
          "output_type": "stream",
          "name": "stdout",
          "text": [
            "False\n",
            "False\n",
            "False\n",
            "False\n"
          ]
        }
      ]
    },
    {
      "cell_type": "code",
      "metadata": {
        "id": "e0BDirZF_mdJ"
      },
      "source": [
        "# Create Decision Tree classifer object\n",
        "DT = DecisionTreeClassifier(criterion='entropy')\n",
        "\n",
        "# Train Decision Tree Classifer\n",
        "DT = DT.fit(X_train,y_train)\n",
        "\n",
        "#Predict the response for test dataset\n",
        "y_pred = DT.predict(X_test)"
      ],
      "execution_count": 244,
      "outputs": []
    },
    {
      "cell_type": "code",
      "metadata": {
        "colab": {
          "base_uri": "https://localhost:8080/"
        },
        "id": "F3K2HQ5DIRvN",
        "outputId": "334bea83-2348-4b46-f3c9-262bf3f0b79d"
      },
      "source": [
        "# Model Accuracy, how often is the classifier correct?\n",
        "print(\"Accuracy:\", accuracy_score(y_test, y_pred))"
      ],
      "execution_count": 245,
      "outputs": [
        {
          "output_type": "stream",
          "name": "stdout",
          "text": [
            "Accuracy: 0.5555555555555556\n"
          ]
        }
      ]
    },
    {
      "cell_type": "code",
      "metadata": {
        "id": "yyBnpn6-Iau5"
      },
      "source": [
        "import graphviz \n",
        "from six import StringIO \n",
        "from sklearn.tree import export_graphviz\n",
        "import pydotplus\n",
        "\n",
        "dot_data = StringIO()\n",
        "export_graphviz(DT, out_file=dot_data,  \n",
        "                filled=True, rounded=True,\n",
        "                special_characters=True,feature_names = feature_cols,class_names=['0','1','2','3','4','5','6'])\n",
        "graph = pydotplus.graph_from_dot_data(dot_data.getvalue()) "
      ],
      "execution_count": 246,
      "outputs": []
    },
    {
      "cell_type": "markdown",
      "metadata": {
        "id": "uCiq_DaeS3oV"
      },
      "source": [
        "# **Hyper parameter tuning (Decision Tree)**"
      ]
    },
    {
      "cell_type": "code",
      "metadata": {
        "id": "vQ6e6rq_S-UG"
      },
      "source": [
        "dt = DecisionTreeClassifier()"
      ],
      "execution_count": 247,
      "outputs": []
    },
    {
      "cell_type": "code",
      "metadata": {
        "id": "0BZvJ8YsTNp4"
      },
      "source": [
        "from sklearn.model_selection import GridSearchCV\n",
        "\n",
        "param_dict = {\n",
        "    \"criterion\":['gini','entropy'],\n",
        "    \"max_depth\":range(1,10),\n",
        "    \"min_samples_split\":range(1,10),\n",
        "    \"min_samples_leaf\":range(1,5)\n",
        "}"
      ],
      "execution_count": 248,
      "outputs": []
    },
    {
      "cell_type": "code",
      "metadata": {
        "colab": {
          "base_uri": "https://localhost:8080/"
        },
        "id": "_yJliZiDdE9i",
        "outputId": "bf307fb4-d5aa-4121-a634-6fce86e9c74d"
      },
      "source": [
        "#dictp={'i':0,'accuracy':0}\n",
        "\n",
        "#for i in range(101):\n",
        "X_train, X_test, y_train, y_test = train_test_split(X, y, test_size=0.2,random_state=25)\n",
        "grid = GridSearchCV(dt, param_grid=param_dict, cv=10, verbose = 1,n_jobs=-1)\n",
        "grid.fit(X_train, y_train)\n",
        "#print(grid.best_params_) \n",
        "#print(grid.best_estimator_)\n",
        "grid_predictions = grid.predict(X_test) \n",
        "#print(classification_report(y_test, grid_predictions)) \n",
        "acu = accuracy_score(y_test,grid_predictions)*100\n",
        "#   if dictp['accuracy']<acu:\n",
        "#       dictp['accuracy']=acu\n",
        "#       dictp['i']=i\n",
        "#print(\"i : \",dictp['i'],\" accuracy : \",dictp['accuracy'])"
      ],
      "execution_count": 257,
      "outputs": [
        {
          "output_type": "stream",
          "name": "stdout",
          "text": [
            "Fitting 10 folds for each of 648 candidates, totalling 6480 fits\n"
          ]
        },
        {
          "output_type": "stream",
          "name": "stderr",
          "text": [
            "/usr/local/lib/python3.7/dist-packages/sklearn/model_selection/_split.py:680: UserWarning: The least populated class in y has only 1 members, which is less than n_splits=10.\n",
            "  UserWarning,\n",
            "/usr/local/lib/python3.7/dist-packages/sklearn/model_selection/_validation.py:372: FitFailedWarning: \n",
            "720 fits failed out of a total of 6480.\n",
            "The score on these train-test partitions for these parameters will be set to nan.\n",
            "If these failures are not expected, you can try to debug them by setting error_score='raise'.\n",
            "\n",
            "Below are more details about the failures:\n",
            "--------------------------------------------------------------------------------\n",
            "720 fits failed with the following error:\n",
            "Traceback (most recent call last):\n",
            "  File \"/usr/local/lib/python3.7/dist-packages/sklearn/model_selection/_validation.py\", line 681, in _fit_and_score\n",
            "    estimator.fit(X_train, y_train, **fit_params)\n",
            "  File \"/usr/local/lib/python3.7/dist-packages/sklearn/tree/_classes.py\", line 942, in fit\n",
            "    X_idx_sorted=X_idx_sorted,\n",
            "  File \"/usr/local/lib/python3.7/dist-packages/sklearn/tree/_classes.py\", line 254, in fit\n",
            "    % self.min_samples_split\n",
            "ValueError: min_samples_split must be an integer greater than 1 or a float in (0.0, 1.0]; got the integer 1\n",
            "\n",
            "  warnings.warn(some_fits_failed_message, FitFailedWarning)\n",
            "/usr/local/lib/python3.7/dist-packages/sklearn/model_selection/_search.py:972: UserWarning: One or more of the test scores are non-finite: [       nan 0.47619048 0.47619048 0.47619048 0.47619048 0.47619048\n",
            " 0.47619048 0.47619048 0.47619048        nan 0.47619048 0.47619048\n",
            " 0.47619048 0.47619048 0.47619048 0.47619048 0.47619048 0.47619048\n",
            "        nan 0.47619048 0.47619048 0.47619048 0.47619048 0.47619048\n",
            " 0.47619048 0.47619048 0.47619048        nan 0.47619048 0.47619048\n",
            " 0.47619048 0.47619048 0.47619048 0.47619048 0.47619048 0.47619048\n",
            "        nan 0.49285714 0.49285714 0.49285714 0.49285714 0.49285714\n",
            " 0.49285714 0.49285714 0.49285714        nan 0.49285714 0.49285714\n",
            " 0.49285714 0.49285714 0.49285714 0.49285714 0.49285714 0.49285714\n",
            "        nan 0.46190476 0.46190476 0.46190476 0.46190476 0.46190476\n",
            " 0.46190476 0.46190476 0.46190476        nan 0.49047619 0.49047619\n",
            " 0.49047619 0.49047619 0.49047619 0.49047619 0.49047619 0.49047619\n",
            "        nan 0.40714286 0.40714286 0.40714286 0.40714286 0.40714286\n",
            " 0.40714286 0.40714286 0.40714286        nan 0.39285714 0.39285714\n",
            " 0.39285714 0.39285714 0.39285714 0.39285714 0.39285714 0.39285714\n",
            "        nan 0.37857143 0.37857143 0.37619048 0.37619048 0.36190476\n",
            " 0.39285714 0.36190476 0.39285714        nan 0.37619048 0.37619048\n",
            " 0.37619048 0.37619048 0.39285714 0.37619048 0.37619048 0.37619048\n",
            "        nan 0.37857143 0.37857143 0.39285714 0.39285714 0.39285714\n",
            " 0.39285714 0.37857143 0.39285714        nan 0.35       0.35\n",
            " 0.35       0.36428571 0.36428571 0.36428571 0.36428571 0.39285714\n",
            "        nan 0.35       0.36428571 0.35       0.31904762 0.35\n",
            " 0.31904762 0.34761905 0.36190476        nan 0.36190476 0.37857143\n",
            " 0.36428571 0.36428571 0.36190476 0.39285714 0.39285714 0.39285714\n",
            "        nan 0.4047619  0.39047619 0.4047619  0.39047619 0.39047619\n",
            " 0.39047619 0.39047619 0.39047619        nan 0.36190476 0.36190476\n",
            " 0.36190476 0.36190476 0.36190476 0.31904762 0.36190476 0.36190476\n",
            "        nan 0.33333333 0.33333333 0.33571429 0.33333333 0.36190476\n",
            " 0.30714286 0.34761905 0.36190476        nan 0.34761905 0.37857143\n",
            " 0.37619048 0.39285714 0.36190476 0.36428571 0.3452381  0.3452381\n",
            "        nan 0.39047619 0.36190476 0.34761905 0.4047619  0.39047619\n",
            " 0.37619048 0.37619048 0.39047619        nan 0.34761905 0.34761905\n",
            " 0.36190476 0.34761905 0.36190476 0.31904762 0.36190476 0.36190476\n",
            "        nan 0.3047619  0.33571429 0.31904762 0.35       0.33571429\n",
            " 0.27619048 0.34761905 0.37857143        nan 0.37857143 0.34761905\n",
            " 0.36190476 0.36190476 0.3452381  0.36190476 0.31666667 0.36190476\n",
            "        nan 0.36190476 0.36428571 0.36428571 0.36190476 0.40714286\n",
            " 0.39285714 0.36190476 0.36190476        nan 0.33333333 0.31904762\n",
            " 0.34761905 0.33333333 0.33333333 0.31904762 0.34761905 0.36190476\n",
            "        nan 0.33571429 0.31904762 0.33571429 0.33571429 0.32142857\n",
            " 0.30714286 0.35       0.35              nan 0.35       0.37857143\n",
            " 0.36428571 0.36190476 0.39285714 0.36190476 0.34761905 0.35952381\n",
            "        nan 0.37619048 0.33333333 0.33333333 0.39047619 0.39285714\n",
            " 0.34761905 0.37619048 0.36190476        nan 0.33333333 0.3047619\n",
            " 0.3047619  0.33333333 0.33333333 0.3047619  0.34761905 0.36190476\n",
            "        nan 0.33333333 0.31904762 0.32142857 0.31904762 0.31904762\n",
            " 0.32142857 0.34761905 0.34761905        nan 0.36190476 0.33095238\n",
            " 0.35       0.35       0.36428571 0.37857143 0.34761905 0.37619048\n",
            "        nan 0.4047619  0.34761905 0.36190476 0.36190476 0.36190476\n",
            " 0.40714286 0.39047619 0.39047619        nan 0.33333333 0.31904762\n",
            " 0.33333333 0.31904762 0.34761905 0.31904762 0.34761905 0.34761905\n",
            "        nan 0.3047619  0.33333333 0.33571429 0.31904762 0.30714286\n",
            " 0.32142857 0.36428571 0.36428571        nan 0.33333333 0.37619048\n",
            " 0.3452381  0.33095238 0.34761905 0.37857143 0.35952381 0.34761905\n",
            "        nan 0.47619048 0.47619048 0.47619048 0.47619048 0.47619048\n",
            " 0.47619048 0.47619048 0.47619048        nan 0.47619048 0.47619048\n",
            " 0.47619048 0.47619048 0.47619048 0.47619048 0.47619048 0.47619048\n",
            "        nan 0.47619048 0.47619048 0.47619048 0.47619048 0.47619048\n",
            " 0.47619048 0.47619048 0.47619048        nan 0.47619048 0.47619048\n",
            " 0.47619048 0.47619048 0.47619048 0.47619048 0.47619048 0.47619048\n",
            "        nan 0.47619048 0.47619048 0.47619048 0.47619048 0.47619048\n",
            " 0.47619048 0.47619048 0.47619048        nan 0.47619048 0.47619048\n",
            " 0.47619048 0.47619048 0.47619048 0.47619048 0.47619048 0.47619048\n",
            "        nan 0.47619048 0.47619048 0.47619048 0.47619048 0.47619048\n",
            " 0.47619048 0.47619048 0.47619048        nan 0.47619048 0.47619048\n",
            " 0.47619048 0.47619048 0.47619048 0.47619048 0.47619048 0.47619048\n",
            "        nan 0.39047619 0.39047619 0.39047619 0.39047619 0.39047619\n",
            " 0.39047619 0.39047619 0.39047619        nan 0.39047619 0.39047619\n",
            " 0.39047619 0.39047619 0.39047619 0.39047619 0.39047619 0.39047619\n",
            "        nan 0.37380952 0.39047619 0.39047619 0.39047619 0.39047619\n",
            " 0.37380952 0.39047619 0.39047619        nan 0.31666667 0.33333333\n",
            " 0.33333333 0.33333333 0.31666667 0.33333333 0.33333333 0.33333333\n",
            "        nan 0.39047619 0.38809524 0.4047619  0.4047619  0.4047619\n",
            " 0.4047619  0.39047619 0.39047619        nan 0.38809524 0.39047619\n",
            " 0.4047619  0.39047619 0.39047619 0.39047619 0.37619048 0.4047619\n",
            "        nan 0.37380952 0.35952381 0.37380952 0.35952381 0.37380952\n",
            " 0.37380952 0.37380952 0.38809524        nan 0.34761905 0.33095238\n",
            " 0.3452381  0.33333333 0.34761905 0.31904762 0.35952381 0.3452381\n",
            "        nan 0.37380952 0.38809524 0.39047619 0.39047619 0.39047619\n",
            " 0.37619048 0.37619048 0.39047619        nan 0.37619048 0.3452381\n",
            " 0.39047619 0.37619048 0.37619048 0.37619048 0.37619048 0.37619048\n",
            "        nan 0.35952381 0.3452381  0.3452381  0.36190476 0.33095238\n",
            " 0.3452381  0.3452381  0.39047619        nan 0.33333333 0.3452381\n",
            " 0.31666667 0.31666667 0.33333333 0.31666667 0.34761905 0.33095238\n",
            "        nan 0.37380952 0.37619048 0.37857143 0.39285714 0.39285714\n",
            " 0.40714286 0.36190476 0.36190476        nan 0.37857143 0.39285714\n",
            " 0.39285714 0.37857143 0.37857143 0.37857143 0.37619048 0.36190476\n",
            "        nan 0.39047619 0.39285714 0.40714286 0.41904762 0.40714286\n",
            " 0.4047619  0.37380952 0.37380952        nan 0.35952381 0.34761905\n",
            " 0.31666667 0.3452381  0.34761905 0.35952381 0.31666667 0.31666667\n",
            "        nan 0.39285714 0.36428571 0.40714286 0.37857143 0.37857143\n",
            " 0.36428571 0.33333333 0.34761905        nan 0.35       0.36428571\n",
            " 0.37619048 0.36428571 0.39285714 0.36428571 0.36190476 0.34761905\n",
            "        nan 0.40714286 0.36190476 0.4047619  0.36190476 0.37857143\n",
            " 0.37619048 0.3452381  0.35952381        nan 0.31904762 0.33333333\n",
            " 0.31904762 0.27619048 0.33333333 0.30238095 0.33333333 0.28809524\n",
            "        nan 0.32142857 0.33571429 0.36428571 0.35       0.40714286\n",
            " 0.33333333 0.3047619  0.33333333        nan 0.31904762 0.27380952\n",
            " 0.33571429 0.36428571 0.36428571 0.36428571 0.33333333 0.33333333\n",
            "        nan 0.36190476 0.34761905 0.37857143 0.39285714 0.40714286\n",
            " 0.34761905 0.37619048 0.37619048        nan 0.30238095 0.31666667\n",
            " 0.34761905 0.31666667 0.30238095 0.30238095 0.31904762 0.28809524\n",
            "        nan 0.32142857 0.37857143 0.37619048 0.36428571 0.36428571\n",
            " 0.33571429 0.33333333 0.3047619         nan 0.35       0.31904762\n",
            " 0.33571429 0.36428571 0.33571429 0.35       0.3047619  0.33333333\n",
            "        nan 0.36190476 0.35       0.39047619 0.39285714 0.34761905\n",
            " 0.39047619 0.37619048 0.36190476        nan 0.27380952 0.30238095\n",
            " 0.31904762 0.33333333 0.31904762 0.31904762 0.3047619  0.31904762]\n",
            "  category=UserWarning,\n"
          ]
        }
      ]
    },
    {
      "cell_type": "code",
      "metadata": {
        "colab": {
          "base_uri": "https://localhost:8080/"
        },
        "id": "DOCuQYQdiHCA",
        "outputId": "53905079-72d9-4306-abc9-a498b8de65ee"
      },
      "source": [
        "from sklearn.metrics import classification_report, confusion_matrix \n",
        "print(grid.best_params_) \n",
        "print(classification_report(y_test, grid_predictions))"
      ],
      "execution_count": 259,
      "outputs": [
        {
          "output_type": "stream",
          "name": "stdout",
          "text": [
            "{'criterion': 'gini', 'max_depth': 2, 'min_samples_leaf': 1, 'min_samples_split': 2}\n",
            "              precision    recall  f1-score   support\n",
            "\n",
            "           3       0.00      0.00      0.00         0\n",
            "           4       0.00      0.00      0.00         3\n",
            "           5       0.00      0.00      0.00         1\n",
            "           6       0.81      0.93      0.87        14\n",
            "\n",
            "    accuracy                           0.72        18\n",
            "   macro avg       0.20      0.23      0.22        18\n",
            "weighted avg       0.63      0.72      0.67        18\n",
            "\n"
          ]
        },
        {
          "output_type": "stream",
          "name": "stderr",
          "text": [
            "/usr/local/lib/python3.7/dist-packages/sklearn/metrics/_classification.py:1308: UndefinedMetricWarning: Precision and F-score are ill-defined and being set to 0.0 in labels with no predicted samples. Use `zero_division` parameter to control this behavior.\n",
            "  _warn_prf(average, modifier, msg_start, len(result))\n",
            "/usr/local/lib/python3.7/dist-packages/sklearn/metrics/_classification.py:1308: UndefinedMetricWarning: Recall and F-score are ill-defined and being set to 0.0 in labels with no true samples. Use `zero_division` parameter to control this behavior.\n",
            "  _warn_prf(average, modifier, msg_start, len(result))\n",
            "/usr/local/lib/python3.7/dist-packages/sklearn/metrics/_classification.py:1308: UndefinedMetricWarning: Precision and F-score are ill-defined and being set to 0.0 in labels with no predicted samples. Use `zero_division` parameter to control this behavior.\n",
            "  _warn_prf(average, modifier, msg_start, len(result))\n",
            "/usr/local/lib/python3.7/dist-packages/sklearn/metrics/_classification.py:1308: UndefinedMetricWarning: Recall and F-score are ill-defined and being set to 0.0 in labels with no true samples. Use `zero_division` parameter to control this behavior.\n",
            "  _warn_prf(average, modifier, msg_start, len(result))\n",
            "/usr/local/lib/python3.7/dist-packages/sklearn/metrics/_classification.py:1308: UndefinedMetricWarning: Precision and F-score are ill-defined and being set to 0.0 in labels with no predicted samples. Use `zero_division` parameter to control this behavior.\n",
            "  _warn_prf(average, modifier, msg_start, len(result))\n",
            "/usr/local/lib/python3.7/dist-packages/sklearn/metrics/_classification.py:1308: UndefinedMetricWarning: Recall and F-score are ill-defined and being set to 0.0 in labels with no true samples. Use `zero_division` parameter to control this behavior.\n",
            "  _warn_prf(average, modifier, msg_start, len(result))\n"
          ]
        }
      ]
    },
    {
      "cell_type": "code",
      "metadata": {
        "colab": {
          "base_uri": "https://localhost:8080/"
        },
        "id": "LwSjMZSJhscd",
        "outputId": "1f5e7dcc-6cf2-4219-97b1-dfe6988dea8a"
      },
      "source": [
        "print(\"i : \",dictp['i'],\" accuracy : \",dictp['accuracy'])"
      ],
      "execution_count": 256,
      "outputs": [
        {
          "output_type": "stream",
          "name": "stdout",
          "text": [
            "i :  25  accuracy :  72.22222222222221\n"
          ]
        }
      ]
    },
    {
      "cell_type": "markdown",
      "metadata": {
        "id": "UYG9KrrBI9xc"
      },
      "source": [
        "# **KNN**"
      ]
    },
    {
      "cell_type": "code",
      "metadata": {
        "id": "8YolGLYyOp89"
      },
      "source": [
        "from sklearn.preprocessing import StandardScaler\n",
        "X_train, X_test, y_train, y_test = train_test_split(X, y, test_size=0.2,random_state=25)\n",
        "scaler = StandardScaler()\n",
        "scaler.fit(X_train)\n",
        "\n",
        "X_train = scaler.transform(X_train)\n",
        "X_test = scaler.transform(X_test)"
      ],
      "execution_count": 260,
      "outputs": []
    },
    {
      "cell_type": "code",
      "metadata": {
        "colab": {
          "base_uri": "https://localhost:8080/"
        },
        "id": "vXqhHEtHJEei",
        "outputId": "fa131340-949d-4db3-f0bf-6d44865134fd"
      },
      "source": [
        "from sklearn.neighbors import KNeighborsClassifier\n",
        "from sklearn import metrics\n",
        "KNN = KNeighborsClassifier()\n",
        "#KNN.fit(X_train, y_train)\n",
        "mean_acc = np.zeros(20)\n",
        "for i in range(1,21):\n",
        "    #Train Model and Predict  \n",
        "    knn = KNeighborsClassifier(n_neighbors = i).fit(X_train,y_train)\n",
        "    yhat= knn.predict(X_test)\n",
        "    mean_acc[i-1] = metrics.accuracy_score(y_test, yhat)\n",
        "\n",
        "mean_acc"
      ],
      "execution_count": 261,
      "outputs": [
        {
          "output_type": "execute_result",
          "data": {
            "text/plain": [
              "array([0.44444444, 0.22222222, 0.38888889, 0.5       , 0.38888889,\n",
              "       0.5       , 0.5       , 0.61111111, 0.77777778, 0.77777778,\n",
              "       0.77777778, 0.66666667, 0.72222222, 0.72222222, 0.77777778,\n",
              "       0.72222222, 0.72222222, 0.77777778, 0.72222222, 0.72222222])"
            ]
          },
          "metadata": {},
          "execution_count": 261
        }
      ]
    },
    {
      "cell_type": "code",
      "metadata": {
        "colab": {
          "base_uri": "https://localhost:8080/",
          "height": 389
        },
        "id": "iKZ_3woTlKxl",
        "outputId": "11857049-8e75-454c-ebfc-f40937fc1fd1"
      },
      "source": [
        "loc = np.arange(1,21,step=1.0)\n",
        "plt.figure(figsize = (10, 6))\n",
        "plt.plot(range(1,21), mean_acc)\n",
        "plt.xticks(loc)\n",
        "plt.xlabel('Number of Neighbors ')\n",
        "plt.ylabel('Accuracy')\n",
        "plt.show()"
      ],
      "execution_count": 262,
      "outputs": [
        {
          "output_type": "display_data",
          "data": {
            "image/png": "[encoded data removed]",
            "text/plain": [
              "<Figure size 720x432 with 1 Axes>"
            ]
          },
          "metadata": {
            "needs_background": "light"
          }
        }
      ]
    },
    {
      "cell_type": "code",
      "metadata": {
        "id": "p3VZjBWWlXNr"
      },
      "source": [
        "grid_params = { 'n_neighbors' : [5,7,9,11,13,15],\n",
        "               'weights' : ['uniform','distance'],\n",
        "               'metric' : ['minkowski','euclidean','manhattan']}"
      ],
      "execution_count": 264,
      "outputs": []
    },
    {
      "cell_type": "code",
      "metadata": {
        "colab": {
          "base_uri": "https://localhost:8080/"
        },
        "id": "ZIE_WLKbldC_",
        "outputId": "f6e3be61-3878-4610-d1a6-c68c31f63445"
      },
      "source": [
        "gs = GridSearchCV(KNeighborsClassifier(), grid_params, verbose = 1, cv=3, n_jobs = -1)\n",
        "# fit the model on our train set\n",
        "g_res = gs.fit(X_train, y_train)\n",
        "# get the hyperparameters with the best score\n",
        "g_res.best_params_"
      ],
      "execution_count": 265,
      "outputs": [
        {
          "output_type": "stream",
          "name": "stdout",
          "text": [
            "Fitting 3 folds for each of 36 candidates, totalling 108 fits\n"
          ]
        },
        {
          "output_type": "stream",
          "name": "stderr",
          "text": [
            "/usr/local/lib/python3.7/dist-packages/sklearn/model_selection/_split.py:680: UserWarning: The least populated class in y has only 1 members, which is less than n_splits=3.\n",
            "  UserWarning,\n"
          ]
        },
        {
          "output_type": "execute_result",
          "data": {
            "text/plain": [
              "{'metric': 'minkowski', 'n_neighbors': 11, 'weights': 'distance'}"
            ]
          },
          "metadata": {},
          "execution_count": 265
        }
      ]
    },
    {
      "cell_type": "code",
      "metadata": {
        "colab": {
          "base_uri": "https://localhost:8080/"
        },
        "id": "U3pPNVsdl0bs",
        "outputId": "4fda99b5-a81a-4c45-f123-9c4508f1de75"
      },
      "source": [
        "# use the best hyperparameters\n",
        "knn = KNeighborsClassifier(n_neighbors = 11, weights = 'distance',algorithm = 'brute',metric = 'minkowski')\n",
        "knn.fit(X_train, y_train)"
      ],
      "execution_count": 266,
      "outputs": [
        {
          "output_type": "execute_result",
          "data": {
            "text/plain": [
              "KNeighborsClassifier(algorithm='brute', n_neighbors=11, weights='distance')"
            ]
          },
          "metadata": {},
          "execution_count": 266
        }
      ]
    },
    {
      "cell_type": "code",
      "metadata": {
        "id": "tC2VbwQ2mGu6"
      },
      "source": [
        "# get a prediction\n",
        "y_hat = knn.predict(X_train)\n",
        "y_knn = knn.predict(X_test)"
      ],
      "execution_count": 267,
      "outputs": []
    },
    {
      "cell_type": "code",
      "metadata": {
        "colab": {
          "base_uri": "https://localhost:8080/"
        },
        "id": "ZOWoP_10mL1d",
        "outputId": "a500e171-41a5-4da0-acf9-46c9cc7707ce"
      },
      "source": [
        "print('Training set accuracy: ', metrics.accuracy_score(y_train, y_hat))\n",
        "print('Test set accuracy: ',metrics.accuracy_score(y_test, y_knn))"
      ],
      "execution_count": 268,
      "outputs": [
        {
          "output_type": "stream",
          "name": "stdout",
          "text": [
            "Training set accuracy:  1.0\n",
            "Test set accuracy:  0.7777777777777778\n"
          ]
        }
      ]
    },
    {
      "cell_type": "code",
      "metadata": {
        "id": "ZEqE5OX2JZdG",
        "colab": {
          "base_uri": "https://localhost:8080/"
        },
        "outputId": "8712e539-c8c0-4a34-b1e8-0f5227f1f00a"
      },
      "source": [
        "error = []\n",
        "\n",
        "# Calculating error for K values between 1 and 40\n",
        "for i in range(1, 40):\n",
        "    knn = KNeighborsClassifier(n_neighbors=i)\n",
        "    knn.fit(X_train, y_train)\n",
        "    pred_i = knn.predict(X_test)\n",
        "    error.append(np.mean(pred_i != y_test))\n",
        "    print(np.mean(pred_i != y_test))"
      ],
      "execution_count": 269,
      "outputs": [
        {
          "output_type": "stream",
          "name": "stdout",
          "text": [
            "0.5555555555555556\n",
            "0.7777777777777778\n",
            "0.6111111111111112\n",
            "0.5\n",
            "0.6111111111111112\n",
            "0.5\n",
            "0.5\n",
            "0.3888888888888889\n",
            "0.2222222222222222\n",
            "0.2222222222222222\n",
            "0.2222222222222222\n",
            "0.3333333333333333\n",
            "0.2777777777777778\n",
            "0.2777777777777778\n",
            "0.2222222222222222\n",
            "0.2777777777777778\n",
            "0.2777777777777778\n",
            "0.2222222222222222\n",
            "0.2777777777777778\n",
            "0.2777777777777778\n",
            "0.2777777777777778\n",
            "0.2777777777777778\n",
            "0.2777777777777778\n",
            "0.2777777777777778\n",
            "0.2777777777777778\n",
            "0.2777777777777778\n",
            "0.3333333333333333\n",
            "0.3333333333333333\n",
            "0.2777777777777778\n",
            "0.2222222222222222\n",
            "0.2222222222222222\n",
            "0.2222222222222222\n",
            "0.2222222222222222\n",
            "0.2222222222222222\n",
            "0.2222222222222222\n",
            "0.2222222222222222\n",
            "0.2222222222222222\n",
            "0.2222222222222222\n",
            "0.2222222222222222\n"
          ]
        }
      ]
    },
    {
      "cell_type": "code",
      "metadata": {
        "id": "hq4Ttf_ZJe7U",
        "colab": {
          "base_uri": "https://localhost:8080/",
          "height": 421
        },
        "outputId": "00cc4b10-11c5-4a4e-b69d-ad71f6082a86"
      },
      "source": [
        "plt.figure(figsize=(12, 6))\n",
        "plt.plot(range(1, 40), error, color='red', linestyle='dashed', marker='o',\n",
        "         markerfacecolor='blue', markersize=10)\n",
        "plt.title('Error Rate K Value')\n",
        "plt.xlabel('K Value')\n",
        "plt.ylabel('Mean Error')"
      ],
      "execution_count": 270,
      "outputs": [
        {
          "output_type": "execute_result",
          "data": {
            "text/plain": [
              "Text(0, 0.5, 'Mean Error')"
            ]
          },
          "metadata": {},
          "execution_count": 270
        },
        {
          "output_type": "display_data",
          "data": {
            "image/png": "[encoded data removed]",
            "text/plain": [
              "<Figure size 864x432 with 1 Axes>"
            ]
          },
          "metadata": {
            "needs_background": "light"
          }
        }
      ]
    }
  ]
}