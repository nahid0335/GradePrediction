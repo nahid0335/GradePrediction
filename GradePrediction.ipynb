{
  "nbformat": 4,
  "nbformat_minor": 0,
  "metadata": {
    "colab": {
      "name": "GradePrediction.ipynb",
      "provenance": [],
      "authorship_tag": "ABX9TyMoB2KP7Le89+Fo2/vgYvD4",
      "include_colab_link": true
    },
    "kernelspec": {
      "name": "python3",
      "display_name": "Python 3"
    },
    "language_info": {
      "name": "python"
    }
  },
  "cells": [
    {
      "cell_type": "markdown",
      "metadata": {
        "id": "view-in-github",
        "colab_type": "text"
      },
      "source": [
        "<a href=\"https://colab.research.google.com/github/nahid0335/GradePrediction/blob/main/GradePrediction.ipynb\" target=\"_parent\"><img src=\"https://colab.research.google.com/assets/colab-badge.svg\" alt=\"Open In Colab\"/></a>"
      ]
    },
    {
      "cell_type": "markdown",
      "metadata": {
        "id": "Cu_ScoiUAY0L"
      },
      "source": [
        "# **Decision Tree**"
      ]
    },
    {
      "cell_type": "code",
      "metadata": {
        "id": "ogo9YPhtASVl"
      },
      "source": [
        "import numpy as np \n",
        "import pandas as pd \n",
        "import sklearn\n",
        "from sklearn.model_selection import train_test_split\n",
        "from sklearn.metrics import confusion_matrix \n",
        "from sklearn.tree import DecisionTreeClassifier \n",
        "from sklearn.metrics import accuracy_score \n",
        "from matplotlib import pyplot as plt\n",
        "from sklearn import tree"
      ],
      "execution_count": 39,
      "outputs": []
    },
    {
      "cell_type": "code",
      "metadata": {
        "colab": {
          "base_uri": "https://localhost:8080/"
        },
        "id": "T3YTygSVA6nk",
        "outputId": "d79f4c5d-dea4-493c-c618-e18ff285009b"
      },
      "source": [
        "from google.colab import drive\n",
        "drive.mount('/content/drive')"
      ],
      "execution_count": 40,
      "outputs": [
        {
          "output_type": "stream",
          "name": "stdout",
          "text": [
            "Mounted at /content/drive\n"
          ]
        }
      ]
    },
    {
      "cell_type": "code",
      "metadata": {
        "id": "TIypscqEBHPi"
      },
      "source": [
        "# load dataset\n",
        "df = pd.read_csv(\"/content/drive/Shareddrives/share drive/Dataset/Grade prediction data/Grade Prediction Data (Responses).csv\")"
      ],
      "execution_count": 41,
      "outputs": []
    },
    {
      "cell_type": "code",
      "metadata": {
        "id": "IIKeIrPQBT66",
        "colab": {
          "base_uri": "https://localhost:8080/",
          "height": 258
        },
        "outputId": "8436f10d-ed94-4747-8d1b-f6e7a2a37ccf"
      },
      "source": [
        "df.head()\n",
        "#df.replace(np.nan,0)"
      ],
      "execution_count": 42,
      "outputs": [
        {
          "output_type": "execute_result",
          "data": {
            "text/html": [
              "<div>\n",
              "<style scoped>\n",
              "    .dataframe tbody tr th:only-of-type {\n",
              "        vertical-align: middle;\n",
              "    }\n",
              "\n",
              "    .dataframe tbody tr th {\n",
              "        vertical-align: top;\n",
              "    }\n",
              "\n",
              "    .dataframe thead th {\n",
              "        text-align: right;\n",
              "    }\n",
              "</style>\n",
              "<table border=\"1\" class=\"dataframe\">\n",
              "  <thead>\n",
              "    <tr style=\"text-align: right;\">\n",
              "      <th></th>\n",
              "      <th>Daily Study Hour (0 - )</th>\n",
              "      <th>Average CT Marks (0 - 20)</th>\n",
              "      <th>Class Attendance (percentage)</th>\n",
              "      <th>PL/SPL Study Hours (Daily) (0 - )</th>\n",
              "      <th>PL/SPL Sleeping Hours (Daily Average)</th>\n",
              "      <th>Average Sleeping Hours (Daily)</th>\n",
              "      <th>Social Media Hours (Daily Average)</th>\n",
              "      <th>PL/SPL Social Media Hours (Daily Average)</th>\n",
              "      <th>Concentration in Classes (0 - 10)</th>\n",
              "      <th>Confidence (0 - 10)</th>\n",
              "      <th>Final Grade (last Semester - 3-2) (GPA)</th>\n",
              "    </tr>\n",
              "  </thead>\n",
              "  <tbody>\n",
              "    <tr>\n",
              "      <th>0</th>\n",
              "      <td>1.0</td>\n",
              "      <td>8.0</td>\n",
              "      <td>65.0</td>\n",
              "      <td>12.0</td>\n",
              "      <td>6.0</td>\n",
              "      <td>8.0</td>\n",
              "      <td>3.0</td>\n",
              "      <td>1.0</td>\n",
              "      <td>NaN</td>\n",
              "      <td>3.0</td>\n",
              "      <td>3.25</td>\n",
              "    </tr>\n",
              "    <tr>\n",
              "      <th>1</th>\n",
              "      <td>2.0</td>\n",
              "      <td>12.0</td>\n",
              "      <td>95.0</td>\n",
              "      <td>9.0</td>\n",
              "      <td>10.0</td>\n",
              "      <td>10.0</td>\n",
              "      <td>2.0</td>\n",
              "      <td>1.0</td>\n",
              "      <td>7.0</td>\n",
              "      <td>7.0</td>\n",
              "      <td>3.84</td>\n",
              "    </tr>\n",
              "    <tr>\n",
              "      <th>2</th>\n",
              "      <td>2.0</td>\n",
              "      <td>15.0</td>\n",
              "      <td>96.0</td>\n",
              "      <td>13.0</td>\n",
              "      <td>6.0</td>\n",
              "      <td>8.0</td>\n",
              "      <td>5.0</td>\n",
              "      <td>2.0</td>\n",
              "      <td>5.0</td>\n",
              "      <td>8.0</td>\n",
              "      <td>3.61</td>\n",
              "    </tr>\n",
              "    <tr>\n",
              "      <th>3</th>\n",
              "      <td>1.0</td>\n",
              "      <td>9.0</td>\n",
              "      <td>70.0</td>\n",
              "      <td>6.0</td>\n",
              "      <td>8.0</td>\n",
              "      <td>8.0</td>\n",
              "      <td>3.0</td>\n",
              "      <td>2.0</td>\n",
              "      <td>7.0</td>\n",
              "      <td>9.0</td>\n",
              "      <td>3.41</td>\n",
              "    </tr>\n",
              "    <tr>\n",
              "      <th>4</th>\n",
              "      <td>1.0</td>\n",
              "      <td>8.0</td>\n",
              "      <td>60.0</td>\n",
              "      <td>10.0</td>\n",
              "      <td>9.0</td>\n",
              "      <td>8.0</td>\n",
              "      <td>2.0</td>\n",
              "      <td>2.0</td>\n",
              "      <td>3.0</td>\n",
              "      <td>4.0</td>\n",
              "      <td>3.14</td>\n",
              "    </tr>\n",
              "  </tbody>\n",
              "</table>\n",
              "</div>"
            ],
            "text/plain": [
              "   Daily Study Hour (0 - )  ...  Final Grade (last Semester - 3-2) (GPA) \n",
              "0                      1.0  ...                                      3.25\n",
              "1                      2.0  ...                                      3.84\n",
              "2                      2.0  ...                                      3.61\n",
              "3                      1.0  ...                                      3.41\n",
              "4                      1.0  ...                                      3.14\n",
              "\n",
              "[5 rows x 11 columns]"
            ]
          },
          "metadata": {},
          "execution_count": 42
        }
      ]
    },
    {
      "cell_type": "code",
      "metadata": {
        "id": "n9ovX2rhBZGs"
      },
      "source": [
        "drive.flush_and_unmount()"
      ],
      "execution_count": 43,
      "outputs": []
    },
    {
      "cell_type": "code",
      "metadata": {
        "id": "fdd67Po6NKyj",
        "colab": {
          "base_uri": "https://localhost:8080/"
        },
        "outputId": "1f0d1255-2a32-42fa-a66f-d319f8f93b38"
      },
      "source": [
        "df = df.dropna()\n",
        "df.info()"
      ],
      "execution_count": 44,
      "outputs": [
        {
          "output_type": "stream",
          "name": "stdout",
          "text": [
            "<class 'pandas.core.frame.DataFrame'>\n",
            "Int64Index: 87 entries, 1 to 87\n",
            "Data columns (total 11 columns):\n",
            " #   Column                                     Non-Null Count  Dtype  \n",
            "---  ------                                     --------------  -----  \n",
            " 0   Daily Study Hour (0 - )                    87 non-null     float64\n",
            " 1   Average CT Marks (0 - 20)                  87 non-null     float64\n",
            " 2   Class Attendance (percentage)              87 non-null     float64\n",
            " 3   PL/SPL Study Hours (Daily) (0 - )          87 non-null     float64\n",
            " 4   PL/SPL Sleeping Hours (Daily Average)      87 non-null     float64\n",
            " 5   Average Sleeping Hours (Daily)             87 non-null     float64\n",
            " 6   Social Media Hours (Daily Average)         87 non-null     float64\n",
            " 7   PL/SPL Social Media Hours (Daily Average)  87 non-null     float64\n",
            " 8   Concentration in Classes (0 - 10)          87 non-null     float64\n",
            " 9   Confidence (0 - 10)                        87 non-null     float64\n",
            " 10  Final Grade (last Semester - 3-2) (GPA)    87 non-null     float64\n",
            "dtypes: float64(11)\n",
            "memory usage: 8.2 KB\n"
          ]
        }
      ]
    },
    {
      "cell_type": "code",
      "metadata": {
        "id": "_-ZTjv5yBd3f"
      },
      "source": [
        "# feature selection\n",
        "feature_cols = ['Daily Study Hour (0 - )', 'Average CT Marks (0 - 20)', 'Class Attendance (percentage)', 'PL/SPL Study Hours (Daily) (0 - )',\n",
        "                'PL/SPL Sleeping Hours (Daily Average)', 'Average Sleeping Hours (Daily)', 'Social Media Hours (Daily Average)',\n",
        "                'PL/SPL Social Media Hours (Daily Average)','Concentration in Classes (0 - 10)','Confidence (0 - 10)']\n",
        "X = df[feature_cols].values.tolist()\n",
        "y = df['Final Grade (last Semester - 3-2) (GPA) '].values.tolist()"
      ],
      "execution_count": 45,
      "outputs": []
    },
    {
      "cell_type": "code",
      "metadata": {
        "colab": {
          "base_uri": "https://localhost:8080/"
        },
        "id": "Ni7BwtxTCKzR",
        "outputId": "e3d7ba9d-902d-4d0d-b598-d0059492ef92"
      },
      "source": [
        "print(X[0:5])\n",
        "print(y[0:5])"
      ],
      "execution_count": 46,
      "outputs": [
        {
          "output_type": "stream",
          "name": "stdout",
          "text": [
            "[[2.0, 12.0, 95.0, 9.0, 10.0, 10.0, 2.0, 1.0, 7.0, 7.0], [2.0, 15.0, 96.0, 13.0, 6.0, 8.0, 5.0, 2.0, 5.0, 8.0], [1.0, 9.0, 70.0, 6.0, 8.0, 8.0, 3.0, 2.0, 7.0, 9.0], [1.0, 8.0, 60.0, 10.0, 9.0, 8.0, 2.0, 2.0, 3.0, 4.0], [2.0, 15.0, 80.0, 10.0, 5.0, 7.0, 1.0, 0.0, 7.0, 9.0]]\n",
            "[3.84, 3.61, 3.41, 3.14, 3.88]\n"
          ]
        }
      ]
    },
    {
      "cell_type": "code",
      "metadata": {
        "id": "cFMQT0NGCb1Q"
      },
      "source": [
        "for i in range(len(y)):\n",
        "  if y[i]>=3.75:\n",
        "    y[i]=6\n",
        "  elif y[i]>= 3.5:\n",
        "    y[i]=5\n",
        "  elif y[i]>=3.25:\n",
        "    y[i]=4\n",
        "  elif y[i]>=3.0 :\n",
        "    y[i]=3\n",
        "  elif y[i]>=2.75 :\n",
        "    y[i]=2\n",
        "  elif y[i]>= 2.5:\n",
        "    y[i]=1\n",
        "  else:\n",
        "    y[i]=0"
      ],
      "execution_count": 47,
      "outputs": []
    },
    {
      "cell_type": "code",
      "metadata": {
        "colab": {
          "base_uri": "https://localhost:8080/"
        },
        "id": "Io5fDBm4DnaR",
        "outputId": "24fc7576-1c2a-4942-ee1c-88a7a7d549dc"
      },
      "source": [
        "print(y[0:5])"
      ],
      "execution_count": 48,
      "outputs": [
        {
          "output_type": "stream",
          "name": "stdout",
          "text": [
            "[6, 5, 4, 3, 6]\n"
          ]
        }
      ]
    },
    {
      "cell_type": "code",
      "metadata": {
        "id": "XMKBFy6bHhg4"
      },
      "source": [
        "# Split dataset into training set and test set\n",
        "X_train, X_test, y_train, y_test = train_test_split(X, y, test_size=0.2, random_state=42) # 80% training and 20% test"
      ],
      "execution_count": 49,
      "outputs": []
    },
    {
      "cell_type": "code",
      "metadata": {
        "colab": {
          "base_uri": "https://localhost:8080/"
        },
        "id": "oI1Vc6LyGTuP",
        "outputId": "75f817ef-c72c-4afa-e1a5-1e7cc0eaad2d"
      },
      "source": [
        "print(np.any(np.isinf(X_train)))\n",
        "print(np.any(np.isinf(X_test)))\n",
        "print(np.any(np.isnan(X_train)))\n",
        "print(np.any(np.isnan(X_test)))\n",
        "\n",
        "#print(X_test)\n",
        "#X_test[np.isnan(X_test)] = 0"
      ],
      "execution_count": 50,
      "outputs": [
        {
          "output_type": "stream",
          "name": "stdout",
          "text": [
            "False\n",
            "False\n",
            "False\n",
            "False\n"
          ]
        }
      ]
    },
    {
      "cell_type": "code",
      "metadata": {
        "id": "e0BDirZF_mdJ"
      },
      "source": [
        "# Create Decision Tree classifer object\n",
        "DT = DecisionTreeClassifier(criterion='entropy')\n",
        "\n",
        "# Train Decision Tree Classifer\n",
        "DT = DT.fit(X_train,y_train)\n",
        "\n",
        "#Predict the response for test dataset\n",
        "y_pred = DT.predict(X_test)"
      ],
      "execution_count": 51,
      "outputs": []
    },
    {
      "cell_type": "code",
      "metadata": {
        "colab": {
          "base_uri": "https://localhost:8080/"
        },
        "id": "F3K2HQ5DIRvN",
        "outputId": "6d1bb659-fd44-46fe-d49c-53d827b879fb"
      },
      "source": [
        "# Model Accuracy, how often is the classifier correct?\n",
        "print(\"Accuracy:\", accuracy_score(y_test, y_pred))"
      ],
      "execution_count": 52,
      "outputs": [
        {
          "output_type": "stream",
          "name": "stdout",
          "text": [
            "Accuracy: 0.4444444444444444\n"
          ]
        }
      ]
    },
    {
      "cell_type": "code",
      "metadata": {
        "id": "yyBnpn6-Iau5",
        "colab": {
          "base_uri": "https://localhost:8080/",
          "height": 1000
        },
        "outputId": "9460650f-8dc3-4fc3-ddbe-a31a60b03c1c"
      },
      "source": [
        "import graphviz \n",
        "dot_data = tree.export_graphviz(DT, out_file=None, \n",
        "                      feature_names=feature_cols,  \n",
        "                      class_names=['0','1','2','3','4','5','6'],  \n",
        "                      filled=True, rounded=True,  \n",
        "                      special_characters=True)  \n",
        "graph = graphviz.Source(dot_data)  \n",
        "graph "
      ],
      "execution_count": 53,
      "outputs": [
        {
          "output_type": "execute_result",
          "data": {
            "text/plain": [
              "<graphviz.files.Source at 0x7f013cf3e650>"
            ],
            "image/svg+xml": "<?xml version=\"1.0\" encoding=\"UTF-8\" standalone=\"no\"?>\n<!DOCTYPE svg PUBLIC \"-//W3C//DTD SVG 1.1//EN\"\n \"http://www.w3.org/Graphics/SVG/1.1/DTD/svg11.dtd\">\n<!-- Generated by graphviz version 2.40.1 (20161225.0304)\n -->\n<!-- Title: Tree Pages: 1 -->\n<svg width=\"2599pt\" height=\"1147pt\"\n viewBox=\"0.00 0.00 2598.50 1147.00\" xmlns=\"http://www.w3.org/2000/svg\" xmlns:xlink=\"http://www.w3.org/1999/xlink\">\n<g id=\"graph0\" class=\"graph\" transform=\"scale(1 1) rotate(0) translate(4 1143)\">\n<title>Tree</title>\n<polygon fill=\"#ffffff\" stroke=\"transparent\" points=\"-4,4 -4,-1143 2594.5,-1143 2594.5,4 -4,4\"/>\n<!-- 0 -->\n<g id=\"node1\" class=\"node\">\n<title>0</title>\n<path fill=\"#f3a5e2\" stroke=\"#000000\" d=\"M1023.5,-1139C1023.5,-1139 816.5,-1139 816.5,-1139 810.5,-1139 804.5,-1133 804.5,-1127 804.5,-1127 804.5,-1068 804.5,-1068 804.5,-1062 810.5,-1056 816.5,-1056 816.5,-1056 1023.5,-1056 1023.5,-1056 1029.5,-1056 1035.5,-1062 1035.5,-1068 1035.5,-1068 1035.5,-1127 1035.5,-1127 1035.5,-1133 1029.5,-1139 1023.5,-1139\"/>\n<text text-anchor=\"start\" x=\"812.5\" y=\"-1123.8\" font-family=\"Helvetica,sans-Serif\" font-size=\"14.00\" fill=\"#000000\">Average CT Marks (0 &#45; 20) ≤ 10.5</text>\n<text text-anchor=\"start\" x=\"877.5\" y=\"-1108.8\" font-family=\"Helvetica,sans-Serif\" font-size=\"14.00\" fill=\"#000000\">entropy = 1.8</text>\n<text text-anchor=\"start\" x=\"876\" y=\"-1093.8\" font-family=\"Helvetica,sans-Serif\" font-size=\"14.00\" fill=\"#000000\">samples = 69</text>\n<text text-anchor=\"start\" x=\"842.5\" y=\"-1078.8\" font-family=\"Helvetica,sans-Serif\" font-size=\"14.00\" fill=\"#000000\">value = [2, 7, 12, 10, 38]</text>\n<text text-anchor=\"start\" x=\"891\" y=\"-1063.8\" font-family=\"Helvetica,sans-Serif\" font-size=\"14.00\" fill=\"#000000\">class = 4</text>\n</g>\n<!-- 1 -->\n<g id=\"node2\" class=\"node\">\n<title>1</title>\n<path fill=\"#caf5b0\" stroke=\"#000000\" d=\"M895.5,-1020C895.5,-1020 664.5,-1020 664.5,-1020 658.5,-1020 652.5,-1014 652.5,-1008 652.5,-1008 652.5,-949 652.5,-949 652.5,-943 658.5,-937 664.5,-937 664.5,-937 895.5,-937 895.5,-937 901.5,-937 907.5,-943 907.5,-949 907.5,-949 907.5,-1008 907.5,-1008 907.5,-1014 901.5,-1020 895.5,-1020\"/>\n<text text-anchor=\"start\" x=\"660.5\" y=\"-1004.8\" font-family=\"Helvetica,sans-Serif\" font-size=\"14.00\" fill=\"#000000\">Average Sleeping Hours (Daily) ≤ 8.5</text>\n<text text-anchor=\"start\" x=\"729\" y=\"-989.8\" font-family=\"Helvetica,sans-Serif\" font-size=\"14.00\" fill=\"#000000\">entropy = 1.959</text>\n<text text-anchor=\"start\" x=\"736\" y=\"-974.8\" font-family=\"Helvetica,sans-Serif\" font-size=\"14.00\" fill=\"#000000\">samples = 12</text>\n<text text-anchor=\"start\" x=\"715\" y=\"-959.8\" font-family=\"Helvetica,sans-Serif\" font-size=\"14.00\" fill=\"#000000\">value = [1, 6, 2, 1, 2]</text>\n<text text-anchor=\"start\" x=\"751\" y=\"-944.8\" font-family=\"Helvetica,sans-Serif\" font-size=\"14.00\" fill=\"#000000\">class = 1</text>\n</g>\n<!-- 0&#45;&gt;1 -->\n<g id=\"edge1\" class=\"edge\">\n<title>0&#45;&gt;1</title>\n<path fill=\"none\" stroke=\"#000000\" d=\"M871.0348,-1055.8796C860.0153,-1046.513 848.2291,-1036.4948 836.9158,-1026.8784\"/>\n<polygon fill=\"#000000\" stroke=\"#000000\" points=\"839.0604,-1024.1078 829.1742,-1020.2981 834.5268,-1029.4414 839.0604,-1024.1078\"/>\n<text text-anchor=\"middle\" x=\"831.1946\" y=\"-1041.5163\" font-family=\"Helvetica,sans-Serif\" font-size=\"14.00\" fill=\"#000000\">True</text>\n</g>\n<!-- 14 -->\n<g id=\"node15\" class=\"node\">\n<title>14</title>\n<path fill=\"#f191dc\" stroke=\"#000000\" d=\"M1207.5,-1020C1207.5,-1020 968.5,-1020 968.5,-1020 962.5,-1020 956.5,-1014 956.5,-1008 956.5,-1008 956.5,-949 956.5,-949 956.5,-943 962.5,-937 968.5,-937 968.5,-937 1207.5,-937 1207.5,-937 1213.5,-937 1219.5,-943 1219.5,-949 1219.5,-949 1219.5,-1008 1219.5,-1008 1219.5,-1014 1213.5,-1020 1207.5,-1020\"/>\n<text text-anchor=\"start\" x=\"964.5\" y=\"-1004.8\" font-family=\"Helvetica,sans-Serif\" font-size=\"14.00\" fill=\"#000000\">Concentration in Classes (0 &#45; 10) ≤ 6.5</text>\n<text text-anchor=\"start\" x=\"1037\" y=\"-989.8\" font-family=\"Helvetica,sans-Serif\" font-size=\"14.00\" fill=\"#000000\">entropy = 1.484</text>\n<text text-anchor=\"start\" x=\"1044\" y=\"-974.8\" font-family=\"Helvetica,sans-Serif\" font-size=\"14.00\" fill=\"#000000\">samples = 57</text>\n<text text-anchor=\"start\" x=\"1014.5\" y=\"-959.8\" font-family=\"Helvetica,sans-Serif\" font-size=\"14.00\" fill=\"#000000\">value = [1, 1, 10, 9, 36]</text>\n<text text-anchor=\"start\" x=\"1059\" y=\"-944.8\" font-family=\"Helvetica,sans-Serif\" font-size=\"14.00\" fill=\"#000000\">class = 4</text>\n</g>\n<!-- 0&#45;&gt;14 -->\n<g id=\"edge14\" class=\"edge\">\n<title>0&#45;&gt;14</title>\n<path fill=\"none\" stroke=\"#000000\" d=\"M978.7582,-1055.8796C992.3143,-1046.2774 1006.8372,-1035.9903 1020.7246,-1026.1534\"/>\n<polygon fill=\"#000000\" stroke=\"#000000\" points=\"1023.1377,-1028.7332 1029.2749,-1020.0969 1019.0916,-1023.021 1023.1377,-1028.7332\"/>\n<text text-anchor=\"middle\" x=\"1025.0675\" y=\"-1041.0403\" font-family=\"Helvetica,sans-Serif\" font-size=\"14.00\" fill=\"#000000\">False</text>\n</g>\n<!-- 2 -->\n<g id=\"node3\" class=\"node\">\n<title>2</title>\n<path fill=\"#b4f08e\" stroke=\"#000000\" d=\"M551,-901C551,-901 399,-901 399,-901 393,-901 387,-895 387,-889 387,-889 387,-830 387,-830 387,-824 393,-818 399,-818 399,-818 551,-818 551,-818 557,-818 563,-824 563,-830 563,-830 563,-889 563,-889 563,-895 557,-901 551,-901\"/>\n<text text-anchor=\"start\" x=\"395\" y=\"-885.8\" font-family=\"Helvetica,sans-Serif\" font-size=\"14.00\" fill=\"#000000\">Confidence (0 &#45; 10) ≤ 3.5</text>\n<text text-anchor=\"start\" x=\"424\" y=\"-870.8\" font-family=\"Helvetica,sans-Serif\" font-size=\"14.00\" fill=\"#000000\">entropy = 1.224</text>\n<text text-anchor=\"start\" x=\"435.5\" y=\"-855.8\" font-family=\"Helvetica,sans-Serif\" font-size=\"14.00\" fill=\"#000000\">samples = 9</text>\n<text text-anchor=\"start\" x=\"410\" y=\"-840.8\" font-family=\"Helvetica,sans-Serif\" font-size=\"14.00\" fill=\"#000000\">value = [1, 6, 2, 0, 0]</text>\n<text text-anchor=\"start\" x=\"446\" y=\"-825.8\" font-family=\"Helvetica,sans-Serif\" font-size=\"14.00\" fill=\"#000000\">class = 1</text>\n</g>\n<!-- 1&#45;&gt;2 -->\n<g id=\"edge2\" class=\"edge\">\n<title>1&#45;&gt;2</title>\n<path fill=\"none\" stroke=\"#000000\" d=\"M673.3258,-936.8796C640.6487,-924.1301 604.8769,-910.1733 572.8206,-897.6661\"/>\n<polygon fill=\"#000000\" stroke=\"#000000\" points=\"574.0309,-894.3814 563.4426,-894.0071 571.4865,-900.9026 574.0309,-894.3814\"/>\n</g>\n<!-- 11 -->\n<g id=\"node12\" class=\"node\">\n<title>11</title>\n<path fill=\"#f29ce0\" stroke=\"#000000\" d=\"M899.5,-901C899.5,-901 660.5,-901 660.5,-901 654.5,-901 648.5,-895 648.5,-889 648.5,-889 648.5,-830 648.5,-830 648.5,-824 654.5,-818 660.5,-818 660.5,-818 899.5,-818 899.5,-818 905.5,-818 911.5,-824 911.5,-830 911.5,-830 911.5,-889 911.5,-889 911.5,-895 905.5,-901 899.5,-901\"/>\n<text text-anchor=\"start\" x=\"656.5\" y=\"-885.8\" font-family=\"Helvetica,sans-Serif\" font-size=\"14.00\" fill=\"#000000\">Concentration in Classes (0 &#45; 10) ≤ 4.5</text>\n<text text-anchor=\"start\" x=\"729\" y=\"-870.8\" font-family=\"Helvetica,sans-Serif\" font-size=\"14.00\" fill=\"#000000\">entropy = 0.918</text>\n<text text-anchor=\"start\" x=\"740.5\" y=\"-855.8\" font-family=\"Helvetica,sans-Serif\" font-size=\"14.00\" fill=\"#000000\">samples = 3</text>\n<text text-anchor=\"start\" x=\"715\" y=\"-840.8\" font-family=\"Helvetica,sans-Serif\" font-size=\"14.00\" fill=\"#000000\">value = [0, 0, 0, 1, 2]</text>\n<text text-anchor=\"start\" x=\"751\" y=\"-825.8\" font-family=\"Helvetica,sans-Serif\" font-size=\"14.00\" fill=\"#000000\">class = 4</text>\n</g>\n<!-- 1&#45;&gt;11 -->\n<g id=\"edge11\" class=\"edge\">\n<title>1&#45;&gt;11</title>\n<path fill=\"none\" stroke=\"#000000\" d=\"M780,-936.8796C780,-928.6838 780,-919.9891 780,-911.5013\"/>\n<polygon fill=\"#000000\" stroke=\"#000000\" points=\"783.5001,-911.298 780,-901.2981 776.5001,-911.2981 783.5001,-911.298\"/>\n</g>\n<!-- 3 -->\n<g id=\"node4\" class=\"node\">\n<title>3</title>\n<path fill=\"#ffffff\" stroke=\"#000000\" d=\"M356.5,-782C356.5,-782 99.5,-782 99.5,-782 93.5,-782 87.5,-776 87.5,-770 87.5,-770 87.5,-711 87.5,-711 87.5,-705 93.5,-699 99.5,-699 99.5,-699 356.5,-699 356.5,-699 362.5,-699 368.5,-705 368.5,-711 368.5,-711 368.5,-770 368.5,-770 368.5,-776 362.5,-782 356.5,-782\"/>\n<text text-anchor=\"start\" x=\"95.5\" y=\"-766.8\" font-family=\"Helvetica,sans-Serif\" font-size=\"14.00\" fill=\"#000000\">Social Media Hours (Daily Average) ≤ 3.0</text>\n<text text-anchor=\"start\" x=\"185.5\" y=\"-751.8\" font-family=\"Helvetica,sans-Serif\" font-size=\"14.00\" fill=\"#000000\">entropy = 1.0</text>\n<text text-anchor=\"start\" x=\"188.5\" y=\"-736.8\" font-family=\"Helvetica,sans-Serif\" font-size=\"14.00\" fill=\"#000000\">samples = 2</text>\n<text text-anchor=\"start\" x=\"163\" y=\"-721.8\" font-family=\"Helvetica,sans-Serif\" font-size=\"14.00\" fill=\"#000000\">value = [1, 0, 1, 0, 0]</text>\n<text text-anchor=\"start\" x=\"199\" y=\"-706.8\" font-family=\"Helvetica,sans-Serif\" font-size=\"14.00\" fill=\"#000000\">class = 0</text>\n</g>\n<!-- 2&#45;&gt;3 -->\n<g id=\"edge3\" class=\"edge\">\n<title>2&#45;&gt;3</title>\n<path fill=\"none\" stroke=\"#000000\" d=\"M388.6114,-817.8796C367.5526,-807.7339 344.9068,-796.8235 323.4532,-786.4876\"/>\n<polygon fill=\"#000000\" stroke=\"#000000\" points=\"324.8679,-783.2842 314.3398,-782.0969 321.8297,-789.5905 324.8679,-783.2842\"/>\n</g>\n<!-- 6 -->\n<g id=\"node7\" class=\"node\">\n<title>6</title>\n<path fill=\"#91e95a\" stroke=\"#000000\" d=\"M551,-782C551,-782 399,-782 399,-782 393,-782 387,-776 387,-770 387,-770 387,-711 387,-711 387,-705 393,-699 399,-699 399,-699 551,-699 551,-699 557,-699 563,-705 563,-711 563,-711 563,-770 563,-770 563,-776 557,-782 551,-782\"/>\n<text text-anchor=\"start\" x=\"395\" y=\"-766.8\" font-family=\"Helvetica,sans-Serif\" font-size=\"14.00\" fill=\"#000000\">Confidence (0 &#45; 10) ≤ 8.0</text>\n<text text-anchor=\"start\" x=\"424\" y=\"-751.8\" font-family=\"Helvetica,sans-Serif\" font-size=\"14.00\" fill=\"#000000\">entropy = 0.592</text>\n<text text-anchor=\"start\" x=\"435.5\" y=\"-736.8\" font-family=\"Helvetica,sans-Serif\" font-size=\"14.00\" fill=\"#000000\">samples = 7</text>\n<text text-anchor=\"start\" x=\"410\" y=\"-721.8\" font-family=\"Helvetica,sans-Serif\" font-size=\"14.00\" fill=\"#000000\">value = [0, 6, 1, 0, 0]</text>\n<text text-anchor=\"start\" x=\"446\" y=\"-706.8\" font-family=\"Helvetica,sans-Serif\" font-size=\"14.00\" fill=\"#000000\">class = 1</text>\n</g>\n<!-- 2&#45;&gt;6 -->\n<g id=\"edge6\" class=\"edge\">\n<title>2&#45;&gt;6</title>\n<path fill=\"none\" stroke=\"#000000\" d=\"M475,-817.8796C475,-809.6838 475,-800.9891 475,-792.5013\"/>\n<polygon fill=\"#000000\" stroke=\"#000000\" points=\"478.5001,-792.298 475,-782.2981 471.5001,-792.2981 478.5001,-792.298\"/>\n</g>\n<!-- 4 -->\n<g id=\"node5\" class=\"node\">\n<title>4</title>\n<path fill=\"#39e5c5\" stroke=\"#000000\" d=\"M134,-655.5C134,-655.5 12,-655.5 12,-655.5 6,-655.5 0,-649.5 0,-643.5 0,-643.5 0,-599.5 0,-599.5 0,-593.5 6,-587.5 12,-587.5 12,-587.5 134,-587.5 134,-587.5 140,-587.5 146,-593.5 146,-599.5 146,-599.5 146,-643.5 146,-643.5 146,-649.5 140,-655.5 134,-655.5\"/>\n<text text-anchor=\"start\" x=\"30.5\" y=\"-640.3\" font-family=\"Helvetica,sans-Serif\" font-size=\"14.00\" fill=\"#000000\">entropy = 0.0</text>\n<text text-anchor=\"start\" x=\"33.5\" y=\"-625.3\" font-family=\"Helvetica,sans-Serif\" font-size=\"14.00\" fill=\"#000000\">samples = 1</text>\n<text text-anchor=\"start\" x=\"8\" y=\"-610.3\" font-family=\"Helvetica,sans-Serif\" font-size=\"14.00\" fill=\"#000000\">value = [0, 0, 1, 0, 0]</text>\n<text text-anchor=\"start\" x=\"44\" y=\"-595.3\" font-family=\"Helvetica,sans-Serif\" font-size=\"14.00\" fill=\"#000000\">class = 2</text>\n</g>\n<!-- 3&#45;&gt;4 -->\n<g id=\"edge4\" class=\"edge\">\n<title>3&#45;&gt;4</title>\n<path fill=\"none\" stroke=\"#000000\" d=\"M173.7885,-698.8796C158.1769,-686.8938 141.1753,-673.841 125.6592,-661.9287\"/>\n<polygon fill=\"#000000\" stroke=\"#000000\" points=\"127.7593,-659.1285 117.6959,-655.8149 123.4965,-664.6808 127.7593,-659.1285\"/>\n</g>\n<!-- 5 -->\n<g id=\"node6\" class=\"node\">\n<title>5</title>\n<path fill=\"#e58139\" stroke=\"#000000\" d=\"M298,-655.5C298,-655.5 176,-655.5 176,-655.5 170,-655.5 164,-649.5 164,-643.5 164,-643.5 164,-599.5 164,-599.5 164,-593.5 170,-587.5 176,-587.5 176,-587.5 298,-587.5 298,-587.5 304,-587.5 310,-593.5 310,-599.5 310,-599.5 310,-643.5 310,-643.5 310,-649.5 304,-655.5 298,-655.5\"/>\n<text text-anchor=\"start\" x=\"194.5\" y=\"-640.3\" font-family=\"Helvetica,sans-Serif\" font-size=\"14.00\" fill=\"#000000\">entropy = 0.0</text>\n<text text-anchor=\"start\" x=\"197.5\" y=\"-625.3\" font-family=\"Helvetica,sans-Serif\" font-size=\"14.00\" fill=\"#000000\">samples = 1</text>\n<text text-anchor=\"start\" x=\"172\" y=\"-610.3\" font-family=\"Helvetica,sans-Serif\" font-size=\"14.00\" fill=\"#000000\">value = [1, 0, 0, 0, 0]</text>\n<text text-anchor=\"start\" x=\"208\" y=\"-595.3\" font-family=\"Helvetica,sans-Serif\" font-size=\"14.00\" fill=\"#000000\">class = 0</text>\n</g>\n<!-- 3&#45;&gt;5 -->\n<g id=\"edge5\" class=\"edge\">\n<title>3&#45;&gt;5</title>\n<path fill=\"none\" stroke=\"#000000\" d=\"M231.1478,-698.8796C231.9545,-688.2134 232.8251,-676.7021 233.6419,-665.9015\"/>\n<polygon fill=\"#000000\" stroke=\"#000000\" points=\"237.1405,-666.0504 234.4048,-655.8149 230.1605,-665.5225 237.1405,-666.0504\"/>\n</g>\n<!-- 7 -->\n<g id=\"node8\" class=\"node\">\n<title>7</title>\n<path fill=\"#7be539\" stroke=\"#000000\" d=\"M478,-655.5C478,-655.5 356,-655.5 356,-655.5 350,-655.5 344,-649.5 344,-643.5 344,-643.5 344,-599.5 344,-599.5 344,-593.5 350,-587.5 356,-587.5 356,-587.5 478,-587.5 478,-587.5 484,-587.5 490,-593.5 490,-599.5 490,-599.5 490,-643.5 490,-643.5 490,-649.5 484,-655.5 478,-655.5\"/>\n<text text-anchor=\"start\" x=\"374.5\" y=\"-640.3\" font-family=\"Helvetica,sans-Serif\" font-size=\"14.00\" fill=\"#000000\">entropy = 0.0</text>\n<text text-anchor=\"start\" x=\"377.5\" y=\"-625.3\" font-family=\"Helvetica,sans-Serif\" font-size=\"14.00\" fill=\"#000000\">samples = 5</text>\n<text text-anchor=\"start\" x=\"352\" y=\"-610.3\" font-family=\"Helvetica,sans-Serif\" font-size=\"14.00\" fill=\"#000000\">value = [0, 5, 0, 0, 0]</text>\n<text text-anchor=\"start\" x=\"388\" y=\"-595.3\" font-family=\"Helvetica,sans-Serif\" font-size=\"14.00\" fill=\"#000000\">class = 1</text>\n</g>\n<!-- 6&#45;&gt;7 -->\n<g id=\"edge7\" class=\"edge\">\n<title>6&#45;&gt;7</title>\n<path fill=\"none\" stroke=\"#000000\" d=\"M454.7144,-698.8796C449.355,-687.8835 443.5578,-675.9893 438.1537,-664.9015\"/>\n<polygon fill=\"#000000\" stroke=\"#000000\" points=\"441.2524,-663.2706 433.7249,-655.8149 434.96,-666.3375 441.2524,-663.2706\"/>\n</g>\n<!-- 8 -->\n<g id=\"node9\" class=\"node\">\n<title>8</title>\n<path fill=\"#ffffff\" stroke=\"#000000\" d=\"M719.5,-663C719.5,-663 520.5,-663 520.5,-663 514.5,-663 508.5,-657 508.5,-651 508.5,-651 508.5,-592 508.5,-592 508.5,-586 514.5,-580 520.5,-580 520.5,-580 719.5,-580 719.5,-580 725.5,-580 731.5,-586 731.5,-592 731.5,-592 731.5,-651 731.5,-651 731.5,-657 725.5,-663 719.5,-663\"/>\n<text text-anchor=\"start\" x=\"516.5\" y=\"-647.8\" font-family=\"Helvetica,sans-Serif\" font-size=\"14.00\" fill=\"#000000\">Average CT Marks (0 &#45; 20) ≤ 8.5</text>\n<text text-anchor=\"start\" x=\"577.5\" y=\"-632.8\" font-family=\"Helvetica,sans-Serif\" font-size=\"14.00\" fill=\"#000000\">entropy = 1.0</text>\n<text text-anchor=\"start\" x=\"580.5\" y=\"-617.8\" font-family=\"Helvetica,sans-Serif\" font-size=\"14.00\" fill=\"#000000\">samples = 2</text>\n<text text-anchor=\"start\" x=\"555\" y=\"-602.8\" font-family=\"Helvetica,sans-Serif\" font-size=\"14.00\" fill=\"#000000\">value = [0, 1, 1, 0, 0]</text>\n<text text-anchor=\"start\" x=\"591\" y=\"-587.8\" font-family=\"Helvetica,sans-Serif\" font-size=\"14.00\" fill=\"#000000\">class = 1</text>\n</g>\n<!-- 6&#45;&gt;8 -->\n<g id=\"edge8\" class=\"edge\">\n<title>6&#45;&gt;8</title>\n<path fill=\"none\" stroke=\"#000000\" d=\"M525.714,-698.8796C537.127,-689.513 549.3341,-679.4948 561.0515,-669.8784\"/>\n<polygon fill=\"#000000\" stroke=\"#000000\" points=\"563.5599,-672.3476 569.0696,-663.2981 559.1191,-666.9366 563.5599,-672.3476\"/>\n</g>\n<!-- 9 -->\n<g id=\"node10\" class=\"node\">\n<title>9</title>\n<path fill=\"#7be539\" stroke=\"#000000\" d=\"M528,-536.5C528,-536.5 406,-536.5 406,-536.5 400,-536.5 394,-530.5 394,-524.5 394,-524.5 394,-480.5 394,-480.5 394,-474.5 400,-468.5 406,-468.5 406,-468.5 528,-468.5 528,-468.5 534,-468.5 540,-474.5 540,-480.5 540,-480.5 540,-524.5 540,-524.5 540,-530.5 534,-536.5 528,-536.5\"/>\n<text text-anchor=\"start\" x=\"424.5\" y=\"-521.3\" font-family=\"Helvetica,sans-Serif\" font-size=\"14.00\" fill=\"#000000\">entropy = 0.0</text>\n<text text-anchor=\"start\" x=\"427.5\" y=\"-506.3\" font-family=\"Helvetica,sans-Serif\" font-size=\"14.00\" fill=\"#000000\">samples = 1</text>\n<text text-anchor=\"start\" x=\"402\" y=\"-491.3\" font-family=\"Helvetica,sans-Serif\" font-size=\"14.00\" fill=\"#000000\">value = [0, 1, 0, 0, 0]</text>\n<text text-anchor=\"start\" x=\"438\" y=\"-476.3\" font-family=\"Helvetica,sans-Serif\" font-size=\"14.00\" fill=\"#000000\">class = 1</text>\n</g>\n<!-- 8&#45;&gt;9 -->\n<g id=\"edge9\" class=\"edge\">\n<title>8&#45;&gt;9</title>\n<path fill=\"none\" stroke=\"#000000\" d=\"M566.488,-579.8796C551.2192,-568.0038 534.6034,-555.0804 519.4016,-543.2568\"/>\n<polygon fill=\"#000000\" stroke=\"#000000\" points=\"521.1616,-540.1916 511.1192,-536.8149 516.8639,-545.7171 521.1616,-540.1916\"/>\n</g>\n<!-- 10 -->\n<g id=\"node11\" class=\"node\">\n<title>10</title>\n<path fill=\"#39e5c5\" stroke=\"#000000\" d=\"M692,-536.5C692,-536.5 570,-536.5 570,-536.5 564,-536.5 558,-530.5 558,-524.5 558,-524.5 558,-480.5 558,-480.5 558,-474.5 564,-468.5 570,-468.5 570,-468.5 692,-468.5 692,-468.5 698,-468.5 704,-474.5 704,-480.5 704,-480.5 704,-524.5 704,-524.5 704,-530.5 698,-536.5 692,-536.5\"/>\n<text text-anchor=\"start\" x=\"588.5\" y=\"-521.3\" font-family=\"Helvetica,sans-Serif\" font-size=\"14.00\" fill=\"#000000\">entropy = 0.0</text>\n<text text-anchor=\"start\" x=\"591.5\" y=\"-506.3\" font-family=\"Helvetica,sans-Serif\" font-size=\"14.00\" fill=\"#000000\">samples = 1</text>\n<text text-anchor=\"start\" x=\"566\" y=\"-491.3\" font-family=\"Helvetica,sans-Serif\" font-size=\"14.00\" fill=\"#000000\">value = [0, 0, 1, 0, 0]</text>\n<text text-anchor=\"start\" x=\"602\" y=\"-476.3\" font-family=\"Helvetica,sans-Serif\" font-size=\"14.00\" fill=\"#000000\">class = 2</text>\n</g>\n<!-- 8&#45;&gt;10 -->\n<g id=\"edge10\" class=\"edge\">\n<title>8&#45;&gt;10</title>\n<path fill=\"none\" stroke=\"#000000\" d=\"M623.8473,-579.8796C624.8332,-569.2134 625.8973,-557.7021 626.8957,-546.9015\"/>\n<polygon fill=\"#000000\" stroke=\"#000000\" points=\"630.3926,-547.0947 627.828,-536.8149 623.4224,-546.4503 630.3926,-547.0947\"/>\n</g>\n<!-- 12 -->\n<g id=\"node13\" class=\"node\">\n<title>12</title>\n<path fill=\"#3c39e5\" stroke=\"#000000\" d=\"M715,-774.5C715,-774.5 593,-774.5 593,-774.5 587,-774.5 581,-768.5 581,-762.5 581,-762.5 581,-718.5 581,-718.5 581,-712.5 587,-706.5 593,-706.5 593,-706.5 715,-706.5 715,-706.5 721,-706.5 727,-712.5 727,-718.5 727,-718.5 727,-762.5 727,-762.5 727,-768.5 721,-774.5 715,-774.5\"/>\n<text text-anchor=\"start\" x=\"611.5\" y=\"-759.3\" font-family=\"Helvetica,sans-Serif\" font-size=\"14.00\" fill=\"#000000\">entropy = 0.0</text>\n<text text-anchor=\"start\" x=\"614.5\" y=\"-744.3\" font-family=\"Helvetica,sans-Serif\" font-size=\"14.00\" fill=\"#000000\">samples = 1</text>\n<text text-anchor=\"start\" x=\"589\" y=\"-729.3\" font-family=\"Helvetica,sans-Serif\" font-size=\"14.00\" fill=\"#000000\">value = [0, 0, 0, 1, 0]</text>\n<text text-anchor=\"start\" x=\"625\" y=\"-714.3\" font-family=\"Helvetica,sans-Serif\" font-size=\"14.00\" fill=\"#000000\">class = 3</text>\n</g>\n<!-- 11&#45;&gt;12 -->\n<g id=\"edge12\" class=\"edge\">\n<title>11&#45;&gt;12</title>\n<path fill=\"none\" stroke=\"#000000\" d=\"M735.9313,-817.8796C723.5898,-806.2237 710.1798,-793.5587 697.851,-781.9148\"/>\n<polygon fill=\"#000000\" stroke=\"#000000\" points=\"700.0068,-779.1366 690.3335,-774.8149 695.2004,-784.2258 700.0068,-779.1366\"/>\n</g>\n<!-- 13 -->\n<g id=\"node14\" class=\"node\">\n<title>13</title>\n<path fill=\"#e539c0\" stroke=\"#000000\" d=\"M879,-774.5C879,-774.5 757,-774.5 757,-774.5 751,-774.5 745,-768.5 745,-762.5 745,-762.5 745,-718.5 745,-718.5 745,-712.5 751,-706.5 757,-706.5 757,-706.5 879,-706.5 879,-706.5 885,-706.5 891,-712.5 891,-718.5 891,-718.5 891,-762.5 891,-762.5 891,-768.5 885,-774.5 879,-774.5\"/>\n<text text-anchor=\"start\" x=\"775.5\" y=\"-759.3\" font-family=\"Helvetica,sans-Serif\" font-size=\"14.00\" fill=\"#000000\">entropy = 0.0</text>\n<text text-anchor=\"start\" x=\"778.5\" y=\"-744.3\" font-family=\"Helvetica,sans-Serif\" font-size=\"14.00\" fill=\"#000000\">samples = 2</text>\n<text text-anchor=\"start\" x=\"753\" y=\"-729.3\" font-family=\"Helvetica,sans-Serif\" font-size=\"14.00\" fill=\"#000000\">value = [0, 0, 0, 0, 2]</text>\n<text text-anchor=\"start\" x=\"789\" y=\"-714.3\" font-family=\"Helvetica,sans-Serif\" font-size=\"14.00\" fill=\"#000000\">class = 4</text>\n</g>\n<!-- 11&#45;&gt;13 -->\n<g id=\"edge13\" class=\"edge\">\n<title>11&#45;&gt;13</title>\n<path fill=\"none\" stroke=\"#000000\" d=\"M793.2906,-817.8796C796.7317,-807.1034 800.4483,-795.4647 803.9279,-784.5677\"/>\n<polygon fill=\"#000000\" stroke=\"#000000\" points=\"807.3344,-785.4057 807.0423,-774.8149 800.6661,-783.2763 807.3344,-785.4057\"/>\n</g>\n<!-- 15 -->\n<g id=\"node16\" class=\"node\">\n<title>15</title>\n<path fill=\"#f9d0f0\" stroke=\"#000000\" d=\"M1206,-901C1206,-901 970,-901 970,-901 964,-901 958,-895 958,-889 958,-889 958,-830 958,-830 958,-824 964,-818 970,-818 970,-818 1206,-818 1206,-818 1212,-818 1218,-824 1218,-830 1218,-830 1218,-889 1218,-889 1218,-895 1212,-901 1206,-901\"/>\n<text text-anchor=\"start\" x=\"966\" y=\"-885.8\" font-family=\"Helvetica,sans-Serif\" font-size=\"14.00\" fill=\"#000000\">Class Attendance (percentage) ≤ 87.5</text>\n<text text-anchor=\"start\" x=\"1037\" y=\"-870.8\" font-family=\"Helvetica,sans-Serif\" font-size=\"14.00\" fill=\"#000000\">entropy = 1.867</text>\n<text text-anchor=\"start\" x=\"1044\" y=\"-855.8\" font-family=\"Helvetica,sans-Serif\" font-size=\"14.00\" fill=\"#000000\">samples = 28</text>\n<text text-anchor=\"start\" x=\"1018.5\" y=\"-840.8\" font-family=\"Helvetica,sans-Serif\" font-size=\"14.00\" fill=\"#000000\">value = [1, 1, 7, 7, 12]</text>\n<text text-anchor=\"start\" x=\"1059\" y=\"-825.8\" font-family=\"Helvetica,sans-Serif\" font-size=\"14.00\" fill=\"#000000\">class = 4</text>\n</g>\n<!-- 14&#45;&gt;15 -->\n<g id=\"edge15\" class=\"edge\">\n<title>14&#45;&gt;15</title>\n<path fill=\"none\" stroke=\"#000000\" d=\"M1088,-936.8796C1088,-928.6838 1088,-919.9891 1088,-911.5013\"/>\n<polygon fill=\"#000000\" stroke=\"#000000\" points=\"1091.5001,-911.298 1088,-901.2981 1084.5001,-911.2981 1091.5001,-911.298\"/>\n</g>\n<!-- 46 -->\n<g id=\"node47\" class=\"node\">\n<title>46</title>\n<path fill=\"#ea5fcc\" stroke=\"#000000\" d=\"M2063.5,-901C2063.5,-901 1856.5,-901 1856.5,-901 1850.5,-901 1844.5,-895 1844.5,-889 1844.5,-889 1844.5,-830 1844.5,-830 1844.5,-824 1850.5,-818 1856.5,-818 1856.5,-818 2063.5,-818 2063.5,-818 2069.5,-818 2075.5,-824 2075.5,-830 2075.5,-830 2075.5,-889 2075.5,-889 2075.5,-895 2069.5,-901 2063.5,-901\"/>\n<text text-anchor=\"start\" x=\"1852.5\" y=\"-885.8\" font-family=\"Helvetica,sans-Serif\" font-size=\"14.00\" fill=\"#000000\">Average CT Marks (0 &#45; 20) ≤ 13.5</text>\n<text text-anchor=\"start\" x=\"1909\" y=\"-870.8\" font-family=\"Helvetica,sans-Serif\" font-size=\"14.00\" fill=\"#000000\">entropy = 0.831</text>\n<text text-anchor=\"start\" x=\"1916\" y=\"-855.8\" font-family=\"Helvetica,sans-Serif\" font-size=\"14.00\" fill=\"#000000\">samples = 29</text>\n<text text-anchor=\"start\" x=\"1890.5\" y=\"-840.8\" font-family=\"Helvetica,sans-Serif\" font-size=\"14.00\" fill=\"#000000\">value = [0, 0, 3, 2, 24]</text>\n<text text-anchor=\"start\" x=\"1931\" y=\"-825.8\" font-family=\"Helvetica,sans-Serif\" font-size=\"14.00\" fill=\"#000000\">class = 4</text>\n</g>\n<!-- 14&#45;&gt;46 -->\n<g id=\"edge46\" class=\"edge\">\n<title>14&#45;&gt;46</title>\n<path fill=\"none\" stroke=\"#000000\" d=\"M1219.9644,-960.4911C1386.4516,-937.7709 1670.7128,-898.9784 1834.22,-876.6649\"/>\n<polygon fill=\"#000000\" stroke=\"#000000\" points=\"1834.8943,-880.1054 1844.3291,-875.2854 1833.9477,-873.1697 1834.8943,-880.1054\"/>\n</g>\n<!-- 16 -->\n<g id=\"node17\" class=\"node\">\n<title>16</title>\n<path fill=\"#f4aae4\" stroke=\"#000000\" d=\"M1178.5,-782C1178.5,-782 921.5,-782 921.5,-782 915.5,-782 909.5,-776 909.5,-770 909.5,-770 909.5,-711 909.5,-711 909.5,-705 915.5,-699 921.5,-699 921.5,-699 1178.5,-699 1178.5,-699 1184.5,-699 1190.5,-705 1190.5,-711 1190.5,-711 1190.5,-770 1190.5,-770 1190.5,-776 1184.5,-782 1178.5,-782\"/>\n<text text-anchor=\"start\" x=\"917.5\" y=\"-766.8\" font-family=\"Helvetica,sans-Serif\" font-size=\"14.00\" fill=\"#000000\">Social Media Hours (Daily Average) ≤ 1.5</text>\n<text text-anchor=\"start\" x=\"999\" y=\"-751.8\" font-family=\"Helvetica,sans-Serif\" font-size=\"14.00\" fill=\"#000000\">entropy = 1.295</text>\n<text text-anchor=\"start\" x=\"1006\" y=\"-736.8\" font-family=\"Helvetica,sans-Serif\" font-size=\"14.00\" fill=\"#000000\">samples = 10</text>\n<text text-anchor=\"start\" x=\"985\" y=\"-721.8\" font-family=\"Helvetica,sans-Serif\" font-size=\"14.00\" fill=\"#000000\">value = [0, 1, 3, 0, 6]</text>\n<text text-anchor=\"start\" x=\"1021\" y=\"-706.8\" font-family=\"Helvetica,sans-Serif\" font-size=\"14.00\" fill=\"#000000\">class = 4</text>\n</g>\n<!-- 15&#45;&gt;16 -->\n<g id=\"edge16\" class=\"edge\">\n<title>15&#45;&gt;16</title>\n<path fill=\"none\" stroke=\"#000000\" d=\"M1074.7094,-817.8796C1072.0348,-809.5037 1069.1937,-800.6067 1066.4269,-791.942\"/>\n<polygon fill=\"#000000\" stroke=\"#000000\" points=\"1069.7234,-790.7595 1063.3473,-782.2981 1063.0552,-792.8889 1069.7234,-790.7595\"/>\n</g>\n<!-- 23 -->\n<g id=\"node24\" class=\"node\">\n<title>23</title>\n<path fill=\"#efeefd\" stroke=\"#000000\" d=\"M1451.5,-782C1451.5,-782 1220.5,-782 1220.5,-782 1214.5,-782 1208.5,-776 1208.5,-770 1208.5,-770 1208.5,-711 1208.5,-711 1208.5,-705 1214.5,-699 1220.5,-699 1220.5,-699 1451.5,-699 1451.5,-699 1457.5,-699 1463.5,-705 1463.5,-711 1463.5,-711 1463.5,-770 1463.5,-770 1463.5,-776 1457.5,-782 1451.5,-782\"/>\n<text text-anchor=\"start\" x=\"1216.5\" y=\"-766.8\" font-family=\"Helvetica,sans-Serif\" font-size=\"14.00\" fill=\"#000000\">Average Sleeping Hours (Daily) ≤ 6.5</text>\n<text text-anchor=\"start\" x=\"1285\" y=\"-751.8\" font-family=\"Helvetica,sans-Serif\" font-size=\"14.00\" fill=\"#000000\">entropy = 1.772</text>\n<text text-anchor=\"start\" x=\"1292\" y=\"-736.8\" font-family=\"Helvetica,sans-Serif\" font-size=\"14.00\" fill=\"#000000\">samples = 18</text>\n<text text-anchor=\"start\" x=\"1271\" y=\"-721.8\" font-family=\"Helvetica,sans-Serif\" font-size=\"14.00\" fill=\"#000000\">value = [1, 0, 4, 7, 6]</text>\n<text text-anchor=\"start\" x=\"1307\" y=\"-706.8\" font-family=\"Helvetica,sans-Serif\" font-size=\"14.00\" fill=\"#000000\">class = 3</text>\n</g>\n<!-- 15&#45;&gt;23 -->\n<g id=\"edge23\" class=\"edge\">\n<title>15&#45;&gt;23</title>\n<path fill=\"none\" stroke=\"#000000\" d=\"M1174.7384,-817.8796C1195.8824,-807.7339 1218.6199,-796.8235 1240.1604,-786.4876\"/>\n<polygon fill=\"#000000\" stroke=\"#000000\" points=\"1241.809,-789.5786 1249.3106,-782.0969 1238.7806,-783.2676 1241.809,-789.5786\"/>\n</g>\n<!-- 17 -->\n<g id=\"node18\" class=\"node\">\n<title>17</title>\n<path fill=\"#7be539\" stroke=\"#000000\" d=\"M892,-655.5C892,-655.5 770,-655.5 770,-655.5 764,-655.5 758,-649.5 758,-643.5 758,-643.5 758,-599.5 758,-599.5 758,-593.5 764,-587.5 770,-587.5 770,-587.5 892,-587.5 892,-587.5 898,-587.5 904,-593.5 904,-599.5 904,-599.5 904,-643.5 904,-643.5 904,-649.5 898,-655.5 892,-655.5\"/>\n<text text-anchor=\"start\" x=\"788.5\" y=\"-640.3\" font-family=\"Helvetica,sans-Serif\" font-size=\"14.00\" fill=\"#000000\">entropy = 0.0</text>\n<text text-anchor=\"start\" x=\"791.5\" y=\"-625.3\" font-family=\"Helvetica,sans-Serif\" font-size=\"14.00\" fill=\"#000000\">samples = 1</text>\n<text text-anchor=\"start\" x=\"766\" y=\"-610.3\" font-family=\"Helvetica,sans-Serif\" font-size=\"14.00\" fill=\"#000000\">value = [0, 1, 0, 0, 0]</text>\n<text text-anchor=\"start\" x=\"802\" y=\"-595.3\" font-family=\"Helvetica,sans-Serif\" font-size=\"14.00\" fill=\"#000000\">class = 1</text>\n</g>\n<!-- 16&#45;&gt;17 -->\n<g id=\"edge17\" class=\"edge\">\n<title>16&#45;&gt;17</title>\n<path fill=\"none\" stroke=\"#000000\" d=\"M973.4044,-698.8796C950.4283,-686.3948 925.3214,-672.7523 902.6754,-660.4469\"/>\n<polygon fill=\"#000000\" stroke=\"#000000\" points=\"904.2556,-657.3222 893.7979,-655.623 900.9134,-663.4729 904.2556,-657.3222\"/>\n</g>\n<!-- 18 -->\n<g id=\"node19\" class=\"node\">\n<title>18</title>\n<path fill=\"#f29ce0\" stroke=\"#000000\" d=\"M1165.5,-663C1165.5,-663 934.5,-663 934.5,-663 928.5,-663 922.5,-657 922.5,-651 922.5,-651 922.5,-592 922.5,-592 922.5,-586 928.5,-580 934.5,-580 934.5,-580 1165.5,-580 1165.5,-580 1171.5,-580 1177.5,-586 1177.5,-592 1177.5,-592 1177.5,-651 1177.5,-651 1177.5,-657 1171.5,-663 1165.5,-663\"/>\n<text text-anchor=\"start\" x=\"930.5\" y=\"-647.8\" font-family=\"Helvetica,sans-Serif\" font-size=\"14.00\" fill=\"#000000\">Average Sleeping Hours (Daily) ≤ 7.5</text>\n<text text-anchor=\"start\" x=\"999\" y=\"-632.8\" font-family=\"Helvetica,sans-Serif\" font-size=\"14.00\" fill=\"#000000\">entropy = 0.918</text>\n<text text-anchor=\"start\" x=\"1010.5\" y=\"-617.8\" font-family=\"Helvetica,sans-Serif\" font-size=\"14.00\" fill=\"#000000\">samples = 9</text>\n<text text-anchor=\"start\" x=\"985\" y=\"-602.8\" font-family=\"Helvetica,sans-Serif\" font-size=\"14.00\" fill=\"#000000\">value = [0, 0, 3, 0, 6]</text>\n<text text-anchor=\"start\" x=\"1021\" y=\"-587.8\" font-family=\"Helvetica,sans-Serif\" font-size=\"14.00\" fill=\"#000000\">class = 4</text>\n</g>\n<!-- 16&#45;&gt;18 -->\n<g id=\"edge18\" class=\"edge\">\n<title>16&#45;&gt;18</title>\n<path fill=\"none\" stroke=\"#000000\" d=\"M1050,-698.8796C1050,-690.6838 1050,-681.9891 1050,-673.5013\"/>\n<polygon fill=\"#000000\" stroke=\"#000000\" points=\"1053.5001,-673.298 1050,-663.2981 1046.5001,-673.2981 1053.5001,-673.298\"/>\n</g>\n<!-- 19 -->\n<g id=\"node20\" class=\"node\">\n<title>19</title>\n<path fill=\"#e539c0\" stroke=\"#000000\" d=\"M867,-536.5C867,-536.5 745,-536.5 745,-536.5 739,-536.5 733,-530.5 733,-524.5 733,-524.5 733,-480.5 733,-480.5 733,-474.5 739,-468.5 745,-468.5 745,-468.5 867,-468.5 867,-468.5 873,-468.5 879,-474.5 879,-480.5 879,-480.5 879,-524.5 879,-524.5 879,-530.5 873,-536.5 867,-536.5\"/>\n<text text-anchor=\"start\" x=\"763.5\" y=\"-521.3\" font-family=\"Helvetica,sans-Serif\" font-size=\"14.00\" fill=\"#000000\">entropy = 0.0</text>\n<text text-anchor=\"start\" x=\"766.5\" y=\"-506.3\" font-family=\"Helvetica,sans-Serif\" font-size=\"14.00\" fill=\"#000000\">samples = 4</text>\n<text text-anchor=\"start\" x=\"741\" y=\"-491.3\" font-family=\"Helvetica,sans-Serif\" font-size=\"14.00\" fill=\"#000000\">value = [0, 0, 0, 0, 4]</text>\n<text text-anchor=\"start\" x=\"777\" y=\"-476.3\" font-family=\"Helvetica,sans-Serif\" font-size=\"14.00\" fill=\"#000000\">class = 4</text>\n</g>\n<!-- 18&#45;&gt;19 -->\n<g id=\"edge19\" class=\"edge\">\n<title>18&#45;&gt;19</title>\n<path fill=\"none\" stroke=\"#000000\" d=\"M961.3678,-579.9442C937.1801,-568.4445 911.0221,-555.8613 887,-544 885.1936,-543.1081 883.3662,-542.202 881.5244,-541.2855\"/>\n<polygon fill=\"#000000\" stroke=\"#000000\" points=\"882.7349,-537.9775 872.2258,-536.6324 879.6023,-544.2375 882.7349,-537.9775\"/>\n</g>\n<!-- 20 -->\n<g id=\"node21\" class=\"node\">\n<title>20</title>\n<path fill=\"#bdf6ec\" stroke=\"#000000\" d=\"M1191.5,-544C1191.5,-544 908.5,-544 908.5,-544 902.5,-544 896.5,-538 896.5,-532 896.5,-532 896.5,-473 896.5,-473 896.5,-467 902.5,-461 908.5,-461 908.5,-461 1191.5,-461 1191.5,-461 1197.5,-461 1203.5,-467 1203.5,-473 1203.5,-473 1203.5,-532 1203.5,-532 1203.5,-538 1197.5,-544 1191.5,-544\"/>\n<text text-anchor=\"start\" x=\"904.5\" y=\"-528.8\" font-family=\"Helvetica,sans-Serif\" font-size=\"14.00\" fill=\"#000000\">PL/SPL Sleeping Hours (Daily Average) ≤ 7.5</text>\n<text text-anchor=\"start\" x=\"999\" y=\"-513.8\" font-family=\"Helvetica,sans-Serif\" font-size=\"14.00\" fill=\"#000000\">entropy = 0.971</text>\n<text text-anchor=\"start\" x=\"1010.5\" y=\"-498.8\" font-family=\"Helvetica,sans-Serif\" font-size=\"14.00\" fill=\"#000000\">samples = 5</text>\n<text text-anchor=\"start\" x=\"985\" y=\"-483.8\" font-family=\"Helvetica,sans-Serif\" font-size=\"14.00\" fill=\"#000000\">value = [0, 0, 3, 0, 2]</text>\n<text text-anchor=\"start\" x=\"1021\" y=\"-468.8\" font-family=\"Helvetica,sans-Serif\" font-size=\"14.00\" fill=\"#000000\">class = 2</text>\n</g>\n<!-- 18&#45;&gt;20 -->\n<g id=\"edge20\" class=\"edge\">\n<title>18&#45;&gt;20</title>\n<path fill=\"none\" stroke=\"#000000\" d=\"M1050,-579.8796C1050,-571.6838 1050,-562.9891 1050,-554.5013\"/>\n<polygon fill=\"#000000\" stroke=\"#000000\" points=\"1053.5001,-554.298 1050,-544.2981 1046.5001,-554.2981 1053.5001,-554.298\"/>\n</g>\n<!-- 21 -->\n<g id=\"node22\" class=\"node\">\n<title>21</title>\n<path fill=\"#39e5c5\" stroke=\"#000000\" d=\"M947,-417.5C947,-417.5 825,-417.5 825,-417.5 819,-417.5 813,-411.5 813,-405.5 813,-405.5 813,-361.5 813,-361.5 813,-355.5 819,-349.5 825,-349.5 825,-349.5 947,-349.5 947,-349.5 953,-349.5 959,-355.5 959,-361.5 959,-361.5 959,-405.5 959,-405.5 959,-411.5 953,-417.5 947,-417.5\"/>\n<text text-anchor=\"start\" x=\"843.5\" y=\"-402.3\" font-family=\"Helvetica,sans-Serif\" font-size=\"14.00\" fill=\"#000000\">entropy = 0.0</text>\n<text text-anchor=\"start\" x=\"846.5\" y=\"-387.3\" font-family=\"Helvetica,sans-Serif\" font-size=\"14.00\" fill=\"#000000\">samples = 3</text>\n<text text-anchor=\"start\" x=\"821\" y=\"-372.3\" font-family=\"Helvetica,sans-Serif\" font-size=\"14.00\" fill=\"#000000\">value = [0, 0, 3, 0, 0]</text>\n<text text-anchor=\"start\" x=\"857\" y=\"-357.3\" font-family=\"Helvetica,sans-Serif\" font-size=\"14.00\" fill=\"#000000\">class = 2</text>\n</g>\n<!-- 20&#45;&gt;21 -->\n<g id=\"edge21\" class=\"edge\">\n<title>20&#45;&gt;21</title>\n<path fill=\"none\" stroke=\"#000000\" d=\"M992.6408,-460.8796C976.0439,-448.8368 957.9625,-435.7167 941.4824,-423.7586\"/>\n<polygon fill=\"#000000\" stroke=\"#000000\" points=\"943.176,-420.6632 933.0267,-417.623 939.0649,-426.3288 943.176,-420.6632\"/>\n</g>\n<!-- 22 -->\n<g id=\"node23\" class=\"node\">\n<title>22</title>\n<path fill=\"#e539c0\" stroke=\"#000000\" d=\"M1111,-417.5C1111,-417.5 989,-417.5 989,-417.5 983,-417.5 977,-411.5 977,-405.5 977,-405.5 977,-361.5 977,-361.5 977,-355.5 983,-349.5 989,-349.5 989,-349.5 1111,-349.5 1111,-349.5 1117,-349.5 1123,-355.5 1123,-361.5 1123,-361.5 1123,-405.5 1123,-405.5 1123,-411.5 1117,-417.5 1111,-417.5\"/>\n<text text-anchor=\"start\" x=\"1007.5\" y=\"-402.3\" font-family=\"Helvetica,sans-Serif\" font-size=\"14.00\" fill=\"#000000\">entropy = 0.0</text>\n<text text-anchor=\"start\" x=\"1010.5\" y=\"-387.3\" font-family=\"Helvetica,sans-Serif\" font-size=\"14.00\" fill=\"#000000\">samples = 2</text>\n<text text-anchor=\"start\" x=\"985\" y=\"-372.3\" font-family=\"Helvetica,sans-Serif\" font-size=\"14.00\" fill=\"#000000\">value = [0, 0, 0, 0, 2]</text>\n<text text-anchor=\"start\" x=\"1021\" y=\"-357.3\" font-family=\"Helvetica,sans-Serif\" font-size=\"14.00\" fill=\"#000000\">class = 4</text>\n</g>\n<!-- 20&#45;&gt;22 -->\n<g id=\"edge22\" class=\"edge\">\n<title>20&#45;&gt;22</title>\n<path fill=\"none\" stroke=\"#000000\" d=\"M1050,-460.8796C1050,-450.2134 1050,-438.7021 1050,-427.9015\"/>\n<polygon fill=\"#000000\" stroke=\"#000000\" points=\"1053.5001,-427.8149 1050,-417.8149 1046.5001,-427.815 1053.5001,-427.8149\"/>\n</g>\n<!-- 24 -->\n<g id=\"node25\" class=\"node\">\n<title>24</title>\n<path fill=\"#e58139\" stroke=\"#000000\" d=\"M1380,-655.5C1380,-655.5 1258,-655.5 1258,-655.5 1252,-655.5 1246,-649.5 1246,-643.5 1246,-643.5 1246,-599.5 1246,-599.5 1246,-593.5 1252,-587.5 1258,-587.5 1258,-587.5 1380,-587.5 1380,-587.5 1386,-587.5 1392,-593.5 1392,-599.5 1392,-599.5 1392,-643.5 1392,-643.5 1392,-649.5 1386,-655.5 1380,-655.5\"/>\n<text text-anchor=\"start\" x=\"1276.5\" y=\"-640.3\" font-family=\"Helvetica,sans-Serif\" font-size=\"14.00\" fill=\"#000000\">entropy = 0.0</text>\n<text text-anchor=\"start\" x=\"1279.5\" y=\"-625.3\" font-family=\"Helvetica,sans-Serif\" font-size=\"14.00\" fill=\"#000000\">samples = 1</text>\n<text text-anchor=\"start\" x=\"1254\" y=\"-610.3\" font-family=\"Helvetica,sans-Serif\" font-size=\"14.00\" fill=\"#000000\">value = [1, 0, 0, 0, 0]</text>\n<text text-anchor=\"start\" x=\"1290\" y=\"-595.3\" font-family=\"Helvetica,sans-Serif\" font-size=\"14.00\" fill=\"#000000\">class = 0</text>\n</g>\n<!-- 23&#45;&gt;24 -->\n<g id=\"edge24\" class=\"edge\">\n<title>23&#45;&gt;24</title>\n<path fill=\"none\" stroke=\"#000000\" d=\"M1330.0542,-698.8796C1328.5305,-688.2134 1326.886,-676.7021 1325.3431,-665.9015\"/>\n<polygon fill=\"#000000\" stroke=\"#000000\" points=\"1328.7813,-665.2194 1323.9021,-655.8149 1321.8516,-666.2094 1328.7813,-665.2194\"/>\n</g>\n<!-- 25 -->\n<g id=\"node26\" class=\"node\">\n<title>25</title>\n<path fill=\"#ededfd\" stroke=\"#000000\" d=\"M1574,-663C1574,-663 1422,-663 1422,-663 1416,-663 1410,-657 1410,-651 1410,-651 1410,-592 1410,-592 1410,-586 1416,-580 1422,-580 1422,-580 1574,-580 1574,-580 1580,-580 1586,-586 1586,-592 1586,-592 1586,-651 1586,-651 1586,-657 1580,-663 1574,-663\"/>\n<text text-anchor=\"start\" x=\"1418\" y=\"-647.8\" font-family=\"Helvetica,sans-Serif\" font-size=\"14.00\" fill=\"#000000\">Confidence (0 &#45; 10) ≤ 4.5</text>\n<text text-anchor=\"start\" x=\"1447\" y=\"-632.8\" font-family=\"Helvetica,sans-Serif\" font-size=\"14.00\" fill=\"#000000\">entropy = 1.549</text>\n<text text-anchor=\"start\" x=\"1454\" y=\"-617.8\" font-family=\"Helvetica,sans-Serif\" font-size=\"14.00\" fill=\"#000000\">samples = 17</text>\n<text text-anchor=\"start\" x=\"1433\" y=\"-602.8\" font-family=\"Helvetica,sans-Serif\" font-size=\"14.00\" fill=\"#000000\">value = [0, 0, 4, 7, 6]</text>\n<text text-anchor=\"start\" x=\"1469\" y=\"-587.8\" font-family=\"Helvetica,sans-Serif\" font-size=\"14.00\" fill=\"#000000\">class = 3</text>\n</g>\n<!-- 23&#45;&gt;25 -->\n<g id=\"edge25\" class=\"edge\">\n<title>23&#45;&gt;25</title>\n<path fill=\"none\" stroke=\"#000000\" d=\"M1392.6597,-698.8796C1405.7316,-689.2774 1419.7359,-678.9903 1433.1273,-669.1534\"/>\n<polygon fill=\"#000000\" stroke=\"#000000\" points=\"1435.385,-671.8378 1441.3723,-663.0969 1431.2409,-666.1963 1435.385,-671.8378\"/>\n</g>\n<!-- 26 -->\n<g id=\"node27\" class=\"node\">\n<title>26</title>\n<path fill=\"#ee7bd5\" stroke=\"#000000\" d=\"M1583.5,-544C1583.5,-544 1376.5,-544 1376.5,-544 1370.5,-544 1364.5,-538 1364.5,-532 1364.5,-532 1364.5,-473 1364.5,-473 1364.5,-467 1370.5,-461 1376.5,-461 1376.5,-461 1583.5,-461 1583.5,-461 1589.5,-461 1595.5,-467 1595.5,-473 1595.5,-473 1595.5,-532 1595.5,-532 1595.5,-538 1589.5,-544 1583.5,-544\"/>\n<text text-anchor=\"start\" x=\"1372.5\" y=\"-528.8\" font-family=\"Helvetica,sans-Serif\" font-size=\"14.00\" fill=\"#000000\">Average CT Marks (0 &#45; 20) ≤ 13.5</text>\n<text text-anchor=\"start\" x=\"1429\" y=\"-513.8\" font-family=\"Helvetica,sans-Serif\" font-size=\"14.00\" fill=\"#000000\">entropy = 0.811</text>\n<text text-anchor=\"start\" x=\"1440.5\" y=\"-498.8\" font-family=\"Helvetica,sans-Serif\" font-size=\"14.00\" fill=\"#000000\">samples = 4</text>\n<text text-anchor=\"start\" x=\"1415\" y=\"-483.8\" font-family=\"Helvetica,sans-Serif\" font-size=\"14.00\" fill=\"#000000\">value = [0, 0, 1, 0, 3]</text>\n<text text-anchor=\"start\" x=\"1451\" y=\"-468.8\" font-family=\"Helvetica,sans-Serif\" font-size=\"14.00\" fill=\"#000000\">class = 4</text>\n</g>\n<!-- 25&#45;&gt;26 -->\n<g id=\"edge26\" class=\"edge\">\n<title>25&#45;&gt;26</title>\n<path fill=\"none\" stroke=\"#000000\" d=\"M1491.7045,-579.8796C1490.4512,-571.5938 1489.1207,-562.798 1487.8234,-554.2216\"/>\n<polygon fill=\"#000000\" stroke=\"#000000\" points=\"1491.2787,-553.6621 1486.3224,-544.2981 1484.3574,-554.7091 1491.2787,-553.6621\"/>\n</g>\n<!-- 31 -->\n<g id=\"node32\" class=\"node\">\n<title>31</title>\n<path fill=\"#b1b0f5\" stroke=\"#000000\" d=\"M1778,-544C1778,-544 1626,-544 1626,-544 1620,-544 1614,-538 1614,-532 1614,-532 1614,-473 1614,-473 1614,-467 1620,-461 1626,-461 1626,-461 1778,-461 1778,-461 1784,-461 1790,-467 1790,-473 1790,-473 1790,-532 1790,-532 1790,-538 1784,-544 1778,-544\"/>\n<text text-anchor=\"start\" x=\"1622\" y=\"-528.8\" font-family=\"Helvetica,sans-Serif\" font-size=\"14.00\" fill=\"#000000\">Confidence (0 &#45; 10) ≤ 6.5</text>\n<text text-anchor=\"start\" x=\"1651\" y=\"-513.8\" font-family=\"Helvetica,sans-Serif\" font-size=\"14.00\" fill=\"#000000\">entropy = 1.457</text>\n<text text-anchor=\"start\" x=\"1658\" y=\"-498.8\" font-family=\"Helvetica,sans-Serif\" font-size=\"14.00\" fill=\"#000000\">samples = 13</text>\n<text text-anchor=\"start\" x=\"1637\" y=\"-483.8\" font-family=\"Helvetica,sans-Serif\" font-size=\"14.00\" fill=\"#000000\">value = [0, 0, 3, 7, 3]</text>\n<text text-anchor=\"start\" x=\"1673\" y=\"-468.8\" font-family=\"Helvetica,sans-Serif\" font-size=\"14.00\" fill=\"#000000\">class = 3</text>\n</g>\n<!-- 25&#45;&gt;31 -->\n<g id=\"edge31\" class=\"edge\">\n<title>25&#45;&gt;31</title>\n<path fill=\"none\" stroke=\"#000000\" d=\"M1569.3493,-579.8796C1586.2761,-570.0056 1604.4444,-559.4075 1621.7383,-549.3193\"/>\n<polygon fill=\"#000000\" stroke=\"#000000\" points=\"1623.8167,-552.1589 1630.691,-544.0969 1620.2896,-546.1125 1623.8167,-552.1589\"/>\n</g>\n<!-- 27 -->\n<g id=\"node28\" class=\"node\">\n<title>27</title>\n<path fill=\"#ffffff\" stroke=\"#000000\" d=\"M1410.5,-425C1410.5,-425 1153.5,-425 1153.5,-425 1147.5,-425 1141.5,-419 1141.5,-413 1141.5,-413 1141.5,-354 1141.5,-354 1141.5,-348 1147.5,-342 1153.5,-342 1153.5,-342 1410.5,-342 1410.5,-342 1416.5,-342 1422.5,-348 1422.5,-354 1422.5,-354 1422.5,-413 1422.5,-413 1422.5,-419 1416.5,-425 1410.5,-425\"/>\n<text text-anchor=\"start\" x=\"1149.5\" y=\"-409.8\" font-family=\"Helvetica,sans-Serif\" font-size=\"14.00\" fill=\"#000000\">Social Media Hours (Daily Average) ≤ 2.5</text>\n<text text-anchor=\"start\" x=\"1239.5\" y=\"-394.8\" font-family=\"Helvetica,sans-Serif\" font-size=\"14.00\" fill=\"#000000\">entropy = 1.0</text>\n<text text-anchor=\"start\" x=\"1242.5\" y=\"-379.8\" font-family=\"Helvetica,sans-Serif\" font-size=\"14.00\" fill=\"#000000\">samples = 2</text>\n<text text-anchor=\"start\" x=\"1217\" y=\"-364.8\" font-family=\"Helvetica,sans-Serif\" font-size=\"14.00\" fill=\"#000000\">value = [0, 0, 1, 0, 1]</text>\n<text text-anchor=\"start\" x=\"1253\" y=\"-349.8\" font-family=\"Helvetica,sans-Serif\" font-size=\"14.00\" fill=\"#000000\">class = 2</text>\n</g>\n<!-- 26&#45;&gt;27 -->\n<g id=\"edge27\" class=\"edge\">\n<title>26&#45;&gt;27</title>\n<path fill=\"none\" stroke=\"#000000\" d=\"M1410.7492,-460.8796C1394.3203,-451.0056 1376.6864,-440.4075 1359.9011,-430.3193\"/>\n<polygon fill=\"#000000\" stroke=\"#000000\" points=\"1361.5858,-427.2484 1351.2117,-425.0969 1357.9798,-433.2482 1361.5858,-427.2484\"/>\n</g>\n<!-- 30 -->\n<g id=\"node31\" class=\"node\">\n<title>30</title>\n<path fill=\"#e539c0\" stroke=\"#000000\" d=\"M1575,-417.5C1575,-417.5 1453,-417.5 1453,-417.5 1447,-417.5 1441,-411.5 1441,-405.5 1441,-405.5 1441,-361.5 1441,-361.5 1441,-355.5 1447,-349.5 1453,-349.5 1453,-349.5 1575,-349.5 1575,-349.5 1581,-349.5 1587,-355.5 1587,-361.5 1587,-361.5 1587,-405.5 1587,-405.5 1587,-411.5 1581,-417.5 1575,-417.5\"/>\n<text text-anchor=\"start\" x=\"1471.5\" y=\"-402.3\" font-family=\"Helvetica,sans-Serif\" font-size=\"14.00\" fill=\"#000000\">entropy = 0.0</text>\n<text text-anchor=\"start\" x=\"1474.5\" y=\"-387.3\" font-family=\"Helvetica,sans-Serif\" font-size=\"14.00\" fill=\"#000000\">samples = 2</text>\n<text text-anchor=\"start\" x=\"1449\" y=\"-372.3\" font-family=\"Helvetica,sans-Serif\" font-size=\"14.00\" fill=\"#000000\">value = [0, 0, 0, 0, 2]</text>\n<text text-anchor=\"start\" x=\"1485\" y=\"-357.3\" font-family=\"Helvetica,sans-Serif\" font-size=\"14.00\" fill=\"#000000\">class = 4</text>\n</g>\n<!-- 26&#45;&gt;30 -->\n<g id=\"edge30\" class=\"edge\">\n<title>26&#45;&gt;30</title>\n<path fill=\"none\" stroke=\"#000000\" d=\"M1491.8916,-460.8796C1494.9705,-450.1034 1498.2958,-438.4647 1501.4092,-427.5677\"/>\n<polygon fill=\"#000000\" stroke=\"#000000\" points=\"1504.8138,-428.3917 1504.1957,-417.8149 1498.0831,-426.4686 1504.8138,-428.3917\"/>\n</g>\n<!-- 28 -->\n<g id=\"node29\" class=\"node\">\n<title>28</title>\n<path fill=\"#e539c0\" stroke=\"#000000\" d=\"M1182,-298.5C1182,-298.5 1060,-298.5 1060,-298.5 1054,-298.5 1048,-292.5 1048,-286.5 1048,-286.5 1048,-242.5 1048,-242.5 1048,-236.5 1054,-230.5 1060,-230.5 1060,-230.5 1182,-230.5 1182,-230.5 1188,-230.5 1194,-236.5 1194,-242.5 1194,-242.5 1194,-286.5 1194,-286.5 1194,-292.5 1188,-298.5 1182,-298.5\"/>\n<text text-anchor=\"start\" x=\"1078.5\" y=\"-283.3\" font-family=\"Helvetica,sans-Serif\" font-size=\"14.00\" fill=\"#000000\">entropy = 0.0</text>\n<text text-anchor=\"start\" x=\"1081.5\" y=\"-268.3\" font-family=\"Helvetica,sans-Serif\" font-size=\"14.00\" fill=\"#000000\">samples = 1</text>\n<text text-anchor=\"start\" x=\"1056\" y=\"-253.3\" font-family=\"Helvetica,sans-Serif\" font-size=\"14.00\" fill=\"#000000\">value = [0, 0, 0, 0, 1]</text>\n<text text-anchor=\"start\" x=\"1092\" y=\"-238.3\" font-family=\"Helvetica,sans-Serif\" font-size=\"14.00\" fill=\"#000000\">class = 4</text>\n</g>\n<!-- 27&#45;&gt;28 -->\n<g id=\"edge28\" class=\"edge\">\n<title>27&#45;&gt;28</title>\n<path fill=\"none\" stroke=\"#000000\" d=\"M1225.69,-341.8796C1209.3968,-329.8368 1191.6461,-316.7167 1175.4675,-304.7586\"/>\n<polygon fill=\"#000000\" stroke=\"#000000\" points=\"1177.2886,-301.7524 1167.1665,-298.623 1173.1279,-307.3816 1177.2886,-301.7524\"/>\n</g>\n<!-- 29 -->\n<g id=\"node30\" class=\"node\">\n<title>29</title>\n<path fill=\"#39e5c5\" stroke=\"#000000\" d=\"M1346,-298.5C1346,-298.5 1224,-298.5 1224,-298.5 1218,-298.5 1212,-292.5 1212,-286.5 1212,-286.5 1212,-242.5 1212,-242.5 1212,-236.5 1218,-230.5 1224,-230.5 1224,-230.5 1346,-230.5 1346,-230.5 1352,-230.5 1358,-236.5 1358,-242.5 1358,-242.5 1358,-286.5 1358,-286.5 1358,-292.5 1352,-298.5 1346,-298.5\"/>\n<text text-anchor=\"start\" x=\"1242.5\" y=\"-283.3\" font-family=\"Helvetica,sans-Serif\" font-size=\"14.00\" fill=\"#000000\">entropy = 0.0</text>\n<text text-anchor=\"start\" x=\"1245.5\" y=\"-268.3\" font-family=\"Helvetica,sans-Serif\" font-size=\"14.00\" fill=\"#000000\">samples = 1</text>\n<text text-anchor=\"start\" x=\"1220\" y=\"-253.3\" font-family=\"Helvetica,sans-Serif\" font-size=\"14.00\" fill=\"#000000\">value = [0, 0, 1, 0, 0]</text>\n<text text-anchor=\"start\" x=\"1256\" y=\"-238.3\" font-family=\"Helvetica,sans-Serif\" font-size=\"14.00\" fill=\"#000000\">class = 2</text>\n</g>\n<!-- 27&#45;&gt;29 -->\n<g id=\"edge29\" class=\"edge\">\n<title>27&#45;&gt;29</title>\n<path fill=\"none\" stroke=\"#000000\" d=\"M1283.0493,-341.8796C1283.3182,-331.2134 1283.6084,-319.7021 1283.8806,-308.9015\"/>\n<polygon fill=\"#000000\" stroke=\"#000000\" points=\"1287.3817,-308.9 1284.1349,-298.8149 1280.3839,-308.7235 1287.3817,-308.9\"/>\n</g>\n<!-- 32 -->\n<g id=\"node33\" class=\"node\">\n<title>32</title>\n<path fill=\"#9e9cf2\" stroke=\"#000000\" d=\"M1787,-425C1787,-425 1617,-425 1617,-425 1611,-425 1605,-419 1605,-413 1605,-413 1605,-354 1605,-354 1605,-348 1611,-342 1617,-342 1617,-342 1787,-342 1787,-342 1793,-342 1799,-348 1799,-354 1799,-354 1799,-413 1799,-413 1799,-419 1793,-425 1787,-425\"/>\n<text text-anchor=\"start\" x=\"1613\" y=\"-409.8\" font-family=\"Helvetica,sans-Serif\" font-size=\"14.00\" fill=\"#000000\">Daily Study Hour (0 &#45; ) ≤ 3.5</text>\n<text text-anchor=\"start\" x=\"1651\" y=\"-394.8\" font-family=\"Helvetica,sans-Serif\" font-size=\"14.00\" fill=\"#000000\">entropy = 0.918</text>\n<text text-anchor=\"start\" x=\"1662.5\" y=\"-379.8\" font-family=\"Helvetica,sans-Serif\" font-size=\"14.00\" fill=\"#000000\">samples = 6</text>\n<text text-anchor=\"start\" x=\"1637\" y=\"-364.8\" font-family=\"Helvetica,sans-Serif\" font-size=\"14.00\" fill=\"#000000\">value = [0, 0, 0, 4, 2]</text>\n<text text-anchor=\"start\" x=\"1673\" y=\"-349.8\" font-family=\"Helvetica,sans-Serif\" font-size=\"14.00\" fill=\"#000000\">class = 3</text>\n</g>\n<!-- 31&#45;&gt;32 -->\n<g id=\"edge32\" class=\"edge\">\n<title>31&#45;&gt;32</title>\n<path fill=\"none\" stroke=\"#000000\" d=\"M1702,-460.8796C1702,-452.6838 1702,-443.9891 1702,-435.5013\"/>\n<polygon fill=\"#000000\" stroke=\"#000000\" points=\"1705.5001,-435.298 1702,-425.2981 1698.5001,-435.2981 1705.5001,-435.298\"/>\n</g>\n<!-- 39 -->\n<g id=\"node40\" class=\"node\">\n<title>39</title>\n<path fill=\"#ffffff\" stroke=\"#000000\" d=\"M2065,-425C2065,-425 1829,-425 1829,-425 1823,-425 1817,-419 1817,-413 1817,-413 1817,-354 1817,-354 1817,-348 1823,-342 1829,-342 1829,-342 2065,-342 2065,-342 2071,-342 2077,-348 2077,-354 2077,-354 2077,-413 2077,-413 2077,-419 2071,-425 2065,-425\"/>\n<text text-anchor=\"start\" x=\"1825\" y=\"-409.8\" font-family=\"Helvetica,sans-Serif\" font-size=\"14.00\" fill=\"#000000\">Class Attendance (percentage) ≤ 95.5</text>\n<text text-anchor=\"start\" x=\"1896\" y=\"-394.8\" font-family=\"Helvetica,sans-Serif\" font-size=\"14.00\" fill=\"#000000\">entropy = 1.449</text>\n<text text-anchor=\"start\" x=\"1907.5\" y=\"-379.8\" font-family=\"Helvetica,sans-Serif\" font-size=\"14.00\" fill=\"#000000\">samples = 7</text>\n<text text-anchor=\"start\" x=\"1882\" y=\"-364.8\" font-family=\"Helvetica,sans-Serif\" font-size=\"14.00\" fill=\"#000000\">value = [0, 0, 3, 3, 1]</text>\n<text text-anchor=\"start\" x=\"1918\" y=\"-349.8\" font-family=\"Helvetica,sans-Serif\" font-size=\"14.00\" fill=\"#000000\">class = 2</text>\n</g>\n<!-- 31&#45;&gt;39 -->\n<g id=\"edge39\" class=\"edge\">\n<title>31&#45;&gt;39</title>\n<path fill=\"none\" stroke=\"#000000\" d=\"M1787.6891,-460.8796C1808.5774,-450.7339 1831.0398,-439.8235 1852.3197,-429.4876\"/>\n<polygon fill=\"#000000\" stroke=\"#000000\" points=\"1853.8934,-432.6143 1861.3593,-425.0969 1850.835,-426.3177 1853.8934,-432.6143\"/>\n</g>\n<!-- 33 -->\n<g id=\"node34\" class=\"node\">\n<title>33</title>\n<path fill=\"#6d6aec\" stroke=\"#000000\" d=\"M1598.5,-306C1598.5,-306 1391.5,-306 1391.5,-306 1385.5,-306 1379.5,-300 1379.5,-294 1379.5,-294 1379.5,-235 1379.5,-235 1379.5,-229 1385.5,-223 1391.5,-223 1391.5,-223 1598.5,-223 1598.5,-223 1604.5,-223 1610.5,-229 1610.5,-235 1610.5,-235 1610.5,-294 1610.5,-294 1610.5,-300 1604.5,-306 1598.5,-306\"/>\n<text text-anchor=\"start\" x=\"1387.5\" y=\"-290.8\" font-family=\"Helvetica,sans-Serif\" font-size=\"14.00\" fill=\"#000000\">Average CT Marks (0 &#45; 20) ≤ 13.0</text>\n<text text-anchor=\"start\" x=\"1444\" y=\"-275.8\" font-family=\"Helvetica,sans-Serif\" font-size=\"14.00\" fill=\"#000000\">entropy = 0.722</text>\n<text text-anchor=\"start\" x=\"1455.5\" y=\"-260.8\" font-family=\"Helvetica,sans-Serif\" font-size=\"14.00\" fill=\"#000000\">samples = 5</text>\n<text text-anchor=\"start\" x=\"1430\" y=\"-245.8\" font-family=\"Helvetica,sans-Serif\" font-size=\"14.00\" fill=\"#000000\">value = [0, 0, 0, 4, 1]</text>\n<text text-anchor=\"start\" x=\"1466\" y=\"-230.8\" font-family=\"Helvetica,sans-Serif\" font-size=\"14.00\" fill=\"#000000\">class = 3</text>\n</g>\n<!-- 32&#45;&gt;33 -->\n<g id=\"edge33\" class=\"edge\">\n<title>32&#45;&gt;33</title>\n<path fill=\"none\" stroke=\"#000000\" d=\"M1629.6014,-341.8796C1612.4257,-332.0056 1593.9903,-321.4075 1576.442,-311.3193\"/>\n<polygon fill=\"#000000\" stroke=\"#000000\" points=\"1577.7716,-308.0466 1567.3577,-306.0969 1574.2828,-314.1152 1577.7716,-308.0466\"/>\n</g>\n<!-- 38 -->\n<g id=\"node39\" class=\"node\">\n<title>38</title>\n<path fill=\"#e539c0\" stroke=\"#000000\" d=\"M1763,-298.5C1763,-298.5 1641,-298.5 1641,-298.5 1635,-298.5 1629,-292.5 1629,-286.5 1629,-286.5 1629,-242.5 1629,-242.5 1629,-236.5 1635,-230.5 1641,-230.5 1641,-230.5 1763,-230.5 1763,-230.5 1769,-230.5 1775,-236.5 1775,-242.5 1775,-242.5 1775,-286.5 1775,-286.5 1775,-292.5 1769,-298.5 1763,-298.5\"/>\n<text text-anchor=\"start\" x=\"1659.5\" y=\"-283.3\" font-family=\"Helvetica,sans-Serif\" font-size=\"14.00\" fill=\"#000000\">entropy = 0.0</text>\n<text text-anchor=\"start\" x=\"1662.5\" y=\"-268.3\" font-family=\"Helvetica,sans-Serif\" font-size=\"14.00\" fill=\"#000000\">samples = 1</text>\n<text text-anchor=\"start\" x=\"1637\" y=\"-253.3\" font-family=\"Helvetica,sans-Serif\" font-size=\"14.00\" fill=\"#000000\">value = [0, 0, 0, 0, 1]</text>\n<text text-anchor=\"start\" x=\"1673\" y=\"-238.3\" font-family=\"Helvetica,sans-Serif\" font-size=\"14.00\" fill=\"#000000\">class = 4</text>\n</g>\n<!-- 32&#45;&gt;38 -->\n<g id=\"edge38\" class=\"edge\">\n<title>32&#45;&gt;38</title>\n<path fill=\"none\" stroke=\"#000000\" d=\"M1702,-341.8796C1702,-331.2134 1702,-319.7021 1702,-308.9015\"/>\n<polygon fill=\"#000000\" stroke=\"#000000\" points=\"1705.5001,-308.8149 1702,-298.8149 1698.5001,-308.815 1705.5001,-308.8149\"/>\n</g>\n<!-- 34 -->\n<g id=\"node35\" class=\"node\">\n<title>34</title>\n<path fill=\"#ffffff\" stroke=\"#000000\" d=\"M1453.5,-187C1453.5,-187 1170.5,-187 1170.5,-187 1164.5,-187 1158.5,-181 1158.5,-175 1158.5,-175 1158.5,-116 1158.5,-116 1158.5,-110 1164.5,-104 1170.5,-104 1170.5,-104 1453.5,-104 1453.5,-104 1459.5,-104 1465.5,-110 1465.5,-116 1465.5,-116 1465.5,-175 1465.5,-175 1465.5,-181 1459.5,-187 1453.5,-187\"/>\n<text text-anchor=\"start\" x=\"1166.5\" y=\"-171.8\" font-family=\"Helvetica,sans-Serif\" font-size=\"14.00\" fill=\"#000000\">PL/SPL Sleeping Hours (Daily Average) ≤ 6.5</text>\n<text text-anchor=\"start\" x=\"1269.5\" y=\"-156.8\" font-family=\"Helvetica,sans-Serif\" font-size=\"14.00\" fill=\"#000000\">entropy = 1.0</text>\n<text text-anchor=\"start\" x=\"1272.5\" y=\"-141.8\" font-family=\"Helvetica,sans-Serif\" font-size=\"14.00\" fill=\"#000000\">samples = 2</text>\n<text text-anchor=\"start\" x=\"1247\" y=\"-126.8\" font-family=\"Helvetica,sans-Serif\" font-size=\"14.00\" fill=\"#000000\">value = [0, 0, 0, 1, 1]</text>\n<text text-anchor=\"start\" x=\"1283\" y=\"-111.8\" font-family=\"Helvetica,sans-Serif\" font-size=\"14.00\" fill=\"#000000\">class = 3</text>\n</g>\n<!-- 33&#45;&gt;34 -->\n<g id=\"edge34\" class=\"edge\">\n<title>33&#45;&gt;34</title>\n<path fill=\"none\" stroke=\"#000000\" d=\"M1430.9955,-222.8796C1415.9505,-213.0962 1399.8121,-202.6019 1384.4267,-192.5971\"/>\n<polygon fill=\"#000000\" stroke=\"#000000\" points=\"1386.2598,-189.6143 1375.9684,-187.0969 1382.4437,-195.4827 1386.2598,-189.6143\"/>\n</g>\n<!-- 37 -->\n<g id=\"node38\" class=\"node\">\n<title>37</title>\n<path fill=\"#3c39e5\" stroke=\"#000000\" d=\"M1617,-179.5C1617,-179.5 1495,-179.5 1495,-179.5 1489,-179.5 1483,-173.5 1483,-167.5 1483,-167.5 1483,-123.5 1483,-123.5 1483,-117.5 1489,-111.5 1495,-111.5 1495,-111.5 1617,-111.5 1617,-111.5 1623,-111.5 1629,-117.5 1629,-123.5 1629,-123.5 1629,-167.5 1629,-167.5 1629,-173.5 1623,-179.5 1617,-179.5\"/>\n<text text-anchor=\"start\" x=\"1513.5\" y=\"-164.3\" font-family=\"Helvetica,sans-Serif\" font-size=\"14.00\" fill=\"#000000\">entropy = 0.0</text>\n<text text-anchor=\"start\" x=\"1516.5\" y=\"-149.3\" font-family=\"Helvetica,sans-Serif\" font-size=\"14.00\" fill=\"#000000\">samples = 3</text>\n<text text-anchor=\"start\" x=\"1491\" y=\"-134.3\" font-family=\"Helvetica,sans-Serif\" font-size=\"14.00\" fill=\"#000000\">value = [0, 0, 0, 3, 0]</text>\n<text text-anchor=\"start\" x=\"1527\" y=\"-119.3\" font-family=\"Helvetica,sans-Serif\" font-size=\"14.00\" fill=\"#000000\">class = 3</text>\n</g>\n<!-- 33&#45;&gt;37 -->\n<g id=\"edge37\" class=\"edge\">\n<title>33&#45;&gt;37</title>\n<path fill=\"none\" stroke=\"#000000\" d=\"M1516.3348,-222.8796C1521.9715,-211.8835 1528.0685,-199.9893 1533.7522,-188.9015\"/>\n<polygon fill=\"#000000\" stroke=\"#000000\" points=\"1536.9629,-190.3105 1538.41,-179.8149 1530.7337,-187.1173 1536.9629,-190.3105\"/>\n</g>\n<!-- 35 -->\n<g id=\"node36\" class=\"node\">\n<title>35</title>\n<path fill=\"#3c39e5\" stroke=\"#000000\" d=\"M1291,-68C1291,-68 1169,-68 1169,-68 1163,-68 1157,-62 1157,-56 1157,-56 1157,-12 1157,-12 1157,-6 1163,0 1169,0 1169,0 1291,0 1291,0 1297,0 1303,-6 1303,-12 1303,-12 1303,-56 1303,-56 1303,-62 1297,-68 1291,-68\"/>\n<text text-anchor=\"start\" x=\"1187.5\" y=\"-52.8\" font-family=\"Helvetica,sans-Serif\" font-size=\"14.00\" fill=\"#000000\">entropy = 0.0</text>\n<text text-anchor=\"start\" x=\"1190.5\" y=\"-37.8\" font-family=\"Helvetica,sans-Serif\" font-size=\"14.00\" fill=\"#000000\">samples = 1</text>\n<text text-anchor=\"start\" x=\"1165\" y=\"-22.8\" font-family=\"Helvetica,sans-Serif\" font-size=\"14.00\" fill=\"#000000\">value = [0, 0, 0, 1, 0]</text>\n<text text-anchor=\"start\" x=\"1201\" y=\"-7.8\" font-family=\"Helvetica,sans-Serif\" font-size=\"14.00\" fill=\"#000000\">class = 3</text>\n</g>\n<!-- 34&#45;&gt;35 -->\n<g id=\"edge35\" class=\"edge\">\n<title>34&#45;&gt;35</title>\n<path fill=\"none\" stroke=\"#000000\" d=\"M1281.4662,-103.9815C1274.8424,-94.9747 1267.8279,-85.4367 1261.1795,-76.3965\"/>\n<polygon fill=\"#000000\" stroke=\"#000000\" points=\"1263.9426,-74.2461 1255.1984,-68.2637 1258.3034,-78.3933 1263.9426,-74.2461\"/>\n</g>\n<!-- 36 -->\n<g id=\"node37\" class=\"node\">\n<title>36</title>\n<path fill=\"#e539c0\" stroke=\"#000000\" d=\"M1455,-68C1455,-68 1333,-68 1333,-68 1327,-68 1321,-62 1321,-56 1321,-56 1321,-12 1321,-12 1321,-6 1327,0 1333,0 1333,0 1455,0 1455,0 1461,0 1467,-6 1467,-12 1467,-12 1467,-56 1467,-56 1467,-62 1461,-68 1455,-68\"/>\n<text text-anchor=\"start\" x=\"1351.5\" y=\"-52.8\" font-family=\"Helvetica,sans-Serif\" font-size=\"14.00\" fill=\"#000000\">entropy = 0.0</text>\n<text text-anchor=\"start\" x=\"1354.5\" y=\"-37.8\" font-family=\"Helvetica,sans-Serif\" font-size=\"14.00\" fill=\"#000000\">samples = 1</text>\n<text text-anchor=\"start\" x=\"1329\" y=\"-22.8\" font-family=\"Helvetica,sans-Serif\" font-size=\"14.00\" fill=\"#000000\">value = [0, 0, 0, 0, 1]</text>\n<text text-anchor=\"start\" x=\"1365\" y=\"-7.8\" font-family=\"Helvetica,sans-Serif\" font-size=\"14.00\" fill=\"#000000\">class = 4</text>\n</g>\n<!-- 34&#45;&gt;36 -->\n<g id=\"edge36\" class=\"edge\">\n<title>34&#45;&gt;36</title>\n<path fill=\"none\" stroke=\"#000000\" d=\"M1342.5338,-103.9815C1349.1576,-94.9747 1356.1721,-85.4367 1362.8205,-76.3965\"/>\n<polygon fill=\"#000000\" stroke=\"#000000\" points=\"1365.6966,-78.3933 1368.8016,-68.2637 1360.0574,-74.2461 1365.6966,-78.3933\"/>\n</g>\n<!-- 40 -->\n<g id=\"node41\" class=\"node\">\n<title>40</title>\n<path fill=\"#9cf2e2\" stroke=\"#000000\" d=\"M2087.5,-306C2087.5,-306 1804.5,-306 1804.5,-306 1798.5,-306 1792.5,-300 1792.5,-294 1792.5,-294 1792.5,-235 1792.5,-235 1792.5,-229 1798.5,-223 1804.5,-223 1804.5,-223 2087.5,-223 2087.5,-223 2093.5,-223 2099.5,-229 2099.5,-235 2099.5,-235 2099.5,-294 2099.5,-294 2099.5,-300 2093.5,-306 2087.5,-306\"/>\n<text text-anchor=\"start\" x=\"1800.5\" y=\"-290.8\" font-family=\"Helvetica,sans-Serif\" font-size=\"14.00\" fill=\"#000000\">PL/SPL Sleeping Hours (Daily Average) ≤ 6.5</text>\n<text text-anchor=\"start\" x=\"1895\" y=\"-275.8\" font-family=\"Helvetica,sans-Serif\" font-size=\"14.00\" fill=\"#000000\">entropy = 0.918</text>\n<text text-anchor=\"start\" x=\"1906.5\" y=\"-260.8\" font-family=\"Helvetica,sans-Serif\" font-size=\"14.00\" fill=\"#000000\">samples = 3</text>\n<text text-anchor=\"start\" x=\"1881\" y=\"-245.8\" font-family=\"Helvetica,sans-Serif\" font-size=\"14.00\" fill=\"#000000\">value = [0, 0, 2, 0, 1]</text>\n<text text-anchor=\"start\" x=\"1917\" y=\"-230.8\" font-family=\"Helvetica,sans-Serif\" font-size=\"14.00\" fill=\"#000000\">class = 2</text>\n</g>\n<!-- 39&#45;&gt;40 -->\n<g id=\"edge40\" class=\"edge\">\n<title>39&#45;&gt;40</title>\n<path fill=\"none\" stroke=\"#000000\" d=\"M1946.6502,-341.8796C1946.5814,-333.6838 1946.5083,-324.9891 1946.437,-316.5013\"/>\n<polygon fill=\"#000000\" stroke=\"#000000\" points=\"1949.9352,-316.2683 1946.3512,-306.2981 1942.9355,-316.3272 1949.9352,-316.2683\"/>\n</g>\n<!-- 43 -->\n<g id=\"node44\" class=\"node\">\n<title>43</title>\n<path fill=\"#7d7bee\" stroke=\"#000000\" d=\"M2386.5,-306C2386.5,-306 2129.5,-306 2129.5,-306 2123.5,-306 2117.5,-300 2117.5,-294 2117.5,-294 2117.5,-235 2117.5,-235 2117.5,-229 2123.5,-223 2129.5,-223 2129.5,-223 2386.5,-223 2386.5,-223 2392.5,-223 2398.5,-229 2398.5,-235 2398.5,-235 2398.5,-294 2398.5,-294 2398.5,-300 2392.5,-306 2386.5,-306\"/>\n<text text-anchor=\"start\" x=\"2125.5\" y=\"-290.8\" font-family=\"Helvetica,sans-Serif\" font-size=\"14.00\" fill=\"#000000\">Social Media Hours (Daily Average) ≤ 2.5</text>\n<text text-anchor=\"start\" x=\"2207\" y=\"-275.8\" font-family=\"Helvetica,sans-Serif\" font-size=\"14.00\" fill=\"#000000\">entropy = 0.811</text>\n<text text-anchor=\"start\" x=\"2218.5\" y=\"-260.8\" font-family=\"Helvetica,sans-Serif\" font-size=\"14.00\" fill=\"#000000\">samples = 4</text>\n<text text-anchor=\"start\" x=\"2193\" y=\"-245.8\" font-family=\"Helvetica,sans-Serif\" font-size=\"14.00\" fill=\"#000000\">value = [0, 0, 1, 3, 0]</text>\n<text text-anchor=\"start\" x=\"2229\" y=\"-230.8\" font-family=\"Helvetica,sans-Serif\" font-size=\"14.00\" fill=\"#000000\">class = 3</text>\n</g>\n<!-- 39&#45;&gt;43 -->\n<g id=\"edge43\" class=\"edge\">\n<title>39&#45;&gt;43</title>\n<path fill=\"none\" stroke=\"#000000\" d=\"M2055.7727,-341.8796C2082.8799,-331.5074 2112.0755,-320.3361 2139.6206,-309.7963\"/>\n<polygon fill=\"#000000\" stroke=\"#000000\" points=\"2141.1999,-312.9395 2149.2887,-306.0969 2138.6983,-306.4018 2141.1999,-312.9395\"/>\n</g>\n<!-- 41 -->\n<g id=\"node42\" class=\"node\">\n<title>41</title>\n<path fill=\"#e539c0\" stroke=\"#000000\" d=\"M1880,-179.5C1880,-179.5 1758,-179.5 1758,-179.5 1752,-179.5 1746,-173.5 1746,-167.5 1746,-167.5 1746,-123.5 1746,-123.5 1746,-117.5 1752,-111.5 1758,-111.5 1758,-111.5 1880,-111.5 1880,-111.5 1886,-111.5 1892,-117.5 1892,-123.5 1892,-123.5 1892,-167.5 1892,-167.5 1892,-173.5 1886,-179.5 1880,-179.5\"/>\n<text text-anchor=\"start\" x=\"1776.5\" y=\"-164.3\" font-family=\"Helvetica,sans-Serif\" font-size=\"14.00\" fill=\"#000000\">entropy = 0.0</text>\n<text text-anchor=\"start\" x=\"1779.5\" y=\"-149.3\" font-family=\"Helvetica,sans-Serif\" font-size=\"14.00\" fill=\"#000000\">samples = 1</text>\n<text text-anchor=\"start\" x=\"1754\" y=\"-134.3\" font-family=\"Helvetica,sans-Serif\" font-size=\"14.00\" fill=\"#000000\">value = [0, 0, 0, 0, 1]</text>\n<text text-anchor=\"start\" x=\"1790\" y=\"-119.3\" font-family=\"Helvetica,sans-Serif\" font-size=\"14.00\" fill=\"#000000\">class = 4</text>\n</g>\n<!-- 40&#45;&gt;41 -->\n<g id=\"edge41\" class=\"edge\">\n<title>40&#45;&gt;41</title>\n<path fill=\"none\" stroke=\"#000000\" d=\"M1901.5816,-222.8796C1889.1421,-211.2237 1875.6257,-198.5587 1863.199,-186.9148\"/>\n<polygon fill=\"#000000\" stroke=\"#000000\" points=\"1865.3121,-184.0985 1855.6218,-179.8149 1860.5259,-189.2065 1865.3121,-184.0985\"/>\n</g>\n<!-- 42 -->\n<g id=\"node43\" class=\"node\">\n<title>42</title>\n<path fill=\"#39e5c5\" stroke=\"#000000\" d=\"M2044,-179.5C2044,-179.5 1922,-179.5 1922,-179.5 1916,-179.5 1910,-173.5 1910,-167.5 1910,-167.5 1910,-123.5 1910,-123.5 1910,-117.5 1916,-111.5 1922,-111.5 1922,-111.5 2044,-111.5 2044,-111.5 2050,-111.5 2056,-117.5 2056,-123.5 2056,-123.5 2056,-167.5 2056,-167.5 2056,-173.5 2050,-179.5 2044,-179.5\"/>\n<text text-anchor=\"start\" x=\"1940.5\" y=\"-164.3\" font-family=\"Helvetica,sans-Serif\" font-size=\"14.00\" fill=\"#000000\">entropy = 0.0</text>\n<text text-anchor=\"start\" x=\"1943.5\" y=\"-149.3\" font-family=\"Helvetica,sans-Serif\" font-size=\"14.00\" fill=\"#000000\">samples = 2</text>\n<text text-anchor=\"start\" x=\"1918\" y=\"-134.3\" font-family=\"Helvetica,sans-Serif\" font-size=\"14.00\" fill=\"#000000\">value = [0, 0, 2, 0, 0]</text>\n<text text-anchor=\"start\" x=\"1954\" y=\"-119.3\" font-family=\"Helvetica,sans-Serif\" font-size=\"14.00\" fill=\"#000000\">class = 2</text>\n</g>\n<!-- 40&#45;&gt;42 -->\n<g id=\"edge42\" class=\"edge\">\n<title>40&#45;&gt;42</title>\n<path fill=\"none\" stroke=\"#000000\" d=\"M1958.9408,-222.8796C1962.2914,-212.1034 1965.9101,-200.4647 1969.2983,-189.5677\"/>\n<polygon fill=\"#000000\" stroke=\"#000000\" points=\"1972.7037,-190.4032 1972.3307,-179.8149 1966.0194,-188.3248 1972.7037,-190.4032\"/>\n</g>\n<!-- 44 -->\n<g id=\"node45\" class=\"node\">\n<title>44</title>\n<path fill=\"#39e5c5\" stroke=\"#000000\" d=\"M2282,-179.5C2282,-179.5 2160,-179.5 2160,-179.5 2154,-179.5 2148,-173.5 2148,-167.5 2148,-167.5 2148,-123.5 2148,-123.5 2148,-117.5 2154,-111.5 2160,-111.5 2160,-111.5 2282,-111.5 2282,-111.5 2288,-111.5 2294,-117.5 2294,-123.5 2294,-123.5 2294,-167.5 2294,-167.5 2294,-173.5 2288,-179.5 2282,-179.5\"/>\n<text text-anchor=\"start\" x=\"2178.5\" y=\"-164.3\" font-family=\"Helvetica,sans-Serif\" font-size=\"14.00\" fill=\"#000000\">entropy = 0.0</text>\n<text text-anchor=\"start\" x=\"2181.5\" y=\"-149.3\" font-family=\"Helvetica,sans-Serif\" font-size=\"14.00\" fill=\"#000000\">samples = 1</text>\n<text text-anchor=\"start\" x=\"2156\" y=\"-134.3\" font-family=\"Helvetica,sans-Serif\" font-size=\"14.00\" fill=\"#000000\">value = [0, 0, 1, 0, 0]</text>\n<text text-anchor=\"start\" x=\"2192\" y=\"-119.3\" font-family=\"Helvetica,sans-Serif\" font-size=\"14.00\" fill=\"#000000\">class = 2</text>\n</g>\n<!-- 43&#45;&gt;44 -->\n<g id=\"edge44\" class=\"edge\">\n<title>43&#45;&gt;44</title>\n<path fill=\"none\" stroke=\"#000000\" d=\"M2245.0592,-222.8796C2241.7086,-212.1034 2238.0899,-200.4647 2234.7017,-189.5677\"/>\n<polygon fill=\"#000000\" stroke=\"#000000\" points=\"2237.9806,-188.3248 2231.6693,-179.8149 2231.2963,-190.4032 2237.9806,-188.3248\"/>\n</g>\n<!-- 45 -->\n<g id=\"node46\" class=\"node\">\n<title>45</title>\n<path fill=\"#3c39e5\" stroke=\"#000000\" d=\"M2446,-179.5C2446,-179.5 2324,-179.5 2324,-179.5 2318,-179.5 2312,-173.5 2312,-167.5 2312,-167.5 2312,-123.5 2312,-123.5 2312,-117.5 2318,-111.5 2324,-111.5 2324,-111.5 2446,-111.5 2446,-111.5 2452,-111.5 2458,-117.5 2458,-123.5 2458,-123.5 2458,-167.5 2458,-167.5 2458,-173.5 2452,-179.5 2446,-179.5\"/>\n<text text-anchor=\"start\" x=\"2342.5\" y=\"-164.3\" font-family=\"Helvetica,sans-Serif\" font-size=\"14.00\" fill=\"#000000\">entropy = 0.0</text>\n<text text-anchor=\"start\" x=\"2345.5\" y=\"-149.3\" font-family=\"Helvetica,sans-Serif\" font-size=\"14.00\" fill=\"#000000\">samples = 3</text>\n<text text-anchor=\"start\" x=\"2320\" y=\"-134.3\" font-family=\"Helvetica,sans-Serif\" font-size=\"14.00\" fill=\"#000000\">value = [0, 0, 0, 3, 0]</text>\n<text text-anchor=\"start\" x=\"2356\" y=\"-119.3\" font-family=\"Helvetica,sans-Serif\" font-size=\"14.00\" fill=\"#000000\">class = 3</text>\n</g>\n<!-- 43&#45;&gt;45 -->\n<g id=\"edge45\" class=\"edge\">\n<title>43&#45;&gt;45</title>\n<path fill=\"none\" stroke=\"#000000\" d=\"M2302.4184,-222.8796C2314.8579,-211.2237 2328.3743,-198.5587 2340.801,-186.9148\"/>\n<polygon fill=\"#000000\" stroke=\"#000000\" points=\"2343.4741,-189.2065 2348.3782,-179.8149 2338.6879,-184.0985 2343.4741,-189.2065\"/>\n</g>\n<!-- 47 -->\n<g id=\"node48\" class=\"node\">\n<title>47</title>\n<path fill=\"#f5b0e6\" stroke=\"#000000\" d=\"M2079.5,-782C2079.5,-782 1840.5,-782 1840.5,-782 1834.5,-782 1828.5,-776 1828.5,-770 1828.5,-770 1828.5,-711 1828.5,-711 1828.5,-705 1834.5,-699 1840.5,-699 1840.5,-699 2079.5,-699 2079.5,-699 2085.5,-699 2091.5,-705 2091.5,-711 2091.5,-711 2091.5,-770 2091.5,-770 2091.5,-776 2085.5,-782 2079.5,-782\"/>\n<text text-anchor=\"start\" x=\"1836.5\" y=\"-766.8\" font-family=\"Helvetica,sans-Serif\" font-size=\"14.00\" fill=\"#000000\">PL/SPL Study Hours (Daily) (0 &#45; ) ≤ 8.5</text>\n<text text-anchor=\"start\" x=\"1909\" y=\"-751.8\" font-family=\"Helvetica,sans-Serif\" font-size=\"14.00\" fill=\"#000000\">entropy = 0.954</text>\n<text text-anchor=\"start\" x=\"1920.5\" y=\"-736.8\" font-family=\"Helvetica,sans-Serif\" font-size=\"14.00\" fill=\"#000000\">samples = 8</text>\n<text text-anchor=\"start\" x=\"1895\" y=\"-721.8\" font-family=\"Helvetica,sans-Serif\" font-size=\"14.00\" fill=\"#000000\">value = [0, 0, 3, 0, 5]</text>\n<text text-anchor=\"start\" x=\"1931\" y=\"-706.8\" font-family=\"Helvetica,sans-Serif\" font-size=\"14.00\" fill=\"#000000\">class = 4</text>\n</g>\n<!-- 46&#45;&gt;47 -->\n<g id=\"edge47\" class=\"edge\">\n<title>46&#45;&gt;47</title>\n<path fill=\"none\" stroke=\"#000000\" d=\"M1960,-817.8796C1960,-809.6838 1960,-800.9891 1960,-792.5013\"/>\n<polygon fill=\"#000000\" stroke=\"#000000\" points=\"1963.5001,-792.298 1960,-782.2981 1956.5001,-792.2981 1963.5001,-792.298\"/>\n</g>\n<!-- 52 -->\n<g id=\"node53\" class=\"node\">\n<title>52</title>\n<path fill=\"#e84ec7\" stroke=\"#000000\" d=\"M2362,-782C2362,-782 2192,-782 2192,-782 2186,-782 2180,-776 2180,-770 2180,-770 2180,-711 2180,-711 2180,-705 2186,-699 2192,-699 2192,-699 2362,-699 2362,-699 2368,-699 2374,-705 2374,-711 2374,-711 2374,-770 2374,-770 2374,-776 2368,-782 2362,-782\"/>\n<text text-anchor=\"start\" x=\"2188\" y=\"-766.8\" font-family=\"Helvetica,sans-Serif\" font-size=\"14.00\" fill=\"#000000\">Daily Study Hour (0 &#45; ) ≤ 5.5</text>\n<text text-anchor=\"start\" x=\"2226\" y=\"-751.8\" font-family=\"Helvetica,sans-Serif\" font-size=\"14.00\" fill=\"#000000\">entropy = 0.454</text>\n<text text-anchor=\"start\" x=\"2233\" y=\"-736.8\" font-family=\"Helvetica,sans-Serif\" font-size=\"14.00\" fill=\"#000000\">samples = 21</text>\n<text text-anchor=\"start\" x=\"2207.5\" y=\"-721.8\" font-family=\"Helvetica,sans-Serif\" font-size=\"14.00\" fill=\"#000000\">value = [0, 0, 0, 2, 19]</text>\n<text text-anchor=\"start\" x=\"2248\" y=\"-706.8\" font-family=\"Helvetica,sans-Serif\" font-size=\"14.00\" fill=\"#000000\">class = 4</text>\n</g>\n<!-- 46&#45;&gt;52 -->\n<g id=\"edge52\" class=\"edge\">\n<title>46&#45;&gt;52</title>\n<path fill=\"none\" stroke=\"#000000\" d=\"M2070.8712,-817.8796C2103.209,-805.7402 2138.4627,-792.5061 2170.5226,-780.471\"/>\n<polygon fill=\"#000000\" stroke=\"#000000\" points=\"2171.7855,-783.7355 2179.9175,-776.9442 2169.3253,-777.182 2171.7855,-783.7355\"/>\n</g>\n<!-- 48 -->\n<g id=\"node49\" class=\"node\">\n<title>48</title>\n<path fill=\"#ea61cd\" stroke=\"#000000\" d=\"M1962,-663C1962,-663 1810,-663 1810,-663 1804,-663 1798,-657 1798,-651 1798,-651 1798,-592 1798,-592 1798,-586 1804,-580 1810,-580 1810,-580 1962,-580 1962,-580 1968,-580 1974,-586 1974,-592 1974,-592 1974,-651 1974,-651 1974,-657 1968,-663 1962,-663\"/>\n<text text-anchor=\"start\" x=\"1806\" y=\"-647.8\" font-family=\"Helvetica,sans-Serif\" font-size=\"14.00\" fill=\"#000000\">Confidence (0 &#45; 10) ≤ 3.5</text>\n<text text-anchor=\"start\" x=\"1839\" y=\"-632.8\" font-family=\"Helvetica,sans-Serif\" font-size=\"14.00\" fill=\"#000000\">entropy = 0.65</text>\n<text text-anchor=\"start\" x=\"1846.5\" y=\"-617.8\" font-family=\"Helvetica,sans-Serif\" font-size=\"14.00\" fill=\"#000000\">samples = 6</text>\n<text text-anchor=\"start\" x=\"1821\" y=\"-602.8\" font-family=\"Helvetica,sans-Serif\" font-size=\"14.00\" fill=\"#000000\">value = [0, 0, 1, 0, 5]</text>\n<text text-anchor=\"start\" x=\"1857\" y=\"-587.8\" font-family=\"Helvetica,sans-Serif\" font-size=\"14.00\" fill=\"#000000\">class = 4</text>\n</g>\n<!-- 47&#45;&gt;48 -->\n<g id=\"edge48\" class=\"edge\">\n<title>47&#45;&gt;48</title>\n<path fill=\"none\" stroke=\"#000000\" d=\"M1934.1184,-698.8796C1928.6858,-690.1434 1922.9008,-680.8404 1917.2947,-671.8253\"/>\n<polygon fill=\"#000000\" stroke=\"#000000\" points=\"1920.2451,-669.9418 1911.9921,-663.2981 1914.3007,-673.6383 1920.2451,-669.9418\"/>\n</g>\n<!-- 51 -->\n<g id=\"node52\" class=\"node\">\n<title>51</title>\n<path fill=\"#39e5c5\" stroke=\"#000000\" d=\"M2126,-655.5C2126,-655.5 2004,-655.5 2004,-655.5 1998,-655.5 1992,-649.5 1992,-643.5 1992,-643.5 1992,-599.5 1992,-599.5 1992,-593.5 1998,-587.5 2004,-587.5 2004,-587.5 2126,-587.5 2126,-587.5 2132,-587.5 2138,-593.5 2138,-599.5 2138,-599.5 2138,-643.5 2138,-643.5 2138,-649.5 2132,-655.5 2126,-655.5\"/>\n<text text-anchor=\"start\" x=\"2022.5\" y=\"-640.3\" font-family=\"Helvetica,sans-Serif\" font-size=\"14.00\" fill=\"#000000\">entropy = 0.0</text>\n<text text-anchor=\"start\" x=\"2025.5\" y=\"-625.3\" font-family=\"Helvetica,sans-Serif\" font-size=\"14.00\" fill=\"#000000\">samples = 2</text>\n<text text-anchor=\"start\" x=\"2000\" y=\"-610.3\" font-family=\"Helvetica,sans-Serif\" font-size=\"14.00\" fill=\"#000000\">value = [0, 0, 2, 0, 0]</text>\n<text text-anchor=\"start\" x=\"2036\" y=\"-595.3\" font-family=\"Helvetica,sans-Serif\" font-size=\"14.00\" fill=\"#000000\">class = 2</text>\n</g>\n<!-- 47&#45;&gt;51 -->\n<g id=\"edge51\" class=\"edge\">\n<title>47&#45;&gt;51</title>\n<path fill=\"none\" stroke=\"#000000\" d=\"M1996.7239,-698.8796C2006.8144,-687.4436 2017.7621,-675.0363 2027.875,-663.575\"/>\n<polygon fill=\"#000000\" stroke=\"#000000\" points=\"2030.7303,-665.629 2034.7221,-655.8149 2025.4814,-660.9977 2030.7303,-665.629\"/>\n</g>\n<!-- 49 -->\n<g id=\"node50\" class=\"node\">\n<title>49</title>\n<path fill=\"#39e5c5\" stroke=\"#000000\" d=\"M1942,-536.5C1942,-536.5 1820,-536.5 1820,-536.5 1814,-536.5 1808,-530.5 1808,-524.5 1808,-524.5 1808,-480.5 1808,-480.5 1808,-474.5 1814,-468.5 1820,-468.5 1820,-468.5 1942,-468.5 1942,-468.5 1948,-468.5 1954,-474.5 1954,-480.5 1954,-480.5 1954,-524.5 1954,-524.5 1954,-530.5 1948,-536.5 1942,-536.5\"/>\n<text text-anchor=\"start\" x=\"1838.5\" y=\"-521.3\" font-family=\"Helvetica,sans-Serif\" font-size=\"14.00\" fill=\"#000000\">entropy = 0.0</text>\n<text text-anchor=\"start\" x=\"1841.5\" y=\"-506.3\" font-family=\"Helvetica,sans-Serif\" font-size=\"14.00\" fill=\"#000000\">samples = 1</text>\n<text text-anchor=\"start\" x=\"1816\" y=\"-491.3\" font-family=\"Helvetica,sans-Serif\" font-size=\"14.00\" fill=\"#000000\">value = [0, 0, 1, 0, 0]</text>\n<text text-anchor=\"start\" x=\"1852\" y=\"-476.3\" font-family=\"Helvetica,sans-Serif\" font-size=\"14.00\" fill=\"#000000\">class = 2</text>\n</g>\n<!-- 48&#45;&gt;49 -->\n<g id=\"edge49\" class=\"edge\">\n<title>48&#45;&gt;49</title>\n<path fill=\"none\" stroke=\"#000000\" d=\"M1884.2512,-579.8796C1883.8031,-569.2134 1883.3194,-557.7021 1882.8656,-546.9015\"/>\n<polygon fill=\"#000000\" stroke=\"#000000\" points=\"1886.3586,-546.6592 1882.4418,-536.8149 1879.3648,-546.9531 1886.3586,-546.6592\"/>\n</g>\n<!-- 50 -->\n<g id=\"node51\" class=\"node\">\n<title>50</title>\n<path fill=\"#e539c0\" stroke=\"#000000\" d=\"M2106,-536.5C2106,-536.5 1984,-536.5 1984,-536.5 1978,-536.5 1972,-530.5 1972,-524.5 1972,-524.5 1972,-480.5 1972,-480.5 1972,-474.5 1978,-468.5 1984,-468.5 1984,-468.5 2106,-468.5 2106,-468.5 2112,-468.5 2118,-474.5 2118,-480.5 2118,-480.5 2118,-524.5 2118,-524.5 2118,-530.5 2112,-536.5 2106,-536.5\"/>\n<text text-anchor=\"start\" x=\"2002.5\" y=\"-521.3\" font-family=\"Helvetica,sans-Serif\" font-size=\"14.00\" fill=\"#000000\">entropy = 0.0</text>\n<text text-anchor=\"start\" x=\"2005.5\" y=\"-506.3\" font-family=\"Helvetica,sans-Serif\" font-size=\"14.00\" fill=\"#000000\">samples = 5</text>\n<text text-anchor=\"start\" x=\"1980\" y=\"-491.3\" font-family=\"Helvetica,sans-Serif\" font-size=\"14.00\" fill=\"#000000\">value = [0, 0, 0, 0, 5]</text>\n<text text-anchor=\"start\" x=\"2016\" y=\"-476.3\" font-family=\"Helvetica,sans-Serif\" font-size=\"14.00\" fill=\"#000000\">class = 4</text>\n</g>\n<!-- 48&#45;&gt;50 -->\n<g id=\"edge50\" class=\"edge\">\n<title>48&#45;&gt;50</title>\n<path fill=\"none\" stroke=\"#000000\" d=\"M1941.6105,-579.8796C1957.7013,-567.8368 1975.2315,-554.7167 1991.2091,-542.7586\"/>\n<polygon fill=\"#000000\" stroke=\"#000000\" points=\"1993.4982,-545.4171 1999.407,-536.623 1989.3038,-539.8129 1993.4982,-545.4171\"/>\n</g>\n<!-- 53 -->\n<g id=\"node54\" class=\"node\">\n<title>53</title>\n<path fill=\"#e643c3\" stroke=\"#000000\" d=\"M2380.5,-663C2380.5,-663 2173.5,-663 2173.5,-663 2167.5,-663 2161.5,-657 2161.5,-651 2161.5,-651 2161.5,-592 2161.5,-592 2161.5,-586 2167.5,-580 2173.5,-580 2173.5,-580 2380.5,-580 2380.5,-580 2386.5,-580 2392.5,-586 2392.5,-592 2392.5,-592 2392.5,-651 2392.5,-651 2392.5,-657 2386.5,-663 2380.5,-663\"/>\n<text text-anchor=\"start\" x=\"2169.5\" y=\"-647.8\" font-family=\"Helvetica,sans-Serif\" font-size=\"14.00\" fill=\"#000000\">Average CT Marks (0 &#45; 20) ≤ 14.5</text>\n<text text-anchor=\"start\" x=\"2226\" y=\"-632.8\" font-family=\"Helvetica,sans-Serif\" font-size=\"14.00\" fill=\"#000000\">entropy = 0.286</text>\n<text text-anchor=\"start\" x=\"2233\" y=\"-617.8\" font-family=\"Helvetica,sans-Serif\" font-size=\"14.00\" fill=\"#000000\">samples = 20</text>\n<text text-anchor=\"start\" x=\"2207.5\" y=\"-602.8\" font-family=\"Helvetica,sans-Serif\" font-size=\"14.00\" fill=\"#000000\">value = [0, 0, 0, 1, 19]</text>\n<text text-anchor=\"start\" x=\"2248\" y=\"-587.8\" font-family=\"Helvetica,sans-Serif\" font-size=\"14.00\" fill=\"#000000\">class = 4</text>\n</g>\n<!-- 52&#45;&gt;53 -->\n<g id=\"edge53\" class=\"edge\">\n<title>52&#45;&gt;53</title>\n<path fill=\"none\" stroke=\"#000000\" d=\"M2277,-698.8796C2277,-690.6838 2277,-681.9891 2277,-673.5013\"/>\n<polygon fill=\"#000000\" stroke=\"#000000\" points=\"2280.5001,-673.298 2277,-663.2981 2273.5001,-673.2981 2280.5001,-673.298\"/>\n</g>\n<!-- 58 -->\n<g id=\"node59\" class=\"node\">\n<title>58</title>\n<path fill=\"#3c39e5\" stroke=\"#000000\" d=\"M2545,-655.5C2545,-655.5 2423,-655.5 2423,-655.5 2417,-655.5 2411,-649.5 2411,-643.5 2411,-643.5 2411,-599.5 2411,-599.5 2411,-593.5 2417,-587.5 2423,-587.5 2423,-587.5 2545,-587.5 2545,-587.5 2551,-587.5 2557,-593.5 2557,-599.5 2557,-599.5 2557,-643.5 2557,-643.5 2557,-649.5 2551,-655.5 2545,-655.5\"/>\n<text text-anchor=\"start\" x=\"2441.5\" y=\"-640.3\" font-family=\"Helvetica,sans-Serif\" font-size=\"14.00\" fill=\"#000000\">entropy = 0.0</text>\n<text text-anchor=\"start\" x=\"2444.5\" y=\"-625.3\" font-family=\"Helvetica,sans-Serif\" font-size=\"14.00\" fill=\"#000000\">samples = 1</text>\n<text text-anchor=\"start\" x=\"2419\" y=\"-610.3\" font-family=\"Helvetica,sans-Serif\" font-size=\"14.00\" fill=\"#000000\">value = [0, 0, 0, 1, 0]</text>\n<text text-anchor=\"start\" x=\"2455\" y=\"-595.3\" font-family=\"Helvetica,sans-Serif\" font-size=\"14.00\" fill=\"#000000\">class = 3</text>\n</g>\n<!-- 52&#45;&gt;58 -->\n<g id=\"edge58\" class=\"edge\">\n<title>52&#45;&gt;58</title>\n<path fill=\"none\" stroke=\"#000000\" d=\"M2349.3986,-698.8796C2371.0196,-686.4501 2394.6369,-672.873 2415.9678,-660.6103\"/>\n<polygon fill=\"#000000\" stroke=\"#000000\" points=\"2417.718,-663.6413 2424.6431,-655.623 2414.2292,-657.5727 2417.718,-663.6413\"/>\n</g>\n<!-- 54 -->\n<g id=\"node55\" class=\"node\">\n<title>54</title>\n<path fill=\"#f29ce0\" stroke=\"#000000\" d=\"M2405.5,-544C2405.5,-544 2148.5,-544 2148.5,-544 2142.5,-544 2136.5,-538 2136.5,-532 2136.5,-532 2136.5,-473 2136.5,-473 2136.5,-467 2142.5,-461 2148.5,-461 2148.5,-461 2405.5,-461 2405.5,-461 2411.5,-461 2417.5,-467 2417.5,-473 2417.5,-473 2417.5,-532 2417.5,-532 2417.5,-538 2411.5,-544 2405.5,-544\"/>\n<text text-anchor=\"start\" x=\"2144.5\" y=\"-528.8\" font-family=\"Helvetica,sans-Serif\" font-size=\"14.00\" fill=\"#000000\">Social Media Hours (Daily Average) ≤ 2.5</text>\n<text text-anchor=\"start\" x=\"2226\" y=\"-513.8\" font-family=\"Helvetica,sans-Serif\" font-size=\"14.00\" fill=\"#000000\">entropy = 0.918</text>\n<text text-anchor=\"start\" x=\"2237.5\" y=\"-498.8\" font-family=\"Helvetica,sans-Serif\" font-size=\"14.00\" fill=\"#000000\">samples = 3</text>\n<text text-anchor=\"start\" x=\"2212\" y=\"-483.8\" font-family=\"Helvetica,sans-Serif\" font-size=\"14.00\" fill=\"#000000\">value = [0, 0, 0, 1, 2]</text>\n<text text-anchor=\"start\" x=\"2248\" y=\"-468.8\" font-family=\"Helvetica,sans-Serif\" font-size=\"14.00\" fill=\"#000000\">class = 4</text>\n</g>\n<!-- 53&#45;&gt;54 -->\n<g id=\"edge54\" class=\"edge\">\n<title>53&#45;&gt;54</title>\n<path fill=\"none\" stroke=\"#000000\" d=\"M2277,-579.8796C2277,-571.6838 2277,-562.9891 2277,-554.5013\"/>\n<polygon fill=\"#000000\" stroke=\"#000000\" points=\"2280.5001,-554.298 2277,-544.2981 2273.5001,-554.2981 2280.5001,-554.298\"/>\n</g>\n<!-- 57 -->\n<g id=\"node58\" class=\"node\">\n<title>57</title>\n<path fill=\"#e539c0\" stroke=\"#000000\" d=\"M2578.5,-536.5C2578.5,-536.5 2447.5,-536.5 2447.5,-536.5 2441.5,-536.5 2435.5,-530.5 2435.5,-524.5 2435.5,-524.5 2435.5,-480.5 2435.5,-480.5 2435.5,-474.5 2441.5,-468.5 2447.5,-468.5 2447.5,-468.5 2578.5,-468.5 2578.5,-468.5 2584.5,-468.5 2590.5,-474.5 2590.5,-480.5 2590.5,-480.5 2590.5,-524.5 2590.5,-524.5 2590.5,-530.5 2584.5,-536.5 2578.5,-536.5\"/>\n<text text-anchor=\"start\" x=\"2470.5\" y=\"-521.3\" font-family=\"Helvetica,sans-Serif\" font-size=\"14.00\" fill=\"#000000\">entropy = 0.0</text>\n<text text-anchor=\"start\" x=\"2469\" y=\"-506.3\" font-family=\"Helvetica,sans-Serif\" font-size=\"14.00\" fill=\"#000000\">samples = 17</text>\n<text text-anchor=\"start\" x=\"2443.5\" y=\"-491.3\" font-family=\"Helvetica,sans-Serif\" font-size=\"14.00\" fill=\"#000000\">value = [0, 0, 0, 0, 17]</text>\n<text text-anchor=\"start\" x=\"2484\" y=\"-476.3\" font-family=\"Helvetica,sans-Serif\" font-size=\"14.00\" fill=\"#000000\">class = 4</text>\n</g>\n<!-- 53&#45;&gt;57 -->\n<g id=\"edge57\" class=\"edge\">\n<title>53&#45;&gt;57</title>\n<path fill=\"none\" stroke=\"#000000\" d=\"M2359.5413,-579.8796C2384.4106,-567.3396 2411.5963,-553.6315 2436.0846,-541.2836\"/>\n<polygon fill=\"#000000\" stroke=\"#000000\" points=\"2437.9742,-544.2507 2445.3274,-536.623 2434.8225,-538.0003 2437.9742,-544.2507\"/>\n</g>\n<!-- 55 -->\n<g id=\"node56\" class=\"node\">\n<title>55</title>\n<path fill=\"#e539c0\" stroke=\"#000000\" d=\"M2283,-417.5C2283,-417.5 2161,-417.5 2161,-417.5 2155,-417.5 2149,-411.5 2149,-405.5 2149,-405.5 2149,-361.5 2149,-361.5 2149,-355.5 2155,-349.5 2161,-349.5 2161,-349.5 2283,-349.5 2283,-349.5 2289,-349.5 2295,-355.5 2295,-361.5 2295,-361.5 2295,-405.5 2295,-405.5 2295,-411.5 2289,-417.5 2283,-417.5\"/>\n<text text-anchor=\"start\" x=\"2179.5\" y=\"-402.3\" font-family=\"Helvetica,sans-Serif\" font-size=\"14.00\" fill=\"#000000\">entropy = 0.0</text>\n<text text-anchor=\"start\" x=\"2182.5\" y=\"-387.3\" font-family=\"Helvetica,sans-Serif\" font-size=\"14.00\" fill=\"#000000\">samples = 2</text>\n<text text-anchor=\"start\" x=\"2157\" y=\"-372.3\" font-family=\"Helvetica,sans-Serif\" font-size=\"14.00\" fill=\"#000000\">value = [0, 0, 0, 0, 2]</text>\n<text text-anchor=\"start\" x=\"2193\" y=\"-357.3\" font-family=\"Helvetica,sans-Serif\" font-size=\"14.00\" fill=\"#000000\">class = 4</text>\n</g>\n<!-- 54&#45;&gt;55 -->\n<g id=\"edge55\" class=\"edge\">\n<title>54&#45;&gt;55</title>\n<path fill=\"none\" stroke=\"#000000\" d=\"M2257.7637,-460.8796C2252.6814,-449.8835 2247.1841,-437.9893 2242.0595,-426.9015\"/>\n<polygon fill=\"#000000\" stroke=\"#000000\" points=\"2245.2324,-425.4239 2237.8598,-417.8149 2238.8782,-428.3607 2245.2324,-425.4239\"/>\n</g>\n<!-- 56 -->\n<g id=\"node57\" class=\"node\">\n<title>56</title>\n<path fill=\"#3c39e5\" stroke=\"#000000\" d=\"M2447,-417.5C2447,-417.5 2325,-417.5 2325,-417.5 2319,-417.5 2313,-411.5 2313,-405.5 2313,-405.5 2313,-361.5 2313,-361.5 2313,-355.5 2319,-349.5 2325,-349.5 2325,-349.5 2447,-349.5 2447,-349.5 2453,-349.5 2459,-355.5 2459,-361.5 2459,-361.5 2459,-405.5 2459,-405.5 2459,-411.5 2453,-417.5 2447,-417.5\"/>\n<text text-anchor=\"start\" x=\"2343.5\" y=\"-402.3\" font-family=\"Helvetica,sans-Serif\" font-size=\"14.00\" fill=\"#000000\">entropy = 0.0</text>\n<text text-anchor=\"start\" x=\"2346.5\" y=\"-387.3\" font-family=\"Helvetica,sans-Serif\" font-size=\"14.00\" fill=\"#000000\">samples = 1</text>\n<text text-anchor=\"start\" x=\"2321\" y=\"-372.3\" font-family=\"Helvetica,sans-Serif\" font-size=\"14.00\" fill=\"#000000\">value = [0, 0, 0, 1, 0]</text>\n<text text-anchor=\"start\" x=\"2357\" y=\"-357.3\" font-family=\"Helvetica,sans-Serif\" font-size=\"14.00\" fill=\"#000000\">class = 3</text>\n</g>\n<!-- 54&#45;&gt;56 -->\n<g id=\"edge56\" class=\"edge\">\n<title>54&#45;&gt;56</title>\n<path fill=\"none\" stroke=\"#000000\" d=\"M2315.1229,-460.8796C2325.6986,-449.3337 2337.1812,-436.7976 2347.7633,-425.2446\"/>\n<polygon fill=\"#000000\" stroke=\"#000000\" points=\"2350.3951,-427.5531 2354.5687,-417.8149 2345.2333,-422.825 2350.3951,-427.5531\"/>\n</g>\n</g>\n</svg>\n"
          },
          "metadata": {},
          "execution_count": 53
        }
      ]
    },
    {
      "cell_type": "markdown",
      "metadata": {
        "id": "uCiq_DaeS3oV"
      },
      "source": [
        "# **Hyper parameter tuning (Decision Tree)**"
      ]
    },
    {
      "cell_type": "code",
      "metadata": {
        "id": "vQ6e6rq_S-UG"
      },
      "source": [
        "dt = DecisionTreeClassifier()"
      ],
      "execution_count": 54,
      "outputs": []
    },
    {
      "cell_type": "code",
      "metadata": {
        "id": "0BZvJ8YsTNp4"
      },
      "source": [
        "from sklearn.model_selection import GridSearchCV\n",
        "\n",
        "param_dict = {\n",
        "    \"criterion\":['gini','entropy'],\n",
        "    \"max_depth\":range(1,10),\n",
        "    \"min_samples_split\":range(1,10),\n",
        "    \"min_samples_leaf\":range(1,5)\n",
        "}"
      ],
      "execution_count": 55,
      "outputs": []
    },
    {
      "cell_type": "code",
      "metadata": {
        "colab": {
          "base_uri": "https://localhost:8080/"
        },
        "id": "_yJliZiDdE9i",
        "outputId": "dcccdbbc-587b-486a-d708-8c645b4e70f9"
      },
      "source": [
        "#dictp={'i':0,'accuracy':0}\n",
        "\n",
        "#for i in range(101):\n",
        "X_train, X_test, y_train, y_test = train_test_split(X, y, test_size=0.2,random_state=25)\n",
        "grid = GridSearchCV(dt, param_grid=param_dict, cv=10, verbose = 1,n_jobs=-1)\n",
        "grid.fit(X_train, y_train)\n",
        "#print(grid.best_params_) \n",
        "#print(grid.best_estimator_)\n",
        "grid_predictions = grid.predict(X_test) \n",
        "#print(classification_report(y_test, grid_predictions)) \n",
        "acu = accuracy_score(y_test,grid_predictions)*100\n",
        "#   if dictp['accuracy']<acu:\n",
        "#       dictp['accuracy']=acu\n",
        "#       dictp['i']=i\n",
        "#print(\"i : \",dictp['i'],\" accuracy : \",dictp['accuracy'])"
      ],
      "execution_count": 56,
      "outputs": [
        {
          "output_type": "stream",
          "name": "stdout",
          "text": [
            "Fitting 10 folds for each of 648 candidates, totalling 6480 fits\n"
          ]
        },
        {
          "output_type": "stream",
          "name": "stderr",
          "text": [
            "/usr/local/lib/python3.7/dist-packages/sklearn/model_selection/_split.py:680: UserWarning: The least populated class in y has only 1 members, which is less than n_splits=10.\n",
            "  UserWarning,\n",
            "/usr/local/lib/python3.7/dist-packages/sklearn/model_selection/_validation.py:372: FitFailedWarning: \n",
            "720 fits failed out of a total of 6480.\n",
            "The score on these train-test partitions for these parameters will be set to nan.\n",
            "If these failures are not expected, you can try to debug them by setting error_score='raise'.\n",
            "\n",
            "Below are more details about the failures:\n",
            "--------------------------------------------------------------------------------\n",
            "720 fits failed with the following error:\n",
            "Traceback (most recent call last):\n",
            "  File \"/usr/local/lib/python3.7/dist-packages/sklearn/model_selection/_validation.py\", line 681, in _fit_and_score\n",
            "    estimator.fit(X_train, y_train, **fit_params)\n",
            "  File \"/usr/local/lib/python3.7/dist-packages/sklearn/tree/_classes.py\", line 942, in fit\n",
            "    X_idx_sorted=X_idx_sorted,\n",
            "  File \"/usr/local/lib/python3.7/dist-packages/sklearn/tree/_classes.py\", line 254, in fit\n",
            "    % self.min_samples_split\n",
            "ValueError: min_samples_split must be an integer greater than 1 or a float in (0.0, 1.0]; got the integer 1\n",
            "\n",
            "  warnings.warn(some_fits_failed_message, FitFailedWarning)\n",
            "/usr/local/lib/python3.7/dist-packages/sklearn/model_selection/_search.py:972: UserWarning: One or more of the test scores are non-finite: [       nan 0.47619048 0.47619048 0.47619048 0.47619048 0.47619048\n",
            " 0.47619048 0.47619048 0.47619048        nan 0.47619048 0.47619048\n",
            " 0.47619048 0.47619048 0.47619048 0.47619048 0.47619048 0.47619048\n",
            "        nan 0.47619048 0.47619048 0.47619048 0.47619048 0.47619048\n",
            " 0.47619048 0.47619048 0.47619048        nan 0.47619048 0.47619048\n",
            " 0.47619048 0.47619048 0.47619048 0.47619048 0.47619048 0.47619048\n",
            "        nan 0.49285714 0.49285714 0.49285714 0.49285714 0.49285714\n",
            " 0.49285714 0.49285714 0.49285714        nan 0.49285714 0.49285714\n",
            " 0.49285714 0.49285714 0.49285714 0.49285714 0.49285714 0.49285714\n",
            "        nan 0.46190476 0.46190476 0.46190476 0.46190476 0.46190476\n",
            " 0.46190476 0.46190476 0.46190476        nan 0.49047619 0.49047619\n",
            " 0.49047619 0.49047619 0.49047619 0.49047619 0.49047619 0.49047619\n",
            "        nan 0.40714286 0.40714286 0.40714286 0.40714286 0.40714286\n",
            " 0.40714286 0.40714286 0.40714286        nan 0.39285714 0.39285714\n",
            " 0.39285714 0.39285714 0.39285714 0.39285714 0.39285714 0.39285714\n",
            "        nan 0.36190476 0.37857143 0.39285714 0.37619048 0.37619048\n",
            " 0.36190476 0.36190476 0.37619048        nan 0.37619048 0.37619048\n",
            " 0.37619048 0.39285714 0.37619048 0.39285714 0.39285714 0.37619048\n",
            "        nan 0.37857143 0.37857143 0.39285714 0.39285714 0.37857143\n",
            " 0.39285714 0.37857143 0.40714286        nan 0.36428571 0.36428571\n",
            " 0.35       0.36428571 0.35       0.36428571 0.37857143 0.37857143\n",
            "        nan 0.33333333 0.33333333 0.35       0.33333333 0.33333333\n",
            " 0.33333333 0.36190476 0.36190476        nan 0.37857143 0.36190476\n",
            " 0.37857143 0.36190476 0.36190476 0.36190476 0.37619048 0.39047619\n",
            "        nan 0.41904762 0.4047619  0.39047619 0.4047619  0.4047619\n",
            " 0.39047619 0.37619048 0.39047619        nan 0.34761905 0.36190476\n",
            " 0.33333333 0.34761905 0.36190476 0.33333333 0.36190476 0.36190476\n",
            "        nan 0.32142857 0.33333333 0.33333333 0.36428571 0.31904762\n",
            " 0.33571429 0.34761905 0.36190476        nan 0.31666667 0.36190476\n",
            " 0.3452381  0.33095238 0.36428571 0.3452381  0.33333333 0.39285714\n",
            "        nan 0.36190476 0.37619048 0.37619048 0.39047619 0.39047619\n",
            " 0.39047619 0.39047619 0.37619048        nan 0.33333333 0.31904762\n",
            " 0.34761905 0.33333333 0.36190476 0.33333333 0.36190476 0.37619048\n",
            "        nan 0.35       0.33333333 0.31904762 0.34761905 0.3047619\n",
            " 0.3047619  0.34761905 0.33333333        nan 0.31666667 0.37619048\n",
            " 0.34761905 0.37619048 0.36190476 0.33333333 0.33095238 0.36190476\n",
            "        nan 0.39047619 0.34761905 0.33333333 0.37857143 0.37857143\n",
            " 0.34761905 0.36190476 0.36190476        nan 0.33333333 0.33333333\n",
            " 0.33333333 0.33333333 0.33333333 0.3047619  0.34761905 0.36190476\n",
            "        nan 0.35       0.35       0.33333333 0.30714286 0.31904762\n",
            " 0.30714286 0.33333333 0.36428571        nan 0.37857143 0.31666667\n",
            " 0.34761905 0.34761905 0.33095238 0.37857143 0.34761905 0.33095238\n",
            "        nan 0.43333333 0.36190476 0.36190476 0.39047619 0.37857143\n",
            " 0.39047619 0.36190476 0.36190476        nan 0.33333333 0.3047619\n",
            " 0.31904762 0.33333333 0.34761905 0.3047619  0.34761905 0.36190476\n",
            "        nan 0.34761905 0.32142857 0.36428571 0.31904762 0.31904762\n",
            " 0.32142857 0.35       0.36428571        nan 0.34761905 0.36428571\n",
            " 0.37619048 0.33095238 0.36190476 0.36428571 0.36190476 0.34761905\n",
            "        nan 0.37619048 0.33333333 0.37619048 0.4047619  0.37857143\n",
            " 0.37619048 0.37619048 0.34761905        nan 0.33333333 0.34761905\n",
            " 0.33333333 0.31904762 0.33333333 0.31904762 0.34761905 0.36190476\n",
            "        nan 0.3047619  0.34761905 0.35       0.31904762 0.3047619\n",
            " 0.32142857 0.35       0.37857143        nan 0.35       0.36428571\n",
            " 0.37857143 0.34761905 0.3452381  0.34761905 0.36190476 0.36190476\n",
            "        nan 0.47619048 0.47619048 0.47619048 0.47619048 0.47619048\n",
            " 0.47619048 0.47619048 0.47619048        nan 0.47619048 0.47619048\n",
            " 0.47619048 0.47619048 0.47619048 0.47619048 0.47619048 0.47619048\n",
            "        nan 0.47619048 0.47619048 0.47619048 0.47619048 0.47619048\n",
            " 0.47619048 0.47619048 0.47619048        nan 0.47619048 0.47619048\n",
            " 0.47619048 0.47619048 0.47619048 0.47619048 0.47619048 0.47619048\n",
            "        nan 0.47619048 0.47619048 0.47619048 0.47619048 0.47619048\n",
            " 0.47619048 0.47619048 0.47619048        nan 0.47619048 0.47619048\n",
            " 0.47619048 0.47619048 0.47619048 0.47619048 0.47619048 0.47619048\n",
            "        nan 0.47619048 0.47619048 0.47619048 0.47619048 0.47619048\n",
            " 0.47619048 0.47619048 0.47619048        nan 0.47619048 0.47619048\n",
            " 0.47619048 0.47619048 0.47619048 0.47619048 0.47619048 0.47619048\n",
            "        nan 0.39047619 0.37619048 0.39047619 0.39047619 0.39047619\n",
            " 0.39047619 0.39047619 0.39047619        nan 0.39047619 0.39047619\n",
            " 0.39047619 0.39047619 0.39047619 0.39047619 0.39047619 0.39047619\n",
            "        nan 0.39047619 0.39047619 0.39047619 0.37380952 0.39047619\n",
            " 0.37380952 0.37380952 0.37380952        nan 0.31666667 0.33333333\n",
            " 0.31666667 0.31666667 0.33333333 0.31666667 0.31666667 0.31666667\n",
            "        nan 0.37619048 0.39047619 0.39047619 0.4047619  0.41904762\n",
            " 0.4047619  0.39047619 0.39047619        nan 0.37380952 0.39047619\n",
            " 0.39047619 0.37619048 0.39047619 0.39047619 0.37619048 0.4047619\n",
            "        nan 0.37380952 0.37380952 0.37380952 0.37619048 0.35952381\n",
            " 0.37380952 0.39047619 0.38809524        nan 0.33333333 0.3452381\n",
            " 0.36190476 0.33095238 0.31666667 0.30238095 0.3452381  0.37619048\n",
            "        nan 0.39047619 0.35952381 0.37619048 0.4047619  0.39047619\n",
            " 0.37619048 0.37619048 0.37619048        nan 0.36190476 0.34761905\n",
            " 0.36190476 0.37619048 0.34761905 0.36190476 0.34761905 0.39047619\n",
            "        nan 0.3452381  0.33095238 0.34761905 0.3452381  0.36190476\n",
            " 0.35952381 0.3452381  0.39047619        nan 0.30238095 0.33333333\n",
            " 0.33095238 0.3452381  0.33333333 0.33333333 0.33095238 0.33095238\n",
            "        nan 0.32142857 0.37380952 0.36428571 0.34761905 0.39047619\n",
            " 0.39285714 0.36190476 0.34761905        nan 0.35       0.36428571\n",
            " 0.37619048 0.36428571 0.39285714 0.39285714 0.39047619 0.34761905\n",
            "        nan 0.39047619 0.42142857 0.37857143 0.4047619  0.39047619\n",
            " 0.37619048 0.37380952 0.39047619        nan 0.31666667 0.33333333\n",
            " 0.3452381  0.33095238 0.33333333 0.3452381  0.33095238 0.31904762\n",
            "        nan 0.36428571 0.33333333 0.39285714 0.40714286 0.37857143\n",
            " 0.35       0.36190476 0.33333333        nan 0.34761905 0.40714286\n",
            " 0.34761905 0.37857143 0.37857143 0.39285714 0.34761905 0.36190476\n",
            "        nan 0.40714286 0.43571429 0.39047619 0.4047619  0.39285714\n",
            " 0.37619048 0.37380952 0.35952381        nan 0.30238095 0.30238095\n",
            " 0.28809524 0.30238095 0.3452381  0.3452381  0.34761905 0.28809524\n",
            "        nan 0.35       0.35       0.34761905 0.35       0.36428571\n",
            " 0.31904762 0.33333333 0.31904762        nan 0.3452381  0.29047619\n",
            " 0.34761905 0.36428571 0.36428571 0.33571429 0.33333333 0.33333333\n",
            "        nan 0.33333333 0.39285714 0.4047619  0.39285714 0.37619048\n",
            " 0.37619048 0.37619048 0.35952381        nan 0.31904762 0.33333333\n",
            " 0.30238095 0.31904762 0.30238095 0.31904762 0.30238095 0.31904762\n",
            "        nan 0.32142857 0.29047619 0.35       0.36428571 0.36428571\n",
            " 0.33333333 0.33333333 0.31904762        nan 0.30238095 0.33571429\n",
            " 0.33571429 0.36428571 0.35       0.32142857 0.34761905 0.31904762\n",
            "        nan 0.36190476 0.36190476 0.37857143 0.33333333 0.36190476\n",
            " 0.37857143 0.36190476 0.35952381        nan 0.27380952 0.29047619\n",
            " 0.33333333 0.31904762 0.30238095 0.28809524 0.29047619 0.30238095]\n",
            "  category=UserWarning,\n"
          ]
        }
      ]
    },
    {
      "cell_type": "code",
      "metadata": {
        "colab": {
          "base_uri": "https://localhost:8080/"
        },
        "id": "DOCuQYQdiHCA",
        "outputId": "da047ce0-d5ee-41a1-c260-65e5ae39ce62"
      },
      "source": [
        "from sklearn.metrics import classification_report, confusion_matrix \n",
        "print(grid.best_params_) \n",
        "print(classification_report(y_test, grid_predictions))"
      ],
      "execution_count": 57,
      "outputs": [
        {
          "output_type": "stream",
          "name": "stdout",
          "text": [
            "{'criterion': 'gini', 'max_depth': 2, 'min_samples_leaf': 1, 'min_samples_split': 2}\n",
            "              precision    recall  f1-score   support\n",
            "\n",
            "           3       0.00      0.00      0.00         0\n",
            "           4       0.00      0.00      0.00         3\n",
            "           5       0.00      0.00      0.00         1\n",
            "           6       0.81      0.93      0.87        14\n",
            "\n",
            "    accuracy                           0.72        18\n",
            "   macro avg       0.20      0.23      0.22        18\n",
            "weighted avg       0.63      0.72      0.67        18\n",
            "\n"
          ]
        },
        {
          "output_type": "stream",
          "name": "stderr",
          "text": [
            "/usr/local/lib/python3.7/dist-packages/sklearn/metrics/_classification.py:1308: UndefinedMetricWarning: Precision and F-score are ill-defined and being set to 0.0 in labels with no predicted samples. Use `zero_division` parameter to control this behavior.\n",
            "  _warn_prf(average, modifier, msg_start, len(result))\n",
            "/usr/local/lib/python3.7/dist-packages/sklearn/metrics/_classification.py:1308: UndefinedMetricWarning: Recall and F-score are ill-defined and being set to 0.0 in labels with no true samples. Use `zero_division` parameter to control this behavior.\n",
            "  _warn_prf(average, modifier, msg_start, len(result))\n",
            "/usr/local/lib/python3.7/dist-packages/sklearn/metrics/_classification.py:1308: UndefinedMetricWarning: Precision and F-score are ill-defined and being set to 0.0 in labels with no predicted samples. Use `zero_division` parameter to control this behavior.\n",
            "  _warn_prf(average, modifier, msg_start, len(result))\n",
            "/usr/local/lib/python3.7/dist-packages/sklearn/metrics/_classification.py:1308: UndefinedMetricWarning: Recall and F-score are ill-defined and being set to 0.0 in labels with no true samples. Use `zero_division` parameter to control this behavior.\n",
            "  _warn_prf(average, modifier, msg_start, len(result))\n",
            "/usr/local/lib/python3.7/dist-packages/sklearn/metrics/_classification.py:1308: UndefinedMetricWarning: Precision and F-score are ill-defined and being set to 0.0 in labels with no predicted samples. Use `zero_division` parameter to control this behavior.\n",
            "  _warn_prf(average, modifier, msg_start, len(result))\n",
            "/usr/local/lib/python3.7/dist-packages/sklearn/metrics/_classification.py:1308: UndefinedMetricWarning: Recall and F-score are ill-defined and being set to 0.0 in labels with no true samples. Use `zero_division` parameter to control this behavior.\n",
            "  _warn_prf(average, modifier, msg_start, len(result))\n"
          ]
        }
      ]
    },
    {
      "cell_type": "code",
      "metadata": {
        "id": "LwSjMZSJhscd"
      },
      "source": [
        "#print(\"i : \",dictp['i'],\" accuracy : \",dictp['accuracy'])"
      ],
      "execution_count": 58,
      "outputs": []
    },
    {
      "cell_type": "markdown",
      "metadata": {
        "id": "UYG9KrrBI9xc"
      },
      "source": [
        "# **KNN**"
      ]
    },
    {
      "cell_type": "code",
      "metadata": {
        "id": "8YolGLYyOp89"
      },
      "source": [
        "from sklearn.preprocessing import StandardScaler\n",
        "X_train, X_test, y_train, y_test = train_test_split(X, y, test_size=0.2,random_state=25)\n",
        "scaler = StandardScaler()\n",
        "scaler.fit(X_train)\n",
        "\n",
        "X_train = scaler.transform(X_train)\n",
        "X_test = scaler.transform(X_test)"
      ],
      "execution_count": 59,
      "outputs": []
    },
    {
      "cell_type": "code",
      "metadata": {
        "colab": {
          "base_uri": "https://localhost:8080/"
        },
        "id": "vXqhHEtHJEei",
        "outputId": "37339d01-5d22-41b9-981c-703fed4a2a91"
      },
      "source": [
        "from sklearn.neighbors import KNeighborsClassifier\n",
        "from sklearn import metrics\n",
        "KNN = KNeighborsClassifier()\n",
        "#KNN.fit(X_train, y_train)\n",
        "mean_acc = np.zeros(20)\n",
        "for i in range(1,21):\n",
        "    #Train Model and Predict  \n",
        "    knn = KNeighborsClassifier(n_neighbors = i).fit(X_train,y_train)\n",
        "    yhat= knn.predict(X_test)\n",
        "    mean_acc[i-1] = metrics.accuracy_score(y_test, yhat)\n",
        "\n",
        "mean_acc"
      ],
      "execution_count": 60,
      "outputs": [
        {
          "output_type": "execute_result",
          "data": {
            "text/plain": [
              "array([0.44444444, 0.22222222, 0.38888889, 0.5       , 0.38888889,\n",
              "       0.5       , 0.5       , 0.61111111, 0.77777778, 0.77777778,\n",
              "       0.77777778, 0.66666667, 0.72222222, 0.72222222, 0.77777778,\n",
              "       0.72222222, 0.72222222, 0.77777778, 0.72222222, 0.72222222])"
            ]
          },
          "metadata": {},
          "execution_count": 60
        }
      ]
    },
    {
      "cell_type": "code",
      "metadata": {
        "colab": {
          "base_uri": "https://localhost:8080/",
          "height": 389
        },
        "id": "iKZ_3woTlKxl",
        "outputId": "c837066b-184e-42b8-9a0a-503b9300ea6a"
      },
      "source": [
        "loc = np.arange(1,21,step=1.0)\n",
        "plt.figure(figsize = (10, 6))\n",
        "plt.plot(range(1,21), mean_acc)\n",
        "plt.xticks(loc)\n",
        "plt.xlabel('Number of Neighbors ')\n",
        "plt.ylabel('Accuracy')\n",
        "plt.show()"
      ],
      "execution_count": 61,
      "outputs": [
        {
          "output_type": "display_data",
          "data": {
            "image/png": "[encoded data removed]",
            "text/plain": [
              "<Figure size 720x432 with 1 Axes>"
            ]
          },
          "metadata": {
            "needs_background": "light"
          }
        }
      ]
    },
    {
      "cell_type": "code",
      "metadata": {
        "id": "p3VZjBWWlXNr"
      },
      "source": [
        "grid_params = { 'n_neighbors' : [5,7,9,11,13,15],\n",
        "               'weights' : ['uniform','distance'],\n",
        "               'metric' : ['minkowski','euclidean','manhattan']}"
      ],
      "execution_count": 62,
      "outputs": []
    },
    {
      "cell_type": "code",
      "metadata": {
        "colab": {
          "base_uri": "https://localhost:8080/"
        },
        "id": "ZIE_WLKbldC_",
        "outputId": "44aa0bd5-899e-4686-ae0a-e5867e27f8a1"
      },
      "source": [
        "gs = GridSearchCV(KNeighborsClassifier(), grid_params, verbose = 1, cv=3, n_jobs = -1)\n",
        "# fit the model on our train set\n",
        "g_res = gs.fit(X_train, y_train)\n",
        "# get the hyperparameters with the best score\n",
        "g_res.best_params_"
      ],
      "execution_count": 63,
      "outputs": [
        {
          "output_type": "stream",
          "name": "stdout",
          "text": [
            "Fitting 3 folds for each of 36 candidates, totalling 108 fits\n"
          ]
        },
        {
          "output_type": "stream",
          "name": "stderr",
          "text": [
            "/usr/local/lib/python3.7/dist-packages/sklearn/model_selection/_split.py:680: UserWarning: The least populated class in y has only 1 members, which is less than n_splits=3.\n",
            "  UserWarning,\n"
          ]
        },
        {
          "output_type": "execute_result",
          "data": {
            "text/plain": [
              "{'metric': 'minkowski', 'n_neighbors': 11, 'weights': 'distance'}"
            ]
          },
          "metadata": {},
          "execution_count": 63
        }
      ]
    },
    {
      "cell_type": "code",
      "metadata": {
        "colab": {
          "base_uri": "https://localhost:8080/"
        },
        "id": "U3pPNVsdl0bs",
        "outputId": "5874a339-43c8-471a-da71-f8158a254424"
      },
      "source": [
        "# use the best hyperparameters\n",
        "knn = KNeighborsClassifier(n_neighbors = 11, weights = 'distance',algorithm = 'brute',metric = 'minkowski')\n",
        "knn.fit(X_train, y_train)"
      ],
      "execution_count": 64,
      "outputs": [
        {
          "output_type": "execute_result",
          "data": {
            "text/plain": [
              "KNeighborsClassifier(algorithm='brute', n_neighbors=11, weights='distance')"
            ]
          },
          "metadata": {},
          "execution_count": 64
        }
      ]
    },
    {
      "cell_type": "code",
      "metadata": {
        "id": "tC2VbwQ2mGu6"
      },
      "source": [
        "# get a prediction\n",
        "y_hat = knn.predict(X_train)\n",
        "y_knn = knn.predict(X_test)"
      ],
      "execution_count": 65,
      "outputs": []
    },
    {
      "cell_type": "code",
      "metadata": {
        "colab": {
          "base_uri": "https://localhost:8080/"
        },
        "id": "ZOWoP_10mL1d",
        "outputId": "abd99582-cb86-42dd-d2f5-4c28979fa6cc"
      },
      "source": [
        "print('Training set accuracy: ', metrics.accuracy_score(y_train, y_hat))\n",
        "print('Test set accuracy: ',metrics.accuracy_score(y_test, y_knn))"
      ],
      "execution_count": 66,
      "outputs": [
        {
          "output_type": "stream",
          "name": "stdout",
          "text": [
            "Training set accuracy:  1.0\n",
            "Test set accuracy:  0.7777777777777778\n"
          ]
        }
      ]
    },
    {
      "cell_type": "code",
      "metadata": {
        "id": "ZEqE5OX2JZdG",
        "colab": {
          "base_uri": "https://localhost:8080/"
        },
        "outputId": "910d5b58-868d-46f4-c489-f5ece4fbc26f"
      },
      "source": [
        "error = []\n",
        "\n",
        "# Calculating error for K values between 1 and 40\n",
        "for i in range(1, 40):\n",
        "    knn = KNeighborsClassifier(n_neighbors=i)\n",
        "    knn.fit(X_train, y_train)\n",
        "    pred_i = knn.predict(X_test)\n",
        "    error.append(np.mean(pred_i != y_test))\n",
        "    print(np.mean(pred_i != y_test))"
      ],
      "execution_count": 67,
      "outputs": [
        {
          "output_type": "stream",
          "name": "stdout",
          "text": [
            "0.5555555555555556\n",
            "0.7777777777777778\n",
            "0.6111111111111112\n",
            "0.5\n",
            "0.6111111111111112\n",
            "0.5\n",
            "0.5\n",
            "0.3888888888888889\n",
            "0.2222222222222222\n",
            "0.2222222222222222\n",
            "0.2222222222222222\n",
            "0.3333333333333333\n",
            "0.2777777777777778\n",
            "0.2777777777777778\n",
            "0.2222222222222222\n",
            "0.2777777777777778\n",
            "0.2777777777777778\n",
            "0.2222222222222222\n",
            "0.2777777777777778\n",
            "0.2777777777777778\n",
            "0.2777777777777778\n",
            "0.2777777777777778\n",
            "0.2777777777777778\n",
            "0.2777777777777778\n",
            "0.2777777777777778\n",
            "0.2777777777777778\n",
            "0.3333333333333333\n",
            "0.3333333333333333\n",
            "0.2777777777777778\n",
            "0.2222222222222222\n",
            "0.2222222222222222\n",
            "0.2222222222222222\n",
            "0.2222222222222222\n",
            "0.2222222222222222\n",
            "0.2222222222222222\n",
            "0.2222222222222222\n",
            "0.2222222222222222\n",
            "0.2222222222222222\n",
            "0.2222222222222222\n"
          ]
        }
      ]
    },
    {
      "cell_type": "code",
      "metadata": {
        "id": "hq4Ttf_ZJe7U",
        "colab": {
          "base_uri": "https://localhost:8080/",
          "height": 421
        },
        "outputId": "d61b74a6-85dd-4b87-9fe5-b4d8144e3245"
      },
      "source": [
        "plt.figure(figsize=(12, 6))\n",
        "plt.plot(range(1, 40), error, color='red', linestyle='dashed', marker='o',\n",
        "         markerfacecolor='blue', markersize=10)\n",
        "plt.title('Error Rate K Value')\n",
        "plt.xlabel('K Value')\n",
        "plt.ylabel('Mean Error')"
      ],
      "execution_count": 68,
      "outputs": [
        {
          "output_type": "execute_result",
          "data": {
            "text/plain": [
              "Text(0, 0.5, 'Mean Error')"
            ]
          },
          "metadata": {},
          "execution_count": 68
        },
        {
          "output_type": "display_data",
          "data": {
            "image/png": "[encoded data removed]",
            "text/plain": [
              "<Figure size 864x432 with 1 Axes>"
            ]
          },
          "metadata": {
            "needs_background": "light"
          }
        }
      ]
    },
    {
      "cell_type": "markdown",
      "metadata": {
        "id": "3Dca7p-dulGI"
      },
      "source": [
        "# **Ensemble Technique**"
      ]
    },
    {
      "cell_type": "code",
      "metadata": {
        "colab": {
          "base_uri": "https://localhost:8080/"
        },
        "id": "1HJQzy3iusPn",
        "outputId": "a45af793-3276-4d19-e0f7-7c9c6699745d"
      },
      "source": [
        "from sklearn.ensemble import GradientBoostingClassifier\n",
        "model= GradientBoostingClassifier(learning_rate=0.01,random_state=1)\n",
        "model.fit(X_train, y_train)\n",
        "model.score(X_test,y_test)"
      ],
      "execution_count": 69,
      "outputs": [
        {
          "output_type": "execute_result",
          "data": {
            "text/plain": [
              "0.8333333333333334"
            ]
          },
          "metadata": {},
          "execution_count": 69
        }
      ]
    }
  ]
}