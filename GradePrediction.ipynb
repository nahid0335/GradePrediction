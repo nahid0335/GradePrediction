{
  "nbformat": 4,
  "nbformat_minor": 0,
  "metadata": {
    "colab": {
      "name": "GradePrediction.ipynb",
      "provenance": [],
      "mount_file_id": "1gAxjqqE2XH2SLOasUdfFA6IMz0Rg-2ir",
      "authorship_tag": "ABX9TyMXtxCliMJRu4f/5x34VQkz",
      "include_colab_link": true
    },
    "kernelspec": {
      "name": "python3",
      "display_name": "Python 3"
    },
    "language_info": {
      "name": "python"
    }
  },
  "cells": [
    {
      "cell_type": "markdown",
      "metadata": {
        "id": "view-in-github",
        "colab_type": "text"
      },
      "source": [
        "<a href=\"https://colab.research.google.com/github/nahid0335/GradePrediction/blob/main/GradePrediction.ipynb\" target=\"_parent\"><img src=\"https://colab.research.google.com/assets/colab-badge.svg\" alt=\"Open In Colab\"/></a>"
      ]
    },
    {
      "cell_type": "markdown",
      "metadata": {
        "id": "Cu_ScoiUAY0L"
      },
      "source": [
        "# **Decision Tree**"
      ]
    },
    {
      "cell_type": "code",
      "metadata": {
        "id": "ogo9YPhtASVl"
      },
      "source": [
        "import numpy as np \n",
        "import pandas as pd \n",
        "import sklearn\n",
        "from sklearn.model_selection import train_test_split\n",
        "from sklearn.metrics import confusion_matrix \n",
        "from sklearn.tree import DecisionTreeClassifier \n",
        "from sklearn.metrics import accuracy_score \n",
        "from matplotlib import pyplot as plt\n",
        "from sklearn import tree"
      ],
      "execution_count": 1,
      "outputs": []
    },
    {
      "cell_type": "code",
      "metadata": {
        "colab": {
          "base_uri": "https://localhost:8080/"
        },
        "id": "T3YTygSVA6nk",
        "outputId": "ae98e88d-5a06-4837-a03d-25ba8ee8384e"
      },
      "source": [
        "from google.colab import drive\n",
        "drive.mount('/content/drive')"
      ],
      "execution_count": 17,
      "outputs": [
        {
          "output_type": "stream",
          "name": "stdout",
          "text": [
            "Mounted at /content/drive\n"
          ]
        }
      ]
    },
    {
      "cell_type": "code",
      "metadata": {
        "id": "TIypscqEBHPi"
      },
      "source": [
        "# load dataset\n",
        "df = pd.read_csv(\"/content/drive/Shareddrives/share drive/Dataset/Grade prediction data/Grade Prediction Data (Responses).csv\")"
      ],
      "execution_count": 25,
      "outputs": []
    },
    {
      "cell_type": "code",
      "metadata": {
        "colab": {
          "base_uri": "https://localhost:8080/",
          "height": 476
        },
        "id": "IIKeIrPQBT66",
        "outputId": "d5d81b4b-d3b4-41d1-8dc7-d139851781a6"
      },
      "source": [
        "df=df.head(88)\n",
        "df.replace(np.nan,0)"
      ],
      "execution_count": 28,
      "outputs": [
        {
          "output_type": "execute_result",
          "data": {
            "text/html": [
              "<div>\n",
              "<style scoped>\n",
              "    .dataframe tbody tr th:only-of-type {\n",
              "        vertical-align: middle;\n",
              "    }\n",
              "\n",
              "    .dataframe tbody tr th {\n",
              "        vertical-align: top;\n",
              "    }\n",
              "\n",
              "    .dataframe thead th {\n",
              "        text-align: right;\n",
              "    }\n",
              "</style>\n",
              "<table border=\"1\" class=\"dataframe\">\n",
              "  <thead>\n",
              "    <tr style=\"text-align: right;\">\n",
              "      <th></th>\n",
              "      <th>Daily Study Hour (0 - )</th>\n",
              "      <th>Average CT Marks (0 - 20)</th>\n",
              "      <th>Class Attendance (percentage)</th>\n",
              "      <th>PL/SPL Study Hours (Daily) (0 - )</th>\n",
              "      <th>PL/SPL Sleeping Hours (Daily Average)</th>\n",
              "      <th>Average Sleeping Hours (Daily)</th>\n",
              "      <th>Social Media Hours (Daily Average)</th>\n",
              "      <th>PL/SPL Social Media Hours (Daily Average)</th>\n",
              "      <th>Concentration in Classes (0 - 10)</th>\n",
              "      <th>Confidence (0 - 10)</th>\n",
              "      <th>Final Grade (last Semester - 3-2) (GPA)</th>\n",
              "    </tr>\n",
              "  </thead>\n",
              "  <tbody>\n",
              "    <tr>\n",
              "      <th>0</th>\n",
              "      <td>1.0</td>\n",
              "      <td>8.0</td>\n",
              "      <td>65.0</td>\n",
              "      <td>12.0</td>\n",
              "      <td>6.0</td>\n",
              "      <td>8.0</td>\n",
              "      <td>3.0</td>\n",
              "      <td>1.0</td>\n",
              "      <td>0.0</td>\n",
              "      <td>3.0</td>\n",
              "      <td>3.25</td>\n",
              "    </tr>\n",
              "    <tr>\n",
              "      <th>1</th>\n",
              "      <td>2.0</td>\n",
              "      <td>12.0</td>\n",
              "      <td>95.0</td>\n",
              "      <td>9.0</td>\n",
              "      <td>10.0</td>\n",
              "      <td>10.0</td>\n",
              "      <td>2.0</td>\n",
              "      <td>1.0</td>\n",
              "      <td>7.0</td>\n",
              "      <td>7.0</td>\n",
              "      <td>3.84</td>\n",
              "    </tr>\n",
              "    <tr>\n",
              "      <th>2</th>\n",
              "      <td>2.0</td>\n",
              "      <td>15.0</td>\n",
              "      <td>96.0</td>\n",
              "      <td>13.0</td>\n",
              "      <td>6.0</td>\n",
              "      <td>8.0</td>\n",
              "      <td>5.0</td>\n",
              "      <td>2.0</td>\n",
              "      <td>5.0</td>\n",
              "      <td>8.0</td>\n",
              "      <td>3.61</td>\n",
              "    </tr>\n",
              "    <tr>\n",
              "      <th>3</th>\n",
              "      <td>1.0</td>\n",
              "      <td>9.0</td>\n",
              "      <td>70.0</td>\n",
              "      <td>6.0</td>\n",
              "      <td>8.0</td>\n",
              "      <td>8.0</td>\n",
              "      <td>3.0</td>\n",
              "      <td>2.0</td>\n",
              "      <td>7.0</td>\n",
              "      <td>9.0</td>\n",
              "      <td>3.41</td>\n",
              "    </tr>\n",
              "    <tr>\n",
              "      <th>4</th>\n",
              "      <td>1.0</td>\n",
              "      <td>8.0</td>\n",
              "      <td>60.0</td>\n",
              "      <td>10.0</td>\n",
              "      <td>9.0</td>\n",
              "      <td>8.0</td>\n",
              "      <td>2.0</td>\n",
              "      <td>2.0</td>\n",
              "      <td>3.0</td>\n",
              "      <td>4.0</td>\n",
              "      <td>3.14</td>\n",
              "    </tr>\n",
              "    <tr>\n",
              "      <th>...</th>\n",
              "      <td>...</td>\n",
              "      <td>...</td>\n",
              "      <td>...</td>\n",
              "      <td>...</td>\n",
              "      <td>...</td>\n",
              "      <td>...</td>\n",
              "      <td>...</td>\n",
              "      <td>...</td>\n",
              "      <td>...</td>\n",
              "      <td>...</td>\n",
              "      <td>...</td>\n",
              "    </tr>\n",
              "    <tr>\n",
              "      <th>83</th>\n",
              "      <td>2.0</td>\n",
              "      <td>12.0</td>\n",
              "      <td>99.0</td>\n",
              "      <td>8.0</td>\n",
              "      <td>8.0</td>\n",
              "      <td>7.0</td>\n",
              "      <td>2.0</td>\n",
              "      <td>1.0</td>\n",
              "      <td>6.0</td>\n",
              "      <td>6.0</td>\n",
              "      <td>3.78</td>\n",
              "    </tr>\n",
              "    <tr>\n",
              "      <th>84</th>\n",
              "      <td>2.0</td>\n",
              "      <td>12.0</td>\n",
              "      <td>70.0</td>\n",
              "      <td>12.0</td>\n",
              "      <td>8.0</td>\n",
              "      <td>8.0</td>\n",
              "      <td>4.0</td>\n",
              "      <td>1.0</td>\n",
              "      <td>7.0</td>\n",
              "      <td>8.0</td>\n",
              "      <td>3.48</td>\n",
              "    </tr>\n",
              "    <tr>\n",
              "      <th>85</th>\n",
              "      <td>1.0</td>\n",
              "      <td>12.0</td>\n",
              "      <td>80.0</td>\n",
              "      <td>8.0</td>\n",
              "      <td>6.0</td>\n",
              "      <td>6.0</td>\n",
              "      <td>4.0</td>\n",
              "      <td>2.0</td>\n",
              "      <td>7.0</td>\n",
              "      <td>7.0</td>\n",
              "      <td>3.76</td>\n",
              "    </tr>\n",
              "    <tr>\n",
              "      <th>86</th>\n",
              "      <td>2.0</td>\n",
              "      <td>12.0</td>\n",
              "      <td>90.0</td>\n",
              "      <td>4.0</td>\n",
              "      <td>7.0</td>\n",
              "      <td>7.0</td>\n",
              "      <td>2.0</td>\n",
              "      <td>1.0</td>\n",
              "      <td>3.0</td>\n",
              "      <td>3.0</td>\n",
              "      <td>3.76</td>\n",
              "    </tr>\n",
              "    <tr>\n",
              "      <th>87</th>\n",
              "      <td>1.0</td>\n",
              "      <td>10.0</td>\n",
              "      <td>50.0</td>\n",
              "      <td>4.0</td>\n",
              "      <td>8.0</td>\n",
              "      <td>7.0</td>\n",
              "      <td>4.0</td>\n",
              "      <td>3.0</td>\n",
              "      <td>3.0</td>\n",
              "      <td>4.0</td>\n",
              "      <td>3.24</td>\n",
              "    </tr>\n",
              "  </tbody>\n",
              "</table>\n",
              "<p>88 rows × 11 columns</p>\n",
              "</div>"
            ],
            "text/plain": [
              "    Daily Study Hour (0 - )  ...  Final Grade (last Semester - 3-2) (GPA) \n",
              "0                       1.0  ...                                      3.25\n",
              "1                       2.0  ...                                      3.84\n",
              "2                       2.0  ...                                      3.61\n",
              "3                       1.0  ...                                      3.41\n",
              "4                       1.0  ...                                      3.14\n",
              "..                      ...  ...                                       ...\n",
              "83                      2.0  ...                                      3.78\n",
              "84                      2.0  ...                                      3.48\n",
              "85                      1.0  ...                                      3.76\n",
              "86                      2.0  ...                                      3.76\n",
              "87                      1.0  ...                                      3.24\n",
              "\n",
              "[88 rows x 11 columns]"
            ]
          },
          "metadata": {},
          "execution_count": 28
        }
      ]
    },
    {
      "cell_type": "code",
      "metadata": {
        "id": "n9ovX2rhBZGs"
      },
      "source": [
        "drive.flush_and_unmount()"
      ],
      "execution_count": 29,
      "outputs": []
    },
    {
      "cell_type": "code",
      "metadata": {
        "id": "_-ZTjv5yBd3f"
      },
      "source": [
        "# feature selection\n",
        "feature_cols = ['Daily Study Hour (0 - )', 'Average CT Marks (0 - 20)', 'Class Attendance (percentage)', 'PL/SPL Study Hours (Daily) (0 - )',\n",
        "                'PL/SPL Sleeping Hours (Daily Average)', 'Average Sleeping Hours (Daily)', 'Social Media Hours (Daily Average)',\n",
        "                'PL/SPL Social Media Hours (Daily Average)','Concentration in Classes (0 - 10)','Confidence (0 - 10)']\n",
        "X = df[feature_cols].values.tolist()\n",
        "y = df['Final Grade (last Semester - 3-2) (GPA) '].values.tolist()"
      ],
      "execution_count": 30,
      "outputs": []
    },
    {
      "cell_type": "code",
      "metadata": {
        "colab": {
          "base_uri": "https://localhost:8080/"
        },
        "id": "Ni7BwtxTCKzR",
        "outputId": "8a1c967d-715c-4599-d83f-8c1aab9cc414"
      },
      "source": [
        "print(X[0:5])\n",
        "print(y[0:5])"
      ],
      "execution_count": 31,
      "outputs": [
        {
          "output_type": "stream",
          "name": "stdout",
          "text": [
            "[[1.0, 8.0, 65.0, 12.0, 6.0, 8.0, 3.0, 1.0, nan, 3.0], [2.0, 12.0, 95.0, 9.0, 10.0, 10.0, 2.0, 1.0, 7.0, 7.0], [2.0, 15.0, 96.0, 13.0, 6.0, 8.0, 5.0, 2.0, 5.0, 8.0], [1.0, 9.0, 70.0, 6.0, 8.0, 8.0, 3.0, 2.0, 7.0, 9.0], [1.0, 8.0, 60.0, 10.0, 9.0, 8.0, 2.0, 2.0, 3.0, 4.0]]\n",
            "[3.25, 3.84, 3.61, 3.41, 3.14]\n"
          ]
        }
      ]
    },
    {
      "cell_type": "code",
      "metadata": {
        "id": "cFMQT0NGCb1Q"
      },
      "source": [
        "for i in range(len(y)):\n",
        "  if y[i]>=3.75:\n",
        "    y[i]=6\n",
        "  elif y[i]>= 3.5:\n",
        "    y[i]=5\n",
        "  elif y[i]>=3.25:\n",
        "    y[i]=4\n",
        "  elif y[i]>=3.0 :\n",
        "    y[i]=3\n",
        "  elif y[i]>=2.75 :\n",
        "    y[i]=2\n",
        "  elif y[i]>= 2.5:\n",
        "    y[i]=1\n",
        "  else:\n",
        "    y[i]=0"
      ],
      "execution_count": 32,
      "outputs": []
    },
    {
      "cell_type": "code",
      "metadata": {
        "colab": {
          "base_uri": "https://localhost:8080/"
        },
        "id": "Io5fDBm4DnaR",
        "outputId": "b12c0fda-ee26-442b-9835-acebd438e9ef"
      },
      "source": [
        "print(y[0:5])"
      ],
      "execution_count": 33,
      "outputs": [
        {
          "output_type": "stream",
          "name": "stdout",
          "text": [
            "[4, 6, 5, 4, 3]\n"
          ]
        }
      ]
    },
    {
      "cell_type": "code",
      "metadata": {
        "id": "XMKBFy6bHhg4"
      },
      "source": [
        "# Split dataset into training set and test set\n",
        "X_train, X_test, y_train, y_test = train_test_split(X, y, test_size=0.2, random_state=42) # 80% training and 20% test"
      ],
      "execution_count": 34,
      "outputs": []
    },
    {
      "cell_type": "code",
      "metadata": {
        "id": "laAKjumNBDYI"
      },
      "source": [
        "from sklearn.preprocessing import StandardScaler\n",
        "scaler = StandardScaler()\n",
        "scaler.fit(X_train)\n",
        "\n",
        "X_train = scaler.transform(X_train)\n",
        "X_test = scaler.transform(X_test)"
      ],
      "execution_count": 35,
      "outputs": []
    },
    {
      "cell_type": "code",
      "metadata": {
        "colab": {
          "base_uri": "https://localhost:8080/"
        },
        "id": "oI1Vc6LyGTuP",
        "outputId": "d280fa68-70a7-4698-bb27-f0b635d58801"
      },
      "source": [
        "print(np.any(np.isinf(X_train)))\n",
        "print(np.any(np.isinf(X_test)))\n",
        "print(np.any(np.isnan(X_train)))\n",
        "print(np.any(np.isnan(X_test)))\n",
        "\n",
        "print(X_test)\n",
        "X_test[np.isnan(X_test)] = 0"
      ],
      "execution_count": 41,
      "outputs": [
        {
          "output_type": "stream",
          "name": "stdout",
          "text": [
            "False\n",
            "False\n",
            "False\n",
            "True\n",
            "[[ 0.06616216  0.72647377  0.54990865  0.80454692  0.10765519 -0.66460917\n",
            "   1.36375447  0.86366703  1.3813251   1.20265979]\n",
            " [-0.70572975 -2.07645653 -1.36202541  1.18000215 -0.72966298  0.27524218\n",
            "  -0.24516934 -0.64775028         nan -1.48413336]\n",
            " [ 0.06616216  0.72647377  0.86856433  0.42909169  0.10765519  1.21509353\n",
            "   0.29113859  0.10795838  1.3813251   0.30706207]\n",
            " [-0.70572975 -0.47478207  0.61363979 -0.32181877  0.94497337  2.15494489\n",
            "  -0.24516934 -0.64775028 -0.97703482  0.30706207]\n",
            " [ 0.06616216  0.72647377  0.23125298 -0.32181877  0.94497337 -0.66460917\n",
            "   0.82744653  0.86366703 -0.03369086 -0.14073678]\n",
            " [-0.70572975 -2.07645653 -1.04336973 -0.697274    1.78229155 -0.66460917\n",
            "  -0.24516934  0.10795838  0.90965311  1.20265979]\n",
            " [ 0.06616216 -0.47478207 -0.72471405  0.05363646 -0.72966298  0.27524218\n",
            "  -1.31778522 -0.64775028 -0.03369086  0.30706207]\n",
            " [ 1.60994598  0.32605516  0.86856433  0.42909169  0.10765519  1.21509353\n",
            "   1.36375447  1.61937569 -0.50536284 -0.14073678]\n",
            " [-0.70572975 -2.07645653 -1.68068109  0.42909169  1.78229155  0.27524218\n",
            "  -0.78147728  0.10795838 -1.44870681 -1.0363345 ]\n",
            " [-0.70572975 -3.27771238 -1.36202541 -1.07272922  0.10765519 -1.60446052\n",
            "  -0.24516934  0.86366703 -1.92037879 -2.37973107]\n",
            " [-0.70572975 -0.47478207 -0.40605838 -0.32181877 -0.72966298 -1.60446052\n",
            "   0.29113859  0.10795838  0.43798113  0.30706207]\n",
            " [ 0.06616216 -2.07645653 -0.40605838  0.05363646 -0.72966298  0.27524218\n",
            "  -0.24516934 -0.64775028 -0.97703482  0.30706207]\n",
            " [ 0.06616216 -0.87520069 -1.36202541  0.42909169 -0.72966298 -1.60446052\n",
            "  -0.24516934  0.10795838 -1.44870681 -0.58853564]\n",
            " [ 0.06616216  1.527311    0.23125298  0.42909169 -0.72966298 -0.66460917\n",
            "   0.29113859  0.86366703  0.43798113 -1.0363345 ]\n",
            " [ 0.06616216 -0.47478207 -1.04336973  1.18000215  0.94497337  0.27524218\n",
            "   0.29113859 -0.64775028  0.43798113  0.75486093]\n",
            " [ 1.60994598  0.72647377  0.86856433  0.42909169  0.10765519  0.27524218\n",
            "  -0.24516934  0.10795838  0.90965311  0.30706207]\n",
            " [ 0.06616216  0.72647377  0.54990865  0.42909169 -0.72966298  0.27524218\n",
            "   0.29113859 -0.64775028 -0.50536284  0.75486093]\n",
            " [ 0.06616216 -0.47478207 -0.40605838 -0.32181877 -0.72966298  0.27524218\n",
            "  -0.78147728 -0.64775028 -0.97703482 -1.93193222]]\n"
          ]
        }
      ]
    },
    {
      "cell_type": "code",
      "metadata": {
        "id": "e0BDirZF_mdJ"
      },
      "source": [
        "# Create Decision Tree classifer object\n",
        "DT = DecisionTreeClassifier(criterion='entropy')\n",
        "\n",
        "# Train Decision Tree Classifer\n",
        "DT = DT.fit(X_train,y_train)\n",
        "\n",
        "#Predict the response for test dataset\n",
        "y_pred = DT.predict(X_test)"
      ],
      "execution_count": 42,
      "outputs": []
    },
    {
      "cell_type": "code",
      "metadata": {
        "colab": {
          "base_uri": "https://localhost:8080/"
        },
        "id": "F3K2HQ5DIRvN",
        "outputId": "ab2020b5-a760-4810-afd0-fc2df100dce9"
      },
      "source": [
        "# Model Accuracy, how often is the classifier correct?\n",
        "print(\"Accuracy:\", accuracy_score(y_test, y_pred))"
      ],
      "execution_count": 43,
      "outputs": [
        {
          "output_type": "stream",
          "name": "stdout",
          "text": [
            "Accuracy: 0.5\n"
          ]
        }
      ]
    },
    {
      "cell_type": "code",
      "metadata": {
        "colab": {
          "base_uri": "https://localhost:8080/",
          "height": 1000
        },
        "id": "yyBnpn6-Iau5",
        "outputId": "730d800f-0303-4d3d-a7b0-797dc9849dee"
      },
      "source": [
        "import graphviz \n",
        "dot_data = tree.export_graphviz(DT, out_file=None, \n",
        "                      feature_names=feature_cols,  \n",
        "                      class_names=['0','1','2','3','4','5','6'],  \n",
        "                      filled=True, rounded=True,  \n",
        "                      special_characters=True)  \n",
        "graph = graphviz.Source(dot_data)  \n",
        "graph "
      ],
      "execution_count": 45,
      "outputs": [
        {
          "output_type": "execute_result",
          "data": {
            "text/plain": [
              "<graphviz.files.Source at 0x7fde9d091d50>"
            ],
            "image/svg+xml": "<?xml version=\"1.0\" encoding=\"UTF-8\" standalone=\"no\"?>\n<!DOCTYPE svg PUBLIC \"-//W3C//DTD SVG 1.1//EN\"\n \"http://www.w3.org/Graphics/SVG/1.1/DTD/svg11.dtd\">\n<!-- Generated by graphviz version 2.40.1 (20161225.0304)\n -->\n<!-- Title: Tree Pages: 1 -->\n<svg width=\"3025pt\" height=\"1147pt\"\n viewBox=\"0.00 0.00 3025.00 1147.00\" xmlns=\"http://www.w3.org/2000/svg\" xmlns:xlink=\"http://www.w3.org/1999/xlink\">\n<g id=\"graph0\" class=\"graph\" transform=\"scale(1 1) rotate(0) translate(4 1143)\">\n<title>Tree</title>\n<polygon fill=\"#ffffff\" stroke=\"transparent\" points=\"-4,4 -4,-1143 3021,-1143 3021,4 -4,4\"/>\n<!-- 0 -->\n<g id=\"node1\" class=\"node\">\n<title>0</title>\n<path fill=\"#f3a1d1\" stroke=\"#000000\" d=\"M1458,-1139C1458,-1139 1238,-1139 1238,-1139 1232,-1139 1226,-1133 1226,-1127 1226,-1127 1226,-1068 1226,-1068 1226,-1062 1232,-1056 1238,-1056 1238,-1056 1458,-1056 1458,-1056 1464,-1056 1470,-1062 1470,-1068 1470,-1068 1470,-1127 1470,-1127 1470,-1133 1464,-1139 1458,-1139\"/>\n<text text-anchor=\"start\" x=\"1234\" y=\"-1123.8\" font-family=\"Helvetica,sans-Serif\" font-size=\"14.00\" fill=\"#000000\">Average CT Marks (0 &#45; 20) ≤ &#45;0.675</text>\n<text text-anchor=\"start\" x=\"1297\" y=\"-1108.8\" font-family=\"Helvetica,sans-Serif\" font-size=\"14.00\" fill=\"#000000\">entropy = 1.811</text>\n<text text-anchor=\"start\" x=\"1304\" y=\"-1093.8\" font-family=\"Helvetica,sans-Serif\" font-size=\"14.00\" fill=\"#000000\">samples = 70</text>\n<text text-anchor=\"start\" x=\"1266.5\" y=\"-1078.8\" font-family=\"Helvetica,sans-Serif\" font-size=\"14.00\" fill=\"#000000\">value = [1, 3, 4, 13, 9, 40]</text>\n<text text-anchor=\"start\" x=\"1319\" y=\"-1063.8\" font-family=\"Helvetica,sans-Serif\" font-size=\"14.00\" fill=\"#000000\">class = 5</text>\n</g>\n<!-- 1 -->\n<g id=\"node2\" class=\"node\">\n<title>1</title>\n<path fill=\"#eef7fd\" stroke=\"#000000\" d=\"M1250,-1020C1250,-1020 1068,-1020 1068,-1020 1062,-1020 1056,-1014 1056,-1008 1056,-1008 1056,-949 1056,-949 1056,-943 1062,-937 1068,-937 1068,-937 1250,-937 1250,-937 1256,-937 1262,-943 1262,-949 1262,-949 1262,-1008 1262,-1008 1262,-1014 1256,-1020 1250,-1020\"/>\n<text text-anchor=\"start\" x=\"1064\" y=\"-1004.8\" font-family=\"Helvetica,sans-Serif\" font-size=\"14.00\" fill=\"#000000\">Daily Study Hour (0 &#45; ) ≤ &#45;0.32</text>\n<text text-anchor=\"start\" x=\"1108\" y=\"-989.8\" font-family=\"Helvetica,sans-Serif\" font-size=\"14.00\" fill=\"#000000\">entropy = 2.399</text>\n<text text-anchor=\"start\" x=\"1115\" y=\"-974.8\" font-family=\"Helvetica,sans-Serif\" font-size=\"14.00\" fill=\"#000000\">samples = 16</text>\n<text text-anchor=\"start\" x=\"1086\" y=\"-959.8\" font-family=\"Helvetica,sans-Serif\" font-size=\"14.00\" fill=\"#000000\">value = [1, 2, 4, 5, 2, 2]</text>\n<text text-anchor=\"start\" x=\"1130\" y=\"-944.8\" font-family=\"Helvetica,sans-Serif\" font-size=\"14.00\" fill=\"#000000\">class = 3</text>\n</g>\n<!-- 0&#45;&gt;1 -->\n<g id=\"edge1\" class=\"edge\">\n<title>0&#45;&gt;1</title>\n<path fill=\"none\" stroke=\"#000000\" d=\"M1281.897,-1055.8796C1266.3587,-1046.0962 1249.6912,-1035.6019 1233.8013,-1025.5971\"/>\n<polygon fill=\"#000000\" stroke=\"#000000\" points=\"1235.3929,-1022.4633 1225.0657,-1020.0969 1231.6632,-1028.3869 1235.3929,-1022.4633\"/>\n<text text-anchor=\"middle\" x=\"1230.6062\" y=\"-1040.7752\" font-family=\"Helvetica,sans-Serif\" font-size=\"14.00\" fill=\"#000000\">True</text>\n</g>\n<!-- 18 -->\n<g id=\"node19\" class=\"node\">\n<title>18</title>\n<path fill=\"#ee7ebf\" stroke=\"#000000\" d=\"M1968.5,-1020C1968.5,-1020 1723.5,-1020 1723.5,-1020 1717.5,-1020 1711.5,-1014 1711.5,-1008 1711.5,-1008 1711.5,-949 1711.5,-949 1711.5,-943 1717.5,-937 1723.5,-937 1723.5,-937 1968.5,-937 1968.5,-937 1974.5,-937 1980.5,-943 1980.5,-949 1980.5,-949 1980.5,-1008 1980.5,-1008 1980.5,-1014 1974.5,-1020 1968.5,-1020\"/>\n<text text-anchor=\"start\" x=\"1719.5\" y=\"-1004.8\" font-family=\"Helvetica,sans-Serif\" font-size=\"14.00\" fill=\"#000000\">Class Attendance (percentage) ≤ 0.837</text>\n<text text-anchor=\"start\" x=\"1795\" y=\"-989.8\" font-family=\"Helvetica,sans-Serif\" font-size=\"14.00\" fill=\"#000000\">entropy = 1.254</text>\n<text text-anchor=\"start\" x=\"1802\" y=\"-974.8\" font-family=\"Helvetica,sans-Serif\" font-size=\"14.00\" fill=\"#000000\">samples = 54</text>\n<text text-anchor=\"start\" x=\"1769\" y=\"-959.8\" font-family=\"Helvetica,sans-Serif\" font-size=\"14.00\" fill=\"#000000\">value = [0, 1, 0, 8, 7, 38]</text>\n<text text-anchor=\"start\" x=\"1817\" y=\"-944.8\" font-family=\"Helvetica,sans-Serif\" font-size=\"14.00\" fill=\"#000000\">class = 5</text>\n</g>\n<!-- 0&#45;&gt;18 -->\n<g id=\"edge18\" class=\"edge\">\n<title>0&#45;&gt;18</title>\n<path fill=\"none\" stroke=\"#000000\" d=\"M1470.1433,-1068.3131C1540.008,-1051.6186 1628.0529,-1030.5797 1701.3623,-1013.062\"/>\n<polygon fill=\"#000000\" stroke=\"#000000\" points=\"1702.2319,-1016.4528 1711.1446,-1010.7245 1700.6049,-1009.6445 1702.2319,-1016.4528\"/>\n<text text-anchor=\"middle\" x=\"1698.0595\" y=\"-1028.3266\" font-family=\"Helvetica,sans-Serif\" font-size=\"14.00\" fill=\"#000000\">False</text>\n</g>\n<!-- 2 -->\n<g id=\"node3\" class=\"node\">\n<title>2</title>\n<path fill=\"#e6fcef\" stroke=\"#000000\" d=\"M850.5,-901C850.5,-901 577.5,-901 577.5,-901 571.5,-901 565.5,-895 565.5,-889 565.5,-889 565.5,-830 565.5,-830 565.5,-824 571.5,-818 577.5,-818 577.5,-818 850.5,-818 850.5,-818 856.5,-818 862.5,-824 862.5,-830 862.5,-830 862.5,-889 862.5,-889 862.5,-895 856.5,-901 850.5,-901\"/>\n<text text-anchor=\"start\" x=\"573.5\" y=\"-885.8\" font-family=\"Helvetica,sans-Serif\" font-size=\"14.00\" fill=\"#000000\">Social Media Hours (Daily Average) ≤ 0.023</text>\n<text text-anchor=\"start\" x=\"663\" y=\"-870.8\" font-family=\"Helvetica,sans-Serif\" font-size=\"14.00\" fill=\"#000000\">entropy = 1.936</text>\n<text text-anchor=\"start\" x=\"670\" y=\"-855.8\" font-family=\"Helvetica,sans-Serif\" font-size=\"14.00\" fill=\"#000000\">samples = 11</text>\n<text text-anchor=\"start\" x=\"641\" y=\"-840.8\" font-family=\"Helvetica,sans-Serif\" font-size=\"14.00\" fill=\"#000000\">value = [0, 2, 4, 3, 0, 2]</text>\n<text text-anchor=\"start\" x=\"685\" y=\"-825.8\" font-family=\"Helvetica,sans-Serif\" font-size=\"14.00\" fill=\"#000000\">class = 2</text>\n</g>\n<!-- 1&#45;&gt;2 -->\n<g id=\"edge2\" class=\"edge\">\n<title>1&#45;&gt;2</title>\n<path fill=\"none\" stroke=\"#000000\" d=\"M1055.7896,-950.8999C1001.3193,-936.3337 933.307,-918.1461 872.3272,-901.8392\"/>\n<polygon fill=\"#000000\" stroke=\"#000000\" points=\"873.1686,-898.4413 862.6038,-899.239 871.3602,-905.2037 873.1686,-898.4413\"/>\n</g>\n<!-- 11 -->\n<g id=\"node12\" class=\"node\">\n<title>11</title>\n<path fill=\"#ffffff\" stroke=\"#000000\" d=\"M1308.5,-901C1308.5,-901 1009.5,-901 1009.5,-901 1003.5,-901 997.5,-895 997.5,-889 997.5,-889 997.5,-830 997.5,-830 997.5,-824 1003.5,-818 1009.5,-818 1009.5,-818 1308.5,-818 1308.5,-818 1314.5,-818 1320.5,-824 1320.5,-830 1320.5,-830 1320.5,-889 1320.5,-889 1320.5,-895 1314.5,-901 1308.5,-901\"/>\n<text text-anchor=\"start\" x=\"1005.5\" y=\"-885.8\" font-family=\"Helvetica,sans-Serif\" font-size=\"14.00\" fill=\"#000000\">PL/SPL Sleeping Hours (Daily Average) ≤ 0.526</text>\n<text text-anchor=\"start\" x=\"1108\" y=\"-870.8\" font-family=\"Helvetica,sans-Serif\" font-size=\"14.00\" fill=\"#000000\">entropy = 1.522</text>\n<text text-anchor=\"start\" x=\"1119.5\" y=\"-855.8\" font-family=\"Helvetica,sans-Serif\" font-size=\"14.00\" fill=\"#000000\">samples = 5</text>\n<text text-anchor=\"start\" x=\"1086\" y=\"-840.8\" font-family=\"Helvetica,sans-Serif\" font-size=\"14.00\" fill=\"#000000\">value = [1, 0, 0, 2, 2, 0]</text>\n<text text-anchor=\"start\" x=\"1130\" y=\"-825.8\" font-family=\"Helvetica,sans-Serif\" font-size=\"14.00\" fill=\"#000000\">class = 3</text>\n</g>\n<!-- 1&#45;&gt;11 -->\n<g id=\"edge11\" class=\"edge\">\n<title>1&#45;&gt;11</title>\n<path fill=\"none\" stroke=\"#000000\" d=\"M1159,-936.8796C1159,-928.6838 1159,-919.9891 1159,-911.5013\"/>\n<polygon fill=\"#000000\" stroke=\"#000000\" points=\"1162.5001,-911.298 1159,-901.2981 1155.5001,-911.2981 1162.5001,-911.298\"/>\n</g>\n<!-- 3 -->\n<g id=\"node4\" class=\"node\">\n<title>3</title>\n<path fill=\"#cee6f8\" stroke=\"#000000\" d=\"M531,-782C531,-782 283,-782 283,-782 277,-782 271,-776 271,-770 271,-770 271,-711 271,-711 271,-705 277,-699 283,-699 283,-699 531,-699 531,-699 537,-699 543,-705 543,-711 543,-711 543,-770 543,-770 543,-776 537,-782 531,-782\"/>\n<text text-anchor=\"start\" x=\"279\" y=\"-766.8\" font-family=\"Helvetica,sans-Serif\" font-size=\"14.00\" fill=\"#000000\">Average Sleeping Hours (Daily) ≤ 0.745</text>\n<text text-anchor=\"start\" x=\"356\" y=\"-751.8\" font-family=\"Helvetica,sans-Serif\" font-size=\"14.00\" fill=\"#000000\">entropy = 1.459</text>\n<text text-anchor=\"start\" x=\"367.5\" y=\"-736.8\" font-family=\"Helvetica,sans-Serif\" font-size=\"14.00\" fill=\"#000000\">samples = 6</text>\n<text text-anchor=\"start\" x=\"334\" y=\"-721.8\" font-family=\"Helvetica,sans-Serif\" font-size=\"14.00\" fill=\"#000000\">value = [0, 0, 1, 3, 0, 2]</text>\n<text text-anchor=\"start\" x=\"378\" y=\"-706.8\" font-family=\"Helvetica,sans-Serif\" font-size=\"14.00\" fill=\"#000000\">class = 3</text>\n</g>\n<!-- 2&#45;&gt;3 -->\n<g id=\"edge3\" class=\"edge\">\n<title>2&#45;&gt;3</title>\n<path fill=\"none\" stroke=\"#000000\" d=\"M606.6263,-817.8796C579.8678,-807.5074 551.0477,-796.3361 523.8568,-785.7963\"/>\n<polygon fill=\"#000000\" stroke=\"#000000\" points=\"524.9021,-782.4478 514.3131,-782.0969 522.3721,-788.9746 524.9021,-782.4478\"/>\n</g>\n<!-- 8 -->\n<g id=\"node9\" class=\"node\">\n<title>8</title>\n<path fill=\"#bdf6d5\" stroke=\"#000000\" d=\"M800.5,-782C800.5,-782 627.5,-782 627.5,-782 621.5,-782 615.5,-776 615.5,-770 615.5,-770 615.5,-711 615.5,-711 615.5,-705 621.5,-699 627.5,-699 627.5,-699 800.5,-699 800.5,-699 806.5,-699 812.5,-705 812.5,-711 812.5,-711 812.5,-770 812.5,-770 812.5,-776 806.5,-782 800.5,-782\"/>\n<text text-anchor=\"start\" x=\"623.5\" y=\"-766.8\" font-family=\"Helvetica,sans-Serif\" font-size=\"14.00\" fill=\"#000000\">Confidence (0 &#45; 10) ≤ &#45;1.484</text>\n<text text-anchor=\"start\" x=\"663\" y=\"-751.8\" font-family=\"Helvetica,sans-Serif\" font-size=\"14.00\" fill=\"#000000\">entropy = 0.971</text>\n<text text-anchor=\"start\" x=\"674.5\" y=\"-736.8\" font-family=\"Helvetica,sans-Serif\" font-size=\"14.00\" fill=\"#000000\">samples = 5</text>\n<text text-anchor=\"start\" x=\"641\" y=\"-721.8\" font-family=\"Helvetica,sans-Serif\" font-size=\"14.00\" fill=\"#000000\">value = [0, 2, 3, 0, 0, 0]</text>\n<text text-anchor=\"start\" x=\"685\" y=\"-706.8\" font-family=\"Helvetica,sans-Serif\" font-size=\"14.00\" fill=\"#000000\">class = 2</text>\n</g>\n<!-- 2&#45;&gt;8 -->\n<g id=\"edge8\" class=\"edge\">\n<title>2&#45;&gt;8</title>\n<path fill=\"none\" stroke=\"#000000\" d=\"M714,-817.8796C714,-809.6838 714,-800.9891 714,-792.5013\"/>\n<polygon fill=\"#000000\" stroke=\"#000000\" points=\"717.5001,-792.298 714,-782.2981 710.5001,-792.2981 717.5001,-792.298\"/>\n</g>\n<!-- 4 -->\n<g id=\"node5\" class=\"node\">\n<title>4</title>\n<path fill=\"#7bbeee\" stroke=\"#000000\" d=\"M295.5,-663C295.5,-663 46.5,-663 46.5,-663 40.5,-663 34.5,-657 34.5,-651 34.5,-651 34.5,-592 34.5,-592 34.5,-586 40.5,-580 46.5,-580 46.5,-580 295.5,-580 295.5,-580 301.5,-580 307.5,-586 307.5,-592 307.5,-592 307.5,-651 307.5,-651 307.5,-657 301.5,-663 295.5,-663\"/>\n<text text-anchor=\"start\" x=\"42.5\" y=\"-647.8\" font-family=\"Helvetica,sans-Serif\" font-size=\"14.00\" fill=\"#000000\">Class Attendance (percentage) ≤ &#45;0.183</text>\n<text text-anchor=\"start\" x=\"120\" y=\"-632.8\" font-family=\"Helvetica,sans-Serif\" font-size=\"14.00\" fill=\"#000000\">entropy = 0.811</text>\n<text text-anchor=\"start\" x=\"131.5\" y=\"-617.8\" font-family=\"Helvetica,sans-Serif\" font-size=\"14.00\" fill=\"#000000\">samples = 4</text>\n<text text-anchor=\"start\" x=\"98\" y=\"-602.8\" font-family=\"Helvetica,sans-Serif\" font-size=\"14.00\" fill=\"#000000\">value = [0, 0, 1, 3, 0, 0]</text>\n<text text-anchor=\"start\" x=\"142\" y=\"-587.8\" font-family=\"Helvetica,sans-Serif\" font-size=\"14.00\" fill=\"#000000\">class = 3</text>\n</g>\n<!-- 3&#45;&gt;4 -->\n<g id=\"edge4\" class=\"edge\">\n<title>3&#45;&gt;4</title>\n<path fill=\"none\" stroke=\"#000000\" d=\"M324.4587,-698.8796C304.4276,-688.7791 282.8936,-677.9209 262.4768,-667.626\"/>\n<polygon fill=\"#000000\" stroke=\"#000000\" points=\"263.9997,-664.4742 253.4947,-663.0969 260.848,-670.7245 263.9997,-664.4742\"/>\n</g>\n<!-- 7 -->\n<g id=\"node8\" class=\"node\">\n<title>7</title>\n<path fill=\"#e5399d\" stroke=\"#000000\" d=\"M476,-655.5C476,-655.5 338,-655.5 338,-655.5 332,-655.5 326,-649.5 326,-643.5 326,-643.5 326,-599.5 326,-599.5 326,-593.5 332,-587.5 338,-587.5 338,-587.5 476,-587.5 476,-587.5 482,-587.5 488,-593.5 488,-599.5 488,-599.5 488,-643.5 488,-643.5 488,-649.5 482,-655.5 476,-655.5\"/>\n<text text-anchor=\"start\" x=\"364.5\" y=\"-640.3\" font-family=\"Helvetica,sans-Serif\" font-size=\"14.00\" fill=\"#000000\">entropy = 0.0</text>\n<text text-anchor=\"start\" x=\"367.5\" y=\"-625.3\" font-family=\"Helvetica,sans-Serif\" font-size=\"14.00\" fill=\"#000000\">samples = 2</text>\n<text text-anchor=\"start\" x=\"334\" y=\"-610.3\" font-family=\"Helvetica,sans-Serif\" font-size=\"14.00\" fill=\"#000000\">value = [0, 0, 0, 0, 0, 2]</text>\n<text text-anchor=\"start\" x=\"378\" y=\"-595.3\" font-family=\"Helvetica,sans-Serif\" font-size=\"14.00\" fill=\"#000000\">class = 5</text>\n</g>\n<!-- 3&#45;&gt;7 -->\n<g id=\"edge7\" class=\"edge\">\n<title>3&#45;&gt;7</title>\n<path fill=\"none\" stroke=\"#000000\" d=\"M407,-698.8796C407,-688.2134 407,-676.7021 407,-665.9015\"/>\n<polygon fill=\"#000000\" stroke=\"#000000\" points=\"410.5001,-665.8149 407,-655.8149 403.5001,-665.815 410.5001,-665.8149\"/>\n</g>\n<!-- 5 -->\n<g id=\"node6\" class=\"node\">\n<title>5</title>\n<path fill=\"#399de5\" stroke=\"#000000\" d=\"M150,-536.5C150,-536.5 12,-536.5 12,-536.5 6,-536.5 0,-530.5 0,-524.5 0,-524.5 0,-480.5 0,-480.5 0,-474.5 6,-468.5 12,-468.5 12,-468.5 150,-468.5 150,-468.5 156,-468.5 162,-474.5 162,-480.5 162,-480.5 162,-524.5 162,-524.5 162,-530.5 156,-536.5 150,-536.5\"/>\n<text text-anchor=\"start\" x=\"38.5\" y=\"-521.3\" font-family=\"Helvetica,sans-Serif\" font-size=\"14.00\" fill=\"#000000\">entropy = 0.0</text>\n<text text-anchor=\"start\" x=\"41.5\" y=\"-506.3\" font-family=\"Helvetica,sans-Serif\" font-size=\"14.00\" fill=\"#000000\">samples = 3</text>\n<text text-anchor=\"start\" x=\"8\" y=\"-491.3\" font-family=\"Helvetica,sans-Serif\" font-size=\"14.00\" fill=\"#000000\">value = [0, 0, 0, 3, 0, 0]</text>\n<text text-anchor=\"start\" x=\"52\" y=\"-476.3\" font-family=\"Helvetica,sans-Serif\" font-size=\"14.00\" fill=\"#000000\">class = 3</text>\n</g>\n<!-- 4&#45;&gt;5 -->\n<g id=\"edge5\" class=\"edge\">\n<title>4&#45;&gt;5</title>\n<path fill=\"none\" stroke=\"#000000\" d=\"M139.5224,-579.8796C130.9565,-568.5536 121.67,-556.2748 113.0717,-544.9058\"/>\n<polygon fill=\"#000000\" stroke=\"#000000\" points=\"115.7762,-542.6795 106.9525,-536.8149 110.1931,-546.902 115.7762,-542.6795\"/>\n</g>\n<!-- 6 -->\n<g id=\"node7\" class=\"node\">\n<title>6</title>\n<path fill=\"#39e581\" stroke=\"#000000\" d=\"M330,-536.5C330,-536.5 192,-536.5 192,-536.5 186,-536.5 180,-530.5 180,-524.5 180,-524.5 180,-480.5 180,-480.5 180,-474.5 186,-468.5 192,-468.5 192,-468.5 330,-468.5 330,-468.5 336,-468.5 342,-474.5 342,-480.5 342,-480.5 342,-524.5 342,-524.5 342,-530.5 336,-536.5 330,-536.5\"/>\n<text text-anchor=\"start\" x=\"218.5\" y=\"-521.3\" font-family=\"Helvetica,sans-Serif\" font-size=\"14.00\" fill=\"#000000\">entropy = 0.0</text>\n<text text-anchor=\"start\" x=\"221.5\" y=\"-506.3\" font-family=\"Helvetica,sans-Serif\" font-size=\"14.00\" fill=\"#000000\">samples = 1</text>\n<text text-anchor=\"start\" x=\"188\" y=\"-491.3\" font-family=\"Helvetica,sans-Serif\" font-size=\"14.00\" fill=\"#000000\">value = [0, 0, 1, 0, 0, 0]</text>\n<text text-anchor=\"start\" x=\"232\" y=\"-476.3\" font-family=\"Helvetica,sans-Serif\" font-size=\"14.00\" fill=\"#000000\">class = 2</text>\n</g>\n<!-- 4&#45;&gt;6 -->\n<g id=\"edge6\" class=\"edge\">\n<title>4&#45;&gt;6</title>\n<path fill=\"none\" stroke=\"#000000\" d=\"M202.4776,-579.8796C211.0435,-568.5536 220.33,-556.2748 228.9283,-544.9058\"/>\n<polygon fill=\"#000000\" stroke=\"#000000\" points=\"231.8069,-546.902 235.0475,-536.8149 226.2238,-542.6795 231.8069,-546.902\"/>\n</g>\n<!-- 9 -->\n<g id=\"node10\" class=\"node\">\n<title>9</title>\n<path fill=\"#9de539\" stroke=\"#000000\" d=\"M656,-655.5C656,-655.5 518,-655.5 518,-655.5 512,-655.5 506,-649.5 506,-643.5 506,-643.5 506,-599.5 506,-599.5 506,-593.5 512,-587.5 518,-587.5 518,-587.5 656,-587.5 656,-587.5 662,-587.5 668,-593.5 668,-599.5 668,-599.5 668,-643.5 668,-643.5 668,-649.5 662,-655.5 656,-655.5\"/>\n<text text-anchor=\"start\" x=\"544.5\" y=\"-640.3\" font-family=\"Helvetica,sans-Serif\" font-size=\"14.00\" fill=\"#000000\">entropy = 0.0</text>\n<text text-anchor=\"start\" x=\"547.5\" y=\"-625.3\" font-family=\"Helvetica,sans-Serif\" font-size=\"14.00\" fill=\"#000000\">samples = 2</text>\n<text text-anchor=\"start\" x=\"514\" y=\"-610.3\" font-family=\"Helvetica,sans-Serif\" font-size=\"14.00\" fill=\"#000000\">value = [0, 2, 0, 0, 0, 0]</text>\n<text text-anchor=\"start\" x=\"558\" y=\"-595.3\" font-family=\"Helvetica,sans-Serif\" font-size=\"14.00\" fill=\"#000000\">class = 1</text>\n</g>\n<!-- 8&#45;&gt;9 -->\n<g id=\"edge9\" class=\"edge\">\n<title>8&#45;&gt;9</title>\n<path fill=\"none\" stroke=\"#000000\" d=\"M669.5816,-698.8796C657.1421,-687.2237 643.6257,-674.5587 631.199,-662.9148\"/>\n<polygon fill=\"#000000\" stroke=\"#000000\" points=\"633.3121,-660.0985 623.6218,-655.8149 628.5259,-665.2065 633.3121,-660.0985\"/>\n</g>\n<!-- 10 -->\n<g id=\"node11\" class=\"node\">\n<title>10</title>\n<path fill=\"#39e581\" stroke=\"#000000\" d=\"M836,-655.5C836,-655.5 698,-655.5 698,-655.5 692,-655.5 686,-649.5 686,-643.5 686,-643.5 686,-599.5 686,-599.5 686,-593.5 692,-587.5 698,-587.5 698,-587.5 836,-587.5 836,-587.5 842,-587.5 848,-593.5 848,-599.5 848,-599.5 848,-643.5 848,-643.5 848,-649.5 842,-655.5 836,-655.5\"/>\n<text text-anchor=\"start\" x=\"724.5\" y=\"-640.3\" font-family=\"Helvetica,sans-Serif\" font-size=\"14.00\" fill=\"#000000\">entropy = 0.0</text>\n<text text-anchor=\"start\" x=\"727.5\" y=\"-625.3\" font-family=\"Helvetica,sans-Serif\" font-size=\"14.00\" fill=\"#000000\">samples = 3</text>\n<text text-anchor=\"start\" x=\"694\" y=\"-610.3\" font-family=\"Helvetica,sans-Serif\" font-size=\"14.00\" fill=\"#000000\">value = [0, 0, 3, 0, 0, 0]</text>\n<text text-anchor=\"start\" x=\"738\" y=\"-595.3\" font-family=\"Helvetica,sans-Serif\" font-size=\"14.00\" fill=\"#000000\">class = 2</text>\n</g>\n<!-- 8&#45;&gt;10 -->\n<g id=\"edge10\" class=\"edge\">\n<title>8&#45;&gt;10</title>\n<path fill=\"none\" stroke=\"#000000\" d=\"M732.5368,-698.8796C737.3853,-687.9935 742.6258,-676.227 747.5217,-665.2344\"/>\n<polygon fill=\"#000000\" stroke=\"#000000\" points=\"750.8455,-666.3739 751.7169,-655.8149 744.4511,-663.5259 750.8455,-666.3739\"/>\n</g>\n<!-- 12 -->\n<g id=\"node13\" class=\"node\">\n<title>12</title>\n<path fill=\"#ffffff\" stroke=\"#000000\" d=\"M1158,-782C1158,-782 938,-782 938,-782 932,-782 926,-776 926,-770 926,-770 926,-711 926,-711 926,-705 932,-699 938,-699 938,-699 1158,-699 1158,-699 1164,-699 1170,-705 1170,-711 1170,-711 1170,-770 1170,-770 1170,-776 1164,-782 1158,-782\"/>\n<text text-anchor=\"start\" x=\"934\" y=\"-766.8\" font-family=\"Helvetica,sans-Serif\" font-size=\"14.00\" fill=\"#000000\">Average CT Marks (0 &#45; 20) ≤ &#45;1.476</text>\n<text text-anchor=\"start\" x=\"1005.5\" y=\"-751.8\" font-family=\"Helvetica,sans-Serif\" font-size=\"14.00\" fill=\"#000000\">entropy = 1.0</text>\n<text text-anchor=\"start\" x=\"1008.5\" y=\"-736.8\" font-family=\"Helvetica,sans-Serif\" font-size=\"14.00\" fill=\"#000000\">samples = 4</text>\n<text text-anchor=\"start\" x=\"975\" y=\"-721.8\" font-family=\"Helvetica,sans-Serif\" font-size=\"14.00\" fill=\"#000000\">value = [0, 0, 0, 2, 2, 0]</text>\n<text text-anchor=\"start\" x=\"1019\" y=\"-706.8\" font-family=\"Helvetica,sans-Serif\" font-size=\"14.00\" fill=\"#000000\">class = 3</text>\n</g>\n<!-- 11&#45;&gt;12 -->\n<g id=\"edge12\" class=\"edge\">\n<title>11&#45;&gt;12</title>\n<path fill=\"none\" stroke=\"#000000\" d=\"M1120.1776,-817.8796C1111.6927,-808.7832 1102.6346,-799.0722 1093.9032,-789.7116\"/>\n<polygon fill=\"#000000\" stroke=\"#000000\" points=\"1096.3686,-787.2233 1086.9881,-782.2981 1091.2497,-791.9981 1096.3686,-787.2233\"/>\n</g>\n<!-- 17 -->\n<g id=\"node18\" class=\"node\">\n<title>17</title>\n<path fill=\"#e58139\" stroke=\"#000000\" d=\"M1338,-774.5C1338,-774.5 1200,-774.5 1200,-774.5 1194,-774.5 1188,-768.5 1188,-762.5 1188,-762.5 1188,-718.5 1188,-718.5 1188,-712.5 1194,-706.5 1200,-706.5 1200,-706.5 1338,-706.5 1338,-706.5 1344,-706.5 1350,-712.5 1350,-718.5 1350,-718.5 1350,-762.5 1350,-762.5 1350,-768.5 1344,-774.5 1338,-774.5\"/>\n<text text-anchor=\"start\" x=\"1226.5\" y=\"-759.3\" font-family=\"Helvetica,sans-Serif\" font-size=\"14.00\" fill=\"#000000\">entropy = 0.0</text>\n<text text-anchor=\"start\" x=\"1229.5\" y=\"-744.3\" font-family=\"Helvetica,sans-Serif\" font-size=\"14.00\" fill=\"#000000\">samples = 1</text>\n<text text-anchor=\"start\" x=\"1196\" y=\"-729.3\" font-family=\"Helvetica,sans-Serif\" font-size=\"14.00\" fill=\"#000000\">value = [1, 0, 0, 0, 0, 0]</text>\n<text text-anchor=\"start\" x=\"1240\" y=\"-714.3\" font-family=\"Helvetica,sans-Serif\" font-size=\"14.00\" fill=\"#000000\">class = 0</text>\n</g>\n<!-- 11&#45;&gt;17 -->\n<g id=\"edge17\" class=\"edge\">\n<title>11&#45;&gt;17</title>\n<path fill=\"none\" stroke=\"#000000\" d=\"M1197.4727,-817.8796C1208.1453,-806.3337 1219.7333,-793.7976 1230.4125,-782.2446\"/>\n<polygon fill=\"#000000\" stroke=\"#000000\" points=\"1233.0625,-784.534 1237.2803,-774.8149 1227.9222,-779.7825 1233.0625,-784.534\"/>\n</g>\n<!-- 13 -->\n<g id=\"node14\" class=\"node\">\n<title>13</title>\n<path fill=\"#399de5\" stroke=\"#000000\" d=\"M1016,-655.5C1016,-655.5 878,-655.5 878,-655.5 872,-655.5 866,-649.5 866,-643.5 866,-643.5 866,-599.5 866,-599.5 866,-593.5 872,-587.5 878,-587.5 878,-587.5 1016,-587.5 1016,-587.5 1022,-587.5 1028,-593.5 1028,-599.5 1028,-599.5 1028,-643.5 1028,-643.5 1028,-649.5 1022,-655.5 1016,-655.5\"/>\n<text text-anchor=\"start\" x=\"904.5\" y=\"-640.3\" font-family=\"Helvetica,sans-Serif\" font-size=\"14.00\" fill=\"#000000\">entropy = 0.0</text>\n<text text-anchor=\"start\" x=\"907.5\" y=\"-625.3\" font-family=\"Helvetica,sans-Serif\" font-size=\"14.00\" fill=\"#000000\">samples = 1</text>\n<text text-anchor=\"start\" x=\"874\" y=\"-610.3\" font-family=\"Helvetica,sans-Serif\" font-size=\"14.00\" fill=\"#000000\">value = [0, 0, 0, 1, 0, 0]</text>\n<text text-anchor=\"start\" x=\"918\" y=\"-595.3\" font-family=\"Helvetica,sans-Serif\" font-size=\"14.00\" fill=\"#000000\">class = 3</text>\n</g>\n<!-- 12&#45;&gt;13 -->\n<g id=\"edge13\" class=\"edge\">\n<title>12&#45;&gt;13</title>\n<path fill=\"none\" stroke=\"#000000\" d=\"M1012.6751,-698.8796C1002.969,-687.4436 992.4384,-675.0363 982.7107,-663.575\"/>\n<polygon fill=\"#000000\" stroke=\"#000000\" points=\"985.2638,-661.1743 976.1244,-655.8149 979.9269,-665.7039 985.2638,-661.1743\"/>\n</g>\n<!-- 14 -->\n<g id=\"node15\" class=\"node\">\n<title>14</title>\n<path fill=\"#c09cf2\" stroke=\"#000000\" d=\"M1226,-663C1226,-663 1058,-663 1058,-663 1052,-663 1046,-657 1046,-651 1046,-651 1046,-592 1046,-592 1046,-586 1052,-580 1058,-580 1058,-580 1226,-580 1226,-580 1232,-580 1238,-586 1238,-592 1238,-592 1238,-651 1238,-651 1238,-657 1232,-663 1226,-663\"/>\n<text text-anchor=\"start\" x=\"1054\" y=\"-647.8\" font-family=\"Helvetica,sans-Serif\" font-size=\"14.00\" fill=\"#000000\">Confidence (0 &#45; 10) ≤ 0.083</text>\n<text text-anchor=\"start\" x=\"1091\" y=\"-632.8\" font-family=\"Helvetica,sans-Serif\" font-size=\"14.00\" fill=\"#000000\">entropy = 0.918</text>\n<text text-anchor=\"start\" x=\"1102.5\" y=\"-617.8\" font-family=\"Helvetica,sans-Serif\" font-size=\"14.00\" fill=\"#000000\">samples = 3</text>\n<text text-anchor=\"start\" x=\"1069\" y=\"-602.8\" font-family=\"Helvetica,sans-Serif\" font-size=\"14.00\" fill=\"#000000\">value = [0, 0, 0, 1, 2, 0]</text>\n<text text-anchor=\"start\" x=\"1113\" y=\"-587.8\" font-family=\"Helvetica,sans-Serif\" font-size=\"14.00\" fill=\"#000000\">class = 4</text>\n</g>\n<!-- 12&#45;&gt;14 -->\n<g id=\"edge14\" class=\"edge\">\n<title>12&#45;&gt;14</title>\n<path fill=\"none\" stroke=\"#000000\" d=\"M1080.8766,-698.8796C1087.9197,-689.9633 1095.4293,-680.4565 1102.6874,-671.268\"/>\n<polygon fill=\"#000000\" stroke=\"#000000\" points=\"1105.5309,-673.3147 1108.983,-663.2981 1100.0379,-668.9757 1105.5309,-673.3147\"/>\n</g>\n<!-- 15 -->\n<g id=\"node16\" class=\"node\">\n<title>15</title>\n<path fill=\"#8139e5\" stroke=\"#000000\" d=\"M1031,-536.5C1031,-536.5 893,-536.5 893,-536.5 887,-536.5 881,-530.5 881,-524.5 881,-524.5 881,-480.5 881,-480.5 881,-474.5 887,-468.5 893,-468.5 893,-468.5 1031,-468.5 1031,-468.5 1037,-468.5 1043,-474.5 1043,-480.5 1043,-480.5 1043,-524.5 1043,-524.5 1043,-530.5 1037,-536.5 1031,-536.5\"/>\n<text text-anchor=\"start\" x=\"919.5\" y=\"-521.3\" font-family=\"Helvetica,sans-Serif\" font-size=\"14.00\" fill=\"#000000\">entropy = 0.0</text>\n<text text-anchor=\"start\" x=\"922.5\" y=\"-506.3\" font-family=\"Helvetica,sans-Serif\" font-size=\"14.00\" fill=\"#000000\">samples = 2</text>\n<text text-anchor=\"start\" x=\"889\" y=\"-491.3\" font-family=\"Helvetica,sans-Serif\" font-size=\"14.00\" fill=\"#000000\">value = [0, 0, 0, 0, 2, 0]</text>\n<text text-anchor=\"start\" x=\"933\" y=\"-476.3\" font-family=\"Helvetica,sans-Serif\" font-size=\"14.00\" fill=\"#000000\">class = 4</text>\n</g>\n<!-- 14&#45;&gt;15 -->\n<g id=\"edge15\" class=\"edge\">\n<title>14&#45;&gt;15</title>\n<path fill=\"none\" stroke=\"#000000\" d=\"M1079.0447,-579.8796C1060.6616,-567.7263 1040.6189,-554.4759 1022.3979,-542.4297\"/>\n<polygon fill=\"#000000\" stroke=\"#000000\" points=\"1023.8867,-539.2183 1013.6147,-536.623 1020.0263,-545.0576 1023.8867,-539.2183\"/>\n</g>\n<!-- 16 -->\n<g id=\"node17\" class=\"node\">\n<title>16</title>\n<path fill=\"#399de5\" stroke=\"#000000\" d=\"M1211,-536.5C1211,-536.5 1073,-536.5 1073,-536.5 1067,-536.5 1061,-530.5 1061,-524.5 1061,-524.5 1061,-480.5 1061,-480.5 1061,-474.5 1067,-468.5 1073,-468.5 1073,-468.5 1211,-468.5 1211,-468.5 1217,-468.5 1223,-474.5 1223,-480.5 1223,-480.5 1223,-524.5 1223,-524.5 1223,-530.5 1217,-536.5 1211,-536.5\"/>\n<text text-anchor=\"start\" x=\"1099.5\" y=\"-521.3\" font-family=\"Helvetica,sans-Serif\" font-size=\"14.00\" fill=\"#000000\">entropy = 0.0</text>\n<text text-anchor=\"start\" x=\"1102.5\" y=\"-506.3\" font-family=\"Helvetica,sans-Serif\" font-size=\"14.00\" fill=\"#000000\">samples = 1</text>\n<text text-anchor=\"start\" x=\"1069\" y=\"-491.3\" font-family=\"Helvetica,sans-Serif\" font-size=\"14.00\" fill=\"#000000\">value = [0, 0, 0, 1, 0, 0]</text>\n<text text-anchor=\"start\" x=\"1113\" y=\"-476.3\" font-family=\"Helvetica,sans-Serif\" font-size=\"14.00\" fill=\"#000000\">class = 3</text>\n</g>\n<!-- 14&#45;&gt;16 -->\n<g id=\"edge16\" class=\"edge\">\n<title>14&#45;&gt;16</title>\n<path fill=\"none\" stroke=\"#000000\" d=\"M1142,-579.8796C1142,-569.2134 1142,-557.7021 1142,-546.9015\"/>\n<polygon fill=\"#000000\" stroke=\"#000000\" points=\"1145.5001,-546.8149 1142,-536.8149 1138.5001,-546.815 1145.5001,-546.8149\"/>\n</g>\n<!-- 19 -->\n<g id=\"node20\" class=\"node\">\n<title>19</title>\n<path fill=\"#ed77bc\" stroke=\"#000000\" d=\"M1973.5,-901C1973.5,-901 1718.5,-901 1718.5,-901 1712.5,-901 1706.5,-895 1706.5,-889 1706.5,-889 1706.5,-830 1706.5,-830 1706.5,-824 1712.5,-818 1718.5,-818 1718.5,-818 1973.5,-818 1973.5,-818 1979.5,-818 1985.5,-824 1985.5,-830 1985.5,-830 1985.5,-889 1985.5,-889 1985.5,-895 1979.5,-901 1973.5,-901\"/>\n<text text-anchor=\"start\" x=\"1714.5\" y=\"-885.8\" font-family=\"Helvetica,sans-Serif\" font-size=\"14.00\" fill=\"#000000\">PL/SPL Study Hours (Daily) (0 &#45; ) ≤ 1.368</text>\n<text text-anchor=\"start\" x=\"1795\" y=\"-870.8\" font-family=\"Helvetica,sans-Serif\" font-size=\"14.00\" fill=\"#000000\">entropy = 1.037</text>\n<text text-anchor=\"start\" x=\"1802\" y=\"-855.8\" font-family=\"Helvetica,sans-Serif\" font-size=\"14.00\" fill=\"#000000\">samples = 43</text>\n<text text-anchor=\"start\" x=\"1769\" y=\"-840.8\" font-family=\"Helvetica,sans-Serif\" font-size=\"14.00\" fill=\"#000000\">value = [0, 0, 0, 8, 3, 32]</text>\n<text text-anchor=\"start\" x=\"1817\" y=\"-825.8\" font-family=\"Helvetica,sans-Serif\" font-size=\"14.00\" fill=\"#000000\">class = 5</text>\n</g>\n<!-- 18&#45;&gt;19 -->\n<g id=\"edge19\" class=\"edge\">\n<title>18&#45;&gt;19</title>\n<path fill=\"none\" stroke=\"#000000\" d=\"M1846,-936.8796C1846,-928.6838 1846,-919.9891 1846,-911.5013\"/>\n<polygon fill=\"#000000\" stroke=\"#000000\" points=\"1849.5001,-911.298 1846,-901.2981 1842.5001,-911.2981 1849.5001,-911.298\"/>\n</g>\n<!-- 44 -->\n<g id=\"node45\" class=\"node\">\n<title>44</title>\n<path fill=\"#f8c6e3\" stroke=\"#000000\" d=\"M2536.5,-901C2536.5,-901 2321.5,-901 2321.5,-901 2315.5,-901 2309.5,-895 2309.5,-889 2309.5,-889 2309.5,-830 2309.5,-830 2309.5,-824 2315.5,-818 2321.5,-818 2321.5,-818 2536.5,-818 2536.5,-818 2542.5,-818 2548.5,-824 2548.5,-830 2548.5,-830 2548.5,-889 2548.5,-889 2548.5,-895 2542.5,-901 2536.5,-901\"/>\n<text text-anchor=\"start\" x=\"2317.5\" y=\"-885.8\" font-family=\"Helvetica,sans-Serif\" font-size=\"14.00\" fill=\"#000000\">Average CT Marks (0 &#45; 20) ≤ 0.526</text>\n<text text-anchor=\"start\" x=\"2378\" y=\"-870.8\" font-family=\"Helvetica,sans-Serif\" font-size=\"14.00\" fill=\"#000000\">entropy = 1.322</text>\n<text text-anchor=\"start\" x=\"2385\" y=\"-855.8\" font-family=\"Helvetica,sans-Serif\" font-size=\"14.00\" fill=\"#000000\">samples = 11</text>\n<text text-anchor=\"start\" x=\"2356\" y=\"-840.8\" font-family=\"Helvetica,sans-Serif\" font-size=\"14.00\" fill=\"#000000\">value = [0, 1, 0, 0, 4, 6]</text>\n<text text-anchor=\"start\" x=\"2400\" y=\"-825.8\" font-family=\"Helvetica,sans-Serif\" font-size=\"14.00\" fill=\"#000000\">class = 5</text>\n</g>\n<!-- 18&#45;&gt;44 -->\n<g id=\"edge44\" class=\"edge\">\n<title>18&#45;&gt;44</title>\n<path fill=\"none\" stroke=\"#000000\" d=\"M1980.8505,-950.9748C2076.6757,-931.4152 2204.6293,-905.2978 2299.2797,-885.9781\"/>\n<polygon fill=\"#000000\" stroke=\"#000000\" points=\"2300.1025,-889.3824 2309.2005,-883.9531 2298.7025,-882.5238 2300.1025,-889.3824\"/>\n</g>\n<!-- 20 -->\n<g id=\"node21\" class=\"node\">\n<title>20</title>\n<path fill=\"#ec6bb6\" stroke=\"#000000\" d=\"M1791,-782C1791,-782 1605,-782 1605,-782 1599,-782 1593,-776 1593,-770 1593,-770 1593,-711 1593,-711 1593,-705 1599,-699 1605,-699 1605,-699 1791,-699 1791,-699 1797,-699 1803,-705 1803,-711 1803,-711 1803,-770 1803,-770 1803,-776 1797,-782 1791,-782\"/>\n<text text-anchor=\"start\" x=\"1601\" y=\"-766.8\" font-family=\"Helvetica,sans-Serif\" font-size=\"14.00\" fill=\"#000000\">Daily Study Hour (0 &#45; ) ≤ 2.768</text>\n<text text-anchor=\"start\" x=\"1647\" y=\"-751.8\" font-family=\"Helvetica,sans-Serif\" font-size=\"14.00\" fill=\"#000000\">entropy = 0.844</text>\n<text text-anchor=\"start\" x=\"1654\" y=\"-736.8\" font-family=\"Helvetica,sans-Serif\" font-size=\"14.00\" fill=\"#000000\">samples = 39</text>\n<text text-anchor=\"start\" x=\"1621\" y=\"-721.8\" font-family=\"Helvetica,sans-Serif\" font-size=\"14.00\" fill=\"#000000\">value = [0, 0, 0, 7, 1, 31]</text>\n<text text-anchor=\"start\" x=\"1669\" y=\"-706.8\" font-family=\"Helvetica,sans-Serif\" font-size=\"14.00\" fill=\"#000000\">class = 5</text>\n</g>\n<!-- 19&#45;&gt;20 -->\n<g id=\"edge20\" class=\"edge\">\n<title>19&#45;&gt;20</title>\n<path fill=\"none\" stroke=\"#000000\" d=\"M1794.2368,-817.8796C1782.4072,-808.368 1769.7419,-798.1843 1757.6129,-788.432\"/>\n<polygon fill=\"#000000\" stroke=\"#000000\" points=\"1759.7204,-785.6355 1749.734,-782.0969 1755.3341,-791.0908 1759.7204,-785.6355\"/>\n</g>\n<!-- 39 -->\n<g id=\"node40\" class=\"node\">\n<title>39</title>\n<path fill=\"#d5bdf6\" stroke=\"#000000\" d=\"M2155,-782C2155,-782 1833,-782 1833,-782 1827,-782 1821,-776 1821,-770 1821,-770 1821,-711 1821,-711 1821,-705 1827,-699 1833,-699 1833,-699 2155,-699 2155,-699 2161,-699 2167,-705 2167,-711 2167,-711 2167,-770 2167,-770 2167,-776 2161,-782 2155,-782\"/>\n<text text-anchor=\"start\" x=\"1829\" y=\"-766.8\" font-family=\"Helvetica,sans-Serif\" font-size=\"14.00\" fill=\"#000000\">PL/SPL Social Media Hours (Daily Average) ≤ &#45;0.27</text>\n<text text-anchor=\"start\" x=\"1951.5\" y=\"-751.8\" font-family=\"Helvetica,sans-Serif\" font-size=\"14.00\" fill=\"#000000\">entropy = 1.5</text>\n<text text-anchor=\"start\" x=\"1954.5\" y=\"-736.8\" font-family=\"Helvetica,sans-Serif\" font-size=\"14.00\" fill=\"#000000\">samples = 4</text>\n<text text-anchor=\"start\" x=\"1921\" y=\"-721.8\" font-family=\"Helvetica,sans-Serif\" font-size=\"14.00\" fill=\"#000000\">value = [0, 0, 0, 1, 2, 1]</text>\n<text text-anchor=\"start\" x=\"1965\" y=\"-706.8\" font-family=\"Helvetica,sans-Serif\" font-size=\"14.00\" fill=\"#000000\">class = 4</text>\n</g>\n<!-- 19&#45;&gt;39 -->\n<g id=\"edge39\" class=\"edge\">\n<title>19&#45;&gt;39</title>\n<path fill=\"none\" stroke=\"#000000\" d=\"M1897.7632,-817.8796C1909.5928,-808.368 1922.2581,-798.1843 1934.3871,-788.432\"/>\n<polygon fill=\"#000000\" stroke=\"#000000\" points=\"1936.6659,-791.0908 1942.266,-782.0969 1932.2796,-785.6355 1936.6659,-791.0908\"/>\n</g>\n<!-- 21 -->\n<g id=\"node22\" class=\"node\">\n<title>21</title>\n<path fill=\"#eb66b3\" stroke=\"#000000\" d=\"M1615.5,-663C1615.5,-663 1400.5,-663 1400.5,-663 1394.5,-663 1388.5,-657 1388.5,-651 1388.5,-651 1388.5,-592 1388.5,-592 1388.5,-586 1394.5,-580 1400.5,-580 1400.5,-580 1615.5,-580 1615.5,-580 1621.5,-580 1627.5,-586 1627.5,-592 1627.5,-592 1627.5,-651 1627.5,-651 1627.5,-657 1621.5,-663 1615.5,-663\"/>\n<text text-anchor=\"start\" x=\"1396.5\" y=\"-647.8\" font-family=\"Helvetica,sans-Serif\" font-size=\"14.00\" fill=\"#000000\">Average CT Marks (0 &#45; 20) ≤ 0.526</text>\n<text text-anchor=\"start\" x=\"1457\" y=\"-632.8\" font-family=\"Helvetica,sans-Serif\" font-size=\"14.00\" fill=\"#000000\">entropy = 0.689</text>\n<text text-anchor=\"start\" x=\"1464\" y=\"-617.8\" font-family=\"Helvetica,sans-Serif\" font-size=\"14.00\" fill=\"#000000\">samples = 38</text>\n<text text-anchor=\"start\" x=\"1431\" y=\"-602.8\" font-family=\"Helvetica,sans-Serif\" font-size=\"14.00\" fill=\"#000000\">value = [0, 0, 0, 7, 0, 31]</text>\n<text text-anchor=\"start\" x=\"1479\" y=\"-587.8\" font-family=\"Helvetica,sans-Serif\" font-size=\"14.00\" fill=\"#000000\">class = 5</text>\n</g>\n<!-- 20&#45;&gt;21 -->\n<g id=\"edge21\" class=\"edge\">\n<title>20&#45;&gt;21</title>\n<path fill=\"none\" stroke=\"#000000\" d=\"M1631.5472,-698.8796C1615.9267,-689.0962 1599.171,-678.6019 1583.1971,-668.5971\"/>\n<polygon fill=\"#000000\" stroke=\"#000000\" points=\"1584.7481,-665.4387 1574.4153,-663.0969 1581.0324,-671.3712 1584.7481,-665.4387\"/>\n</g>\n<!-- 38 -->\n<g id=\"node39\" class=\"node\">\n<title>38</title>\n<path fill=\"#8139e5\" stroke=\"#000000\" d=\"M1796,-655.5C1796,-655.5 1658,-655.5 1658,-655.5 1652,-655.5 1646,-649.5 1646,-643.5 1646,-643.5 1646,-599.5 1646,-599.5 1646,-593.5 1652,-587.5 1658,-587.5 1658,-587.5 1796,-587.5 1796,-587.5 1802,-587.5 1808,-593.5 1808,-599.5 1808,-599.5 1808,-643.5 1808,-643.5 1808,-649.5 1802,-655.5 1796,-655.5\"/>\n<text text-anchor=\"start\" x=\"1684.5\" y=\"-640.3\" font-family=\"Helvetica,sans-Serif\" font-size=\"14.00\" fill=\"#000000\">entropy = 0.0</text>\n<text text-anchor=\"start\" x=\"1687.5\" y=\"-625.3\" font-family=\"Helvetica,sans-Serif\" font-size=\"14.00\" fill=\"#000000\">samples = 1</text>\n<text text-anchor=\"start\" x=\"1654\" y=\"-610.3\" font-family=\"Helvetica,sans-Serif\" font-size=\"14.00\" fill=\"#000000\">value = [0, 0, 0, 0, 1, 0]</text>\n<text text-anchor=\"start\" x=\"1698\" y=\"-595.3\" font-family=\"Helvetica,sans-Serif\" font-size=\"14.00\" fill=\"#000000\">class = 4</text>\n</g>\n<!-- 20&#45;&gt;38 -->\n<g id=\"edge38\" class=\"edge\">\n<title>20&#45;&gt;38</title>\n<path fill=\"none\" stroke=\"#000000\" d=\"M1708.1428,-698.8796C1710.7689,-688.1034 1713.6052,-676.4647 1716.2608,-665.5677\"/>\n<polygon fill=\"#000000\" stroke=\"#000000\" points=\"1719.6703,-666.3593 1718.6375,-655.8149 1712.8693,-664.7019 1719.6703,-666.3593\"/>\n</g>\n<!-- 22 -->\n<g id=\"node23\" class=\"node\">\n<title>22</title>\n<path fill=\"#f08ec7\" stroke=\"#000000\" d=\"M1552.5,-544C1552.5,-544 1253.5,-544 1253.5,-544 1247.5,-544 1241.5,-538 1241.5,-532 1241.5,-532 1241.5,-473 1241.5,-473 1241.5,-467 1247.5,-461 1253.5,-461 1253.5,-461 1552.5,-461 1552.5,-461 1558.5,-461 1564.5,-467 1564.5,-473 1564.5,-473 1564.5,-532 1564.5,-532 1564.5,-538 1558.5,-544 1552.5,-544\"/>\n<text text-anchor=\"start\" x=\"1249.5\" y=\"-528.8\" font-family=\"Helvetica,sans-Serif\" font-size=\"14.00\" fill=\"#000000\">PL/SPL Sleeping Hours (Daily Average) ≤ 0.526</text>\n<text text-anchor=\"start\" x=\"1352\" y=\"-513.8\" font-family=\"Helvetica,sans-Serif\" font-size=\"14.00\" fill=\"#000000\">entropy = 0.881</text>\n<text text-anchor=\"start\" x=\"1359\" y=\"-498.8\" font-family=\"Helvetica,sans-Serif\" font-size=\"14.00\" fill=\"#000000\">samples = 20</text>\n<text text-anchor=\"start\" x=\"1326\" y=\"-483.8\" font-family=\"Helvetica,sans-Serif\" font-size=\"14.00\" fill=\"#000000\">value = [0, 0, 0, 6, 0, 14]</text>\n<text text-anchor=\"start\" x=\"1374\" y=\"-468.8\" font-family=\"Helvetica,sans-Serif\" font-size=\"14.00\" fill=\"#000000\">class = 5</text>\n</g>\n<!-- 21&#45;&gt;22 -->\n<g id=\"edge22\" class=\"edge\">\n<title>21&#45;&gt;22</title>\n<path fill=\"none\" stroke=\"#000000\" d=\"M1471.2761,-579.8796C1463.3293,-570.8733 1454.851,-561.2644 1446.6674,-551.9897\"/>\n<polygon fill=\"#000000\" stroke=\"#000000\" points=\"1449.1213,-549.4808 1439.8807,-544.2981 1443.8725,-554.1122 1449.1213,-549.4808\"/>\n</g>\n<!-- 35 -->\n<g id=\"node36\" class=\"node\">\n<title>35</title>\n<path fill=\"#e745a3\" stroke=\"#000000\" d=\"M1867.5,-544C1867.5,-544 1594.5,-544 1594.5,-544 1588.5,-544 1582.5,-538 1582.5,-532 1582.5,-532 1582.5,-473 1582.5,-473 1582.5,-467 1588.5,-461 1594.5,-461 1594.5,-461 1867.5,-461 1867.5,-461 1873.5,-461 1879.5,-467 1879.5,-473 1879.5,-473 1879.5,-532 1879.5,-532 1879.5,-538 1873.5,-544 1867.5,-544\"/>\n<text text-anchor=\"start\" x=\"1590.5\" y=\"-528.8\" font-family=\"Helvetica,sans-Serif\" font-size=\"14.00\" fill=\"#000000\">Social Media Hours (Daily Average) ≤ 2.436</text>\n<text text-anchor=\"start\" x=\"1684\" y=\"-513.8\" font-family=\"Helvetica,sans-Serif\" font-size=\"14.00\" fill=\"#000000\">entropy = 0.31</text>\n<text text-anchor=\"start\" x=\"1687\" y=\"-498.8\" font-family=\"Helvetica,sans-Serif\" font-size=\"14.00\" fill=\"#000000\">samples = 18</text>\n<text text-anchor=\"start\" x=\"1654\" y=\"-483.8\" font-family=\"Helvetica,sans-Serif\" font-size=\"14.00\" fill=\"#000000\">value = [0, 0, 0, 1, 0, 17]</text>\n<text text-anchor=\"start\" x=\"1702\" y=\"-468.8\" font-family=\"Helvetica,sans-Serif\" font-size=\"14.00\" fill=\"#000000\">class = 5</text>\n</g>\n<!-- 21&#45;&gt;35 -->\n<g id=\"edge35\" class=\"edge\">\n<title>21&#45;&gt;35</title>\n<path fill=\"none\" stroke=\"#000000\" d=\"M1585.9946,-579.8796C1604.7525,-569.8697 1624.9052,-559.1156 1644.0428,-548.9031\"/>\n<polygon fill=\"#000000\" stroke=\"#000000\" points=\"1645.8748,-551.8928 1653.0495,-544.0969 1642.5792,-545.7171 1645.8748,-551.8928\"/>\n</g>\n<!-- 23 -->\n<g id=\"node24\" class=\"node\">\n<title>23</title>\n<path fill=\"#fbdeef\" stroke=\"#000000\" d=\"M1257,-425C1257,-425 1005,-425 1005,-425 999,-425 993,-419 993,-413 993,-413 993,-354 993,-354 993,-348 999,-342 1005,-342 1005,-342 1257,-342 1257,-342 1263,-342 1269,-348 1269,-354 1269,-354 1269,-413 1269,-413 1269,-419 1263,-425 1257,-425\"/>\n<text text-anchor=\"start\" x=\"1001\" y=\"-409.8\" font-family=\"Helvetica,sans-Serif\" font-size=\"14.00\" fill=\"#000000\">Average Sleeping Hours (Daily) ≤ &#45;0.195</text>\n<text text-anchor=\"start\" x=\"1080\" y=\"-394.8\" font-family=\"Helvetica,sans-Serif\" font-size=\"14.00\" fill=\"#000000\">entropy = 0.994</text>\n<text text-anchor=\"start\" x=\"1087\" y=\"-379.8\" font-family=\"Helvetica,sans-Serif\" font-size=\"14.00\" fill=\"#000000\">samples = 11</text>\n<text text-anchor=\"start\" x=\"1058\" y=\"-364.8\" font-family=\"Helvetica,sans-Serif\" font-size=\"14.00\" fill=\"#000000\">value = [0, 0, 0, 5, 0, 6]</text>\n<text text-anchor=\"start\" x=\"1102\" y=\"-349.8\" font-family=\"Helvetica,sans-Serif\" font-size=\"14.00\" fill=\"#000000\">class = 5</text>\n</g>\n<!-- 22&#45;&gt;23 -->\n<g id=\"edge23\" class=\"edge\">\n<title>22&#45;&gt;23</title>\n<path fill=\"none\" stroke=\"#000000\" d=\"M1307.8676,-460.8796C1284.4703,-450.6433 1259.294,-439.6286 1235.4819,-429.2108\"/>\n<polygon fill=\"#000000\" stroke=\"#000000\" points=\"1236.6432,-425.8986 1226.0787,-425.0969 1233.8374,-432.3117 1236.6432,-425.8986\"/>\n</g>\n<!-- 30 -->\n<g id=\"node31\" class=\"node\">\n<title>30</title>\n<path fill=\"#e852a9\" stroke=\"#000000\" d=\"M1551,-425C1551,-425 1299,-425 1299,-425 1293,-425 1287,-419 1287,-413 1287,-413 1287,-354 1287,-354 1287,-348 1293,-342 1299,-342 1299,-342 1551,-342 1551,-342 1557,-342 1563,-348 1563,-354 1563,-354 1563,-413 1563,-413 1563,-419 1557,-425 1551,-425\"/>\n<text text-anchor=\"start\" x=\"1295\" y=\"-409.8\" font-family=\"Helvetica,sans-Serif\" font-size=\"14.00\" fill=\"#000000\">Average Sleeping Hours (Daily) ≤ &#45;0.195</text>\n<text text-anchor=\"start\" x=\"1374\" y=\"-394.8\" font-family=\"Helvetica,sans-Serif\" font-size=\"14.00\" fill=\"#000000\">entropy = 0.503</text>\n<text text-anchor=\"start\" x=\"1385.5\" y=\"-379.8\" font-family=\"Helvetica,sans-Serif\" font-size=\"14.00\" fill=\"#000000\">samples = 9</text>\n<text text-anchor=\"start\" x=\"1352\" y=\"-364.8\" font-family=\"Helvetica,sans-Serif\" font-size=\"14.00\" fill=\"#000000\">value = [0, 0, 0, 1, 0, 8]</text>\n<text text-anchor=\"start\" x=\"1396\" y=\"-349.8\" font-family=\"Helvetica,sans-Serif\" font-size=\"14.00\" fill=\"#000000\">class = 5</text>\n</g>\n<!-- 22&#45;&gt;30 -->\n<g id=\"edge30\" class=\"edge\">\n<title>22&#45;&gt;30</title>\n<path fill=\"none\" stroke=\"#000000\" d=\"M1410.6945,-460.8796C1412.2264,-452.5938 1413.8525,-443.798 1415.438,-435.2216\"/>\n<polygon fill=\"#000000\" stroke=\"#000000\" points=\"1418.8963,-435.7677 1417.2726,-425.2981 1412.0129,-434.4951 1418.8963,-435.7677\"/>\n</g>\n<!-- 24 -->\n<g id=\"node25\" class=\"node\">\n<title>24</title>\n<path fill=\"#e5399d\" stroke=\"#000000\" d=\"M972,-298.5C972,-298.5 834,-298.5 834,-298.5 828,-298.5 822,-292.5 822,-286.5 822,-286.5 822,-242.5 822,-242.5 822,-236.5 828,-230.5 834,-230.5 834,-230.5 972,-230.5 972,-230.5 978,-230.5 984,-236.5 984,-242.5 984,-242.5 984,-286.5 984,-286.5 984,-292.5 978,-298.5 972,-298.5\"/>\n<text text-anchor=\"start\" x=\"860.5\" y=\"-283.3\" font-family=\"Helvetica,sans-Serif\" font-size=\"14.00\" fill=\"#000000\">entropy = 0.0</text>\n<text text-anchor=\"start\" x=\"863.5\" y=\"-268.3\" font-family=\"Helvetica,sans-Serif\" font-size=\"14.00\" fill=\"#000000\">samples = 5</text>\n<text text-anchor=\"start\" x=\"830\" y=\"-253.3\" font-family=\"Helvetica,sans-Serif\" font-size=\"14.00\" fill=\"#000000\">value = [0, 0, 0, 0, 0, 5]</text>\n<text text-anchor=\"start\" x=\"874\" y=\"-238.3\" font-family=\"Helvetica,sans-Serif\" font-size=\"14.00\" fill=\"#000000\">class = 5</text>\n</g>\n<!-- 23&#45;&gt;24 -->\n<g id=\"edge24\" class=\"edge\">\n<title>23&#45;&gt;24</title>\n<path fill=\"none\" stroke=\"#000000\" d=\"M1051.2567,-341.8796C1027.2305,-329.3396 1000.9663,-315.6315 977.3081,-303.2836\"/>\n<polygon fill=\"#000000\" stroke=\"#000000\" points=\"978.8632,-300.1473 968.3786,-298.623 975.6243,-306.3529 978.8632,-300.1473\"/>\n</g>\n<!-- 25 -->\n<g id=\"node26\" class=\"node\">\n<title>25</title>\n<path fill=\"#61b1ea\" stroke=\"#000000\" d=\"M1265.5,-306C1265.5,-306 1014.5,-306 1014.5,-306 1008.5,-306 1002.5,-300 1002.5,-294 1002.5,-294 1002.5,-235 1002.5,-235 1002.5,-229 1008.5,-223 1014.5,-223 1014.5,-223 1265.5,-223 1265.5,-223 1271.5,-223 1277.5,-229 1277.5,-235 1277.5,-235 1277.5,-294 1277.5,-294 1277.5,-300 1271.5,-306 1265.5,-306\"/>\n<text text-anchor=\"start\" x=\"1010.5\" y=\"-290.8\" font-family=\"Helvetica,sans-Serif\" font-size=\"14.00\" fill=\"#000000\">PL/SPL Study Hours (Daily) (0 &#45; ) ≤ &#45;0.51</text>\n<text text-anchor=\"start\" x=\"1093\" y=\"-275.8\" font-family=\"Helvetica,sans-Serif\" font-size=\"14.00\" fill=\"#000000\">entropy = 0.65</text>\n<text text-anchor=\"start\" x=\"1100.5\" y=\"-260.8\" font-family=\"Helvetica,sans-Serif\" font-size=\"14.00\" fill=\"#000000\">samples = 6</text>\n<text text-anchor=\"start\" x=\"1067\" y=\"-245.8\" font-family=\"Helvetica,sans-Serif\" font-size=\"14.00\" fill=\"#000000\">value = [0, 0, 0, 5, 0, 1]</text>\n<text text-anchor=\"start\" x=\"1111\" y=\"-230.8\" font-family=\"Helvetica,sans-Serif\" font-size=\"14.00\" fill=\"#000000\">class = 3</text>\n</g>\n<!-- 23&#45;&gt;25 -->\n<g id=\"edge25\" class=\"edge\">\n<title>23&#45;&gt;25</title>\n<path fill=\"none\" stroke=\"#000000\" d=\"M1134.1478,-341.8796C1134.7676,-333.6838 1135.4252,-324.9891 1136.0671,-316.5013\"/>\n<polygon fill=\"#000000\" stroke=\"#000000\" points=\"1139.5746,-316.5336 1136.8388,-306.2981 1132.5945,-316.0056 1139.5746,-316.5336\"/>\n</g>\n<!-- 26 -->\n<g id=\"node27\" class=\"node\">\n<title>26</title>\n<path fill=\"#ffffff\" stroke=\"#000000\" d=\"M1057,-187C1057,-187 871,-187 871,-187 865,-187 859,-181 859,-175 859,-175 859,-116 859,-116 859,-110 865,-104 871,-104 871,-104 1057,-104 1057,-104 1063,-104 1069,-110 1069,-116 1069,-116 1069,-175 1069,-175 1069,-181 1063,-187 1057,-187\"/>\n<text text-anchor=\"start\" x=\"867\" y=\"-171.8\" font-family=\"Helvetica,sans-Serif\" font-size=\"14.00\" fill=\"#000000\">Daily Study Hour (0 &#45; ) ≤ 0.452</text>\n<text text-anchor=\"start\" x=\"921.5\" y=\"-156.8\" font-family=\"Helvetica,sans-Serif\" font-size=\"14.00\" fill=\"#000000\">entropy = 1.0</text>\n<text text-anchor=\"start\" x=\"924.5\" y=\"-141.8\" font-family=\"Helvetica,sans-Serif\" font-size=\"14.00\" fill=\"#000000\">samples = 2</text>\n<text text-anchor=\"start\" x=\"891\" y=\"-126.8\" font-family=\"Helvetica,sans-Serif\" font-size=\"14.00\" fill=\"#000000\">value = [0, 0, 0, 1, 0, 1]</text>\n<text text-anchor=\"start\" x=\"935\" y=\"-111.8\" font-family=\"Helvetica,sans-Serif\" font-size=\"14.00\" fill=\"#000000\">class = 3</text>\n</g>\n<!-- 25&#45;&gt;26 -->\n<g id=\"edge26\" class=\"edge\">\n<title>25&#45;&gt;26</title>\n<path fill=\"none\" stroke=\"#000000\" d=\"M1078.4437,-222.8796C1064.1082,-213.1868 1048.7405,-202.7961 1034.0675,-192.8752\"/>\n<polygon fill=\"#000000\" stroke=\"#000000\" points=\"1035.7661,-189.7987 1025.5215,-187.0969 1031.8452,-195.5976 1035.7661,-189.7987\"/>\n</g>\n<!-- 29 -->\n<g id=\"node30\" class=\"node\">\n<title>29</title>\n<path fill=\"#399de5\" stroke=\"#000000\" d=\"M1237,-179.5C1237,-179.5 1099,-179.5 1099,-179.5 1093,-179.5 1087,-173.5 1087,-167.5 1087,-167.5 1087,-123.5 1087,-123.5 1087,-117.5 1093,-111.5 1099,-111.5 1099,-111.5 1237,-111.5 1237,-111.5 1243,-111.5 1249,-117.5 1249,-123.5 1249,-123.5 1249,-167.5 1249,-167.5 1249,-173.5 1243,-179.5 1237,-179.5\"/>\n<text text-anchor=\"start\" x=\"1125.5\" y=\"-164.3\" font-family=\"Helvetica,sans-Serif\" font-size=\"14.00\" fill=\"#000000\">entropy = 0.0</text>\n<text text-anchor=\"start\" x=\"1128.5\" y=\"-149.3\" font-family=\"Helvetica,sans-Serif\" font-size=\"14.00\" fill=\"#000000\">samples = 4</text>\n<text text-anchor=\"start\" x=\"1095\" y=\"-134.3\" font-family=\"Helvetica,sans-Serif\" font-size=\"14.00\" fill=\"#000000\">value = [0, 0, 0, 4, 0, 0]</text>\n<text text-anchor=\"start\" x=\"1139\" y=\"-119.3\" font-family=\"Helvetica,sans-Serif\" font-size=\"14.00\" fill=\"#000000\">class = 3</text>\n</g>\n<!-- 25&#45;&gt;29 -->\n<g id=\"edge29\" class=\"edge\">\n<title>25&#45;&gt;29</title>\n<path fill=\"none\" stroke=\"#000000\" d=\"M1149.793,-222.8796C1152.3286,-212.1034 1155.0671,-200.4647 1157.6311,-189.5677\"/>\n<polygon fill=\"#000000\" stroke=\"#000000\" points=\"1161.0424,-190.3508 1159.9259,-179.8149 1154.2285,-188.7474 1161.0424,-190.3508\"/>\n</g>\n<!-- 27 -->\n<g id=\"node28\" class=\"node\">\n<title>27</title>\n<path fill=\"#e5399d\" stroke=\"#000000\" d=\"M943,-68C943,-68 805,-68 805,-68 799,-68 793,-62 793,-56 793,-56 793,-12 793,-12 793,-6 799,0 805,0 805,0 943,0 943,0 949,0 955,-6 955,-12 955,-12 955,-56 955,-56 955,-62 949,-68 943,-68\"/>\n<text text-anchor=\"start\" x=\"831.5\" y=\"-52.8\" font-family=\"Helvetica,sans-Serif\" font-size=\"14.00\" fill=\"#000000\">entropy = 0.0</text>\n<text text-anchor=\"start\" x=\"834.5\" y=\"-37.8\" font-family=\"Helvetica,sans-Serif\" font-size=\"14.00\" fill=\"#000000\">samples = 1</text>\n<text text-anchor=\"start\" x=\"801\" y=\"-22.8\" font-family=\"Helvetica,sans-Serif\" font-size=\"14.00\" fill=\"#000000\">value = [0, 0, 0, 0, 0, 1]</text>\n<text text-anchor=\"start\" x=\"845\" y=\"-7.8\" font-family=\"Helvetica,sans-Serif\" font-size=\"14.00\" fill=\"#000000\">class = 5</text>\n</g>\n<!-- 26&#45;&gt;27 -->\n<g id=\"edge27\" class=\"edge\">\n<title>26&#45;&gt;27</title>\n<path fill=\"none\" stroke=\"#000000\" d=\"M930.4873,-103.9815C923.143,-94.8828 915.3612,-85.242 907.9981,-76.1199\"/>\n<polygon fill=\"#000000\" stroke=\"#000000\" points=\"910.6612,-73.8467 901.6568,-68.2637 905.2143,-78.2434 910.6612,-73.8467\"/>\n</g>\n<!-- 28 -->\n<g id=\"node29\" class=\"node\">\n<title>28</title>\n<path fill=\"#399de5\" stroke=\"#000000\" d=\"M1123,-68C1123,-68 985,-68 985,-68 979,-68 973,-62 973,-56 973,-56 973,-12 973,-12 973,-6 979,0 985,0 985,0 1123,0 1123,0 1129,0 1135,-6 1135,-12 1135,-12 1135,-56 1135,-56 1135,-62 1129,-68 1123,-68\"/>\n<text text-anchor=\"start\" x=\"1011.5\" y=\"-52.8\" font-family=\"Helvetica,sans-Serif\" font-size=\"14.00\" fill=\"#000000\">entropy = 0.0</text>\n<text text-anchor=\"start\" x=\"1014.5\" y=\"-37.8\" font-family=\"Helvetica,sans-Serif\" font-size=\"14.00\" fill=\"#000000\">samples = 1</text>\n<text text-anchor=\"start\" x=\"981\" y=\"-22.8\" font-family=\"Helvetica,sans-Serif\" font-size=\"14.00\" fill=\"#000000\">value = [0, 0, 0, 1, 0, 0]</text>\n<text text-anchor=\"start\" x=\"1025\" y=\"-7.8\" font-family=\"Helvetica,sans-Serif\" font-size=\"14.00\" fill=\"#000000\">class = 3</text>\n</g>\n<!-- 26&#45;&gt;28 -->\n<g id=\"edge28\" class=\"edge\">\n<title>26&#45;&gt;28</title>\n<path fill=\"none\" stroke=\"#000000\" d=\"M997.5127,-103.9815C1004.857,-94.8828 1012.6388,-85.242 1020.0019,-76.1199\"/>\n<polygon fill=\"#000000\" stroke=\"#000000\" points=\"1022.7857,-78.2434 1026.3432,-68.2637 1017.3388,-73.8467 1022.7857,-78.2434\"/>\n</g>\n<!-- 31 -->\n<g id=\"node32\" class=\"node\">\n<title>31</title>\n<path fill=\"#f29cce\" stroke=\"#000000\" d=\"M1507,-306C1507,-306 1325,-306 1325,-306 1319,-306 1313,-300 1313,-294 1313,-294 1313,-235 1313,-235 1313,-229 1319,-223 1325,-223 1325,-223 1507,-223 1507,-223 1513,-223 1519,-229 1519,-235 1519,-235 1519,-294 1519,-294 1519,-300 1513,-306 1507,-306\"/>\n<text text-anchor=\"start\" x=\"1321\" y=\"-290.8\" font-family=\"Helvetica,sans-Serif\" font-size=\"14.00\" fill=\"#000000\">Daily Study Hour (0 &#45; ) ≤ &#45;0.32</text>\n<text text-anchor=\"start\" x=\"1365\" y=\"-275.8\" font-family=\"Helvetica,sans-Serif\" font-size=\"14.00\" fill=\"#000000\">entropy = 0.918</text>\n<text text-anchor=\"start\" x=\"1376.5\" y=\"-260.8\" font-family=\"Helvetica,sans-Serif\" font-size=\"14.00\" fill=\"#000000\">samples = 3</text>\n<text text-anchor=\"start\" x=\"1343\" y=\"-245.8\" font-family=\"Helvetica,sans-Serif\" font-size=\"14.00\" fill=\"#000000\">value = [0, 0, 0, 1, 0, 2]</text>\n<text text-anchor=\"start\" x=\"1387\" y=\"-230.8\" font-family=\"Helvetica,sans-Serif\" font-size=\"14.00\" fill=\"#000000\">class = 5</text>\n</g>\n<!-- 30&#45;&gt;31 -->\n<g id=\"edge31\" class=\"edge\">\n<title>30&#45;&gt;31</title>\n<path fill=\"none\" stroke=\"#000000\" d=\"M1421.8522,-341.8796C1421.2324,-333.6838 1420.5748,-324.9891 1419.9329,-316.5013\"/>\n<polygon fill=\"#000000\" stroke=\"#000000\" points=\"1423.4055,-316.0056 1419.1612,-306.2981 1416.4254,-316.5336 1423.4055,-316.0056\"/>\n</g>\n<!-- 34 -->\n<g id=\"node35\" class=\"node\">\n<title>34</title>\n<path fill=\"#e5399d\" stroke=\"#000000\" d=\"M1687,-298.5C1687,-298.5 1549,-298.5 1549,-298.5 1543,-298.5 1537,-292.5 1537,-286.5 1537,-286.5 1537,-242.5 1537,-242.5 1537,-236.5 1543,-230.5 1549,-230.5 1549,-230.5 1687,-230.5 1687,-230.5 1693,-230.5 1699,-236.5 1699,-242.5 1699,-242.5 1699,-286.5 1699,-286.5 1699,-292.5 1693,-298.5 1687,-298.5\"/>\n<text text-anchor=\"start\" x=\"1575.5\" y=\"-283.3\" font-family=\"Helvetica,sans-Serif\" font-size=\"14.00\" fill=\"#000000\">entropy = 0.0</text>\n<text text-anchor=\"start\" x=\"1578.5\" y=\"-268.3\" font-family=\"Helvetica,sans-Serif\" font-size=\"14.00\" fill=\"#000000\">samples = 6</text>\n<text text-anchor=\"start\" x=\"1545\" y=\"-253.3\" font-family=\"Helvetica,sans-Serif\" font-size=\"14.00\" fill=\"#000000\">value = [0, 0, 0, 0, 0, 6]</text>\n<text text-anchor=\"start\" x=\"1589\" y=\"-238.3\" font-family=\"Helvetica,sans-Serif\" font-size=\"14.00\" fill=\"#000000\">class = 5</text>\n</g>\n<!-- 30&#45;&gt;34 -->\n<g id=\"edge34\" class=\"edge\">\n<title>30&#45;&gt;34</title>\n<path fill=\"none\" stroke=\"#000000\" d=\"M1492.502,-341.8796C1512.4816,-329.5606 1534.2895,-316.1143 1554.0381,-303.9376\"/>\n<polygon fill=\"#000000\" stroke=\"#000000\" points=\"1555.9825,-306.8507 1562.6576,-298.623 1552.3086,-300.8922 1555.9825,-306.8507\"/>\n</g>\n<!-- 32 -->\n<g id=\"node33\" class=\"node\">\n<title>32</title>\n<path fill=\"#399de5\" stroke=\"#000000\" d=\"M1456,-179.5C1456,-179.5 1318,-179.5 1318,-179.5 1312,-179.5 1306,-173.5 1306,-167.5 1306,-167.5 1306,-123.5 1306,-123.5 1306,-117.5 1312,-111.5 1318,-111.5 1318,-111.5 1456,-111.5 1456,-111.5 1462,-111.5 1468,-117.5 1468,-123.5 1468,-123.5 1468,-167.5 1468,-167.5 1468,-173.5 1462,-179.5 1456,-179.5\"/>\n<text text-anchor=\"start\" x=\"1344.5\" y=\"-164.3\" font-family=\"Helvetica,sans-Serif\" font-size=\"14.00\" fill=\"#000000\">entropy = 0.0</text>\n<text text-anchor=\"start\" x=\"1347.5\" y=\"-149.3\" font-family=\"Helvetica,sans-Serif\" font-size=\"14.00\" fill=\"#000000\">samples = 1</text>\n<text text-anchor=\"start\" x=\"1314\" y=\"-134.3\" font-family=\"Helvetica,sans-Serif\" font-size=\"14.00\" fill=\"#000000\">value = [0, 0, 0, 1, 0, 0]</text>\n<text text-anchor=\"start\" x=\"1358\" y=\"-119.3\" font-family=\"Helvetica,sans-Serif\" font-size=\"14.00\" fill=\"#000000\">class = 3</text>\n</g>\n<!-- 31&#45;&gt;32 -->\n<g id=\"edge32\" class=\"edge\">\n<title>31&#45;&gt;32</title>\n<path fill=\"none\" stroke=\"#000000\" d=\"M1405.8572,-222.8796C1403.2311,-212.1034 1400.3948,-200.4647 1397.7392,-189.5677\"/>\n<polygon fill=\"#000000\" stroke=\"#000000\" points=\"1401.1307,-188.7019 1395.3625,-179.8149 1394.3297,-190.3593 1401.1307,-188.7019\"/>\n</g>\n<!-- 33 -->\n<g id=\"node34\" class=\"node\">\n<title>33</title>\n<path fill=\"#e5399d\" stroke=\"#000000\" d=\"M1636,-179.5C1636,-179.5 1498,-179.5 1498,-179.5 1492,-179.5 1486,-173.5 1486,-167.5 1486,-167.5 1486,-123.5 1486,-123.5 1486,-117.5 1492,-111.5 1498,-111.5 1498,-111.5 1636,-111.5 1636,-111.5 1642,-111.5 1648,-117.5 1648,-123.5 1648,-123.5 1648,-167.5 1648,-167.5 1648,-173.5 1642,-179.5 1636,-179.5\"/>\n<text text-anchor=\"start\" x=\"1524.5\" y=\"-164.3\" font-family=\"Helvetica,sans-Serif\" font-size=\"14.00\" fill=\"#000000\">entropy = 0.0</text>\n<text text-anchor=\"start\" x=\"1527.5\" y=\"-149.3\" font-family=\"Helvetica,sans-Serif\" font-size=\"14.00\" fill=\"#000000\">samples = 2</text>\n<text text-anchor=\"start\" x=\"1494\" y=\"-134.3\" font-family=\"Helvetica,sans-Serif\" font-size=\"14.00\" fill=\"#000000\">value = [0, 0, 0, 0, 0, 2]</text>\n<text text-anchor=\"start\" x=\"1538\" y=\"-119.3\" font-family=\"Helvetica,sans-Serif\" font-size=\"14.00\" fill=\"#000000\">class = 5</text>\n</g>\n<!-- 31&#45;&gt;33 -->\n<g id=\"edge33\" class=\"edge\">\n<title>31&#45;&gt;33</title>\n<path fill=\"none\" stroke=\"#000000\" d=\"M1468.8125,-222.8796C1483.8817,-211.0038 1500.2803,-198.0804 1515.2834,-186.2568\"/>\n<polygon fill=\"#000000\" stroke=\"#000000\" points=\"1517.7698,-188.7536 1523.4575,-179.8149 1513.4369,-183.2557 1517.7698,-188.7536\"/>\n</g>\n<!-- 36 -->\n<g id=\"node37\" class=\"node\">\n<title>36</title>\n<path fill=\"#e5399d\" stroke=\"#000000\" d=\"M1782,-417.5C1782,-417.5 1636,-417.5 1636,-417.5 1630,-417.5 1624,-411.5 1624,-405.5 1624,-405.5 1624,-361.5 1624,-361.5 1624,-355.5 1630,-349.5 1636,-349.5 1636,-349.5 1782,-349.5 1782,-349.5 1788,-349.5 1794,-355.5 1794,-361.5 1794,-361.5 1794,-405.5 1794,-405.5 1794,-411.5 1788,-417.5 1782,-417.5\"/>\n<text text-anchor=\"start\" x=\"1666.5\" y=\"-402.3\" font-family=\"Helvetica,sans-Serif\" font-size=\"14.00\" fill=\"#000000\">entropy = 0.0</text>\n<text text-anchor=\"start\" x=\"1665\" y=\"-387.3\" font-family=\"Helvetica,sans-Serif\" font-size=\"14.00\" fill=\"#000000\">samples = 17</text>\n<text text-anchor=\"start\" x=\"1632\" y=\"-372.3\" font-family=\"Helvetica,sans-Serif\" font-size=\"14.00\" fill=\"#000000\">value = [0, 0, 0, 0, 0, 17]</text>\n<text text-anchor=\"start\" x=\"1680\" y=\"-357.3\" font-family=\"Helvetica,sans-Serif\" font-size=\"14.00\" fill=\"#000000\">class = 5</text>\n</g>\n<!-- 35&#45;&gt;36 -->\n<g id=\"edge36\" class=\"edge\">\n<title>35&#45;&gt;36</title>\n<path fill=\"none\" stroke=\"#000000\" d=\"M1723.3055,-460.8796C1721.3336,-450.2134 1719.2054,-438.7021 1717.2087,-427.9015\"/>\n<polygon fill=\"#000000\" stroke=\"#000000\" points=\"1720.6036,-427.012 1715.3439,-417.8149 1713.7203,-428.2846 1720.6036,-427.012\"/>\n</g>\n<!-- 37 -->\n<g id=\"node38\" class=\"node\">\n<title>37</title>\n<path fill=\"#399de5\" stroke=\"#000000\" d=\"M1962,-417.5C1962,-417.5 1824,-417.5 1824,-417.5 1818,-417.5 1812,-411.5 1812,-405.5 1812,-405.5 1812,-361.5 1812,-361.5 1812,-355.5 1818,-349.5 1824,-349.5 1824,-349.5 1962,-349.5 1962,-349.5 1968,-349.5 1974,-355.5 1974,-361.5 1974,-361.5 1974,-405.5 1974,-405.5 1974,-411.5 1968,-417.5 1962,-417.5\"/>\n<text text-anchor=\"start\" x=\"1850.5\" y=\"-402.3\" font-family=\"Helvetica,sans-Serif\" font-size=\"14.00\" fill=\"#000000\">entropy = 0.0</text>\n<text text-anchor=\"start\" x=\"1853.5\" y=\"-387.3\" font-family=\"Helvetica,sans-Serif\" font-size=\"14.00\" fill=\"#000000\">samples = 1</text>\n<text text-anchor=\"start\" x=\"1820\" y=\"-372.3\" font-family=\"Helvetica,sans-Serif\" font-size=\"14.00\" fill=\"#000000\">value = [0, 0, 0, 1, 0, 0]</text>\n<text text-anchor=\"start\" x=\"1864\" y=\"-357.3\" font-family=\"Helvetica,sans-Serif\" font-size=\"14.00\" fill=\"#000000\">class = 3</text>\n</g>\n<!-- 35&#45;&gt;37 -->\n<g id=\"edge37\" class=\"edge\">\n<title>35&#45;&gt;37</title>\n<path fill=\"none\" stroke=\"#000000\" d=\"M1787.6597,-460.8796C1804.0541,-448.8368 1821.9151,-435.7167 1838.1942,-423.7586\"/>\n<polygon fill=\"#000000\" stroke=\"#000000\" points=\"1840.5595,-426.3639 1846.5468,-417.623 1836.4154,-420.7224 1840.5595,-426.3639\"/>\n</g>\n<!-- 40 -->\n<g id=\"node41\" class=\"node\">\n<title>40</title>\n<path fill=\"#ffffff\" stroke=\"#000000\" d=\"M2105,-663C2105,-663 1853,-663 1853,-663 1847,-663 1841,-657 1841,-651 1841,-651 1841,-592 1841,-592 1841,-586 1847,-580 1853,-580 1853,-580 2105,-580 2105,-580 2111,-580 2117,-586 2117,-592 2117,-592 2117,-651 2117,-651 2117,-657 2111,-663 2105,-663\"/>\n<text text-anchor=\"start\" x=\"1849\" y=\"-647.8\" font-family=\"Helvetica,sans-Serif\" font-size=\"14.00\" fill=\"#000000\">Average Sleeping Hours (Daily) ≤ &#45;0.195</text>\n<text text-anchor=\"start\" x=\"1936.5\" y=\"-632.8\" font-family=\"Helvetica,sans-Serif\" font-size=\"14.00\" fill=\"#000000\">entropy = 1.0</text>\n<text text-anchor=\"start\" x=\"1939.5\" y=\"-617.8\" font-family=\"Helvetica,sans-Serif\" font-size=\"14.00\" fill=\"#000000\">samples = 2</text>\n<text text-anchor=\"start\" x=\"1906\" y=\"-602.8\" font-family=\"Helvetica,sans-Serif\" font-size=\"14.00\" fill=\"#000000\">value = [0, 0, 0, 1, 0, 1]</text>\n<text text-anchor=\"start\" x=\"1950\" y=\"-587.8\" font-family=\"Helvetica,sans-Serif\" font-size=\"14.00\" fill=\"#000000\">class = 3</text>\n</g>\n<!-- 39&#45;&gt;40 -->\n<g id=\"edge40\" class=\"edge\">\n<title>39&#45;&gt;40</title>\n<path fill=\"none\" stroke=\"#000000\" d=\"M1988.7537,-698.8796C1987.7093,-690.5938 1986.6006,-681.798 1985.5195,-673.2216\"/>\n<polygon fill=\"#000000\" stroke=\"#000000\" points=\"1988.9919,-672.7818 1984.2687,-663.2981 1982.0468,-673.6573 1988.9919,-672.7818\"/>\n</g>\n<!-- 43 -->\n<g id=\"node44\" class=\"node\">\n<title>43</title>\n<path fill=\"#8139e5\" stroke=\"#000000\" d=\"M2285,-655.5C2285,-655.5 2147,-655.5 2147,-655.5 2141,-655.5 2135,-649.5 2135,-643.5 2135,-643.5 2135,-599.5 2135,-599.5 2135,-593.5 2141,-587.5 2147,-587.5 2147,-587.5 2285,-587.5 2285,-587.5 2291,-587.5 2297,-593.5 2297,-599.5 2297,-599.5 2297,-643.5 2297,-643.5 2297,-649.5 2291,-655.5 2285,-655.5\"/>\n<text text-anchor=\"start\" x=\"2173.5\" y=\"-640.3\" font-family=\"Helvetica,sans-Serif\" font-size=\"14.00\" fill=\"#000000\">entropy = 0.0</text>\n<text text-anchor=\"start\" x=\"2176.5\" y=\"-625.3\" font-family=\"Helvetica,sans-Serif\" font-size=\"14.00\" fill=\"#000000\">samples = 2</text>\n<text text-anchor=\"start\" x=\"2143\" y=\"-610.3\" font-family=\"Helvetica,sans-Serif\" font-size=\"14.00\" fill=\"#000000\">value = [0, 0, 0, 0, 2, 0]</text>\n<text text-anchor=\"start\" x=\"2187\" y=\"-595.3\" font-family=\"Helvetica,sans-Serif\" font-size=\"14.00\" fill=\"#000000\">class = 4</text>\n</g>\n<!-- 39&#45;&gt;43 -->\n<g id=\"edge43\" class=\"edge\">\n<title>39&#45;&gt;43</title>\n<path fill=\"none\" stroke=\"#000000\" d=\"M2071.6448,-698.8796C2094.9357,-686.3948 2120.3865,-672.7523 2143.3428,-660.4469\"/>\n<polygon fill=\"#000000\" stroke=\"#000000\" points=\"2145.1818,-663.4323 2152.3419,-655.623 2141.8747,-657.2627 2145.1818,-663.4323\"/>\n</g>\n<!-- 41 -->\n<g id=\"node42\" class=\"node\">\n<title>41</title>\n<path fill=\"#399de5\" stroke=\"#000000\" d=\"M2048,-536.5C2048,-536.5 1910,-536.5 1910,-536.5 1904,-536.5 1898,-530.5 1898,-524.5 1898,-524.5 1898,-480.5 1898,-480.5 1898,-474.5 1904,-468.5 1910,-468.5 1910,-468.5 2048,-468.5 2048,-468.5 2054,-468.5 2060,-474.5 2060,-480.5 2060,-480.5 2060,-524.5 2060,-524.5 2060,-530.5 2054,-536.5 2048,-536.5\"/>\n<text text-anchor=\"start\" x=\"1936.5\" y=\"-521.3\" font-family=\"Helvetica,sans-Serif\" font-size=\"14.00\" fill=\"#000000\">entropy = 0.0</text>\n<text text-anchor=\"start\" x=\"1939.5\" y=\"-506.3\" font-family=\"Helvetica,sans-Serif\" font-size=\"14.00\" fill=\"#000000\">samples = 1</text>\n<text text-anchor=\"start\" x=\"1906\" y=\"-491.3\" font-family=\"Helvetica,sans-Serif\" font-size=\"14.00\" fill=\"#000000\">value = [0, 0, 0, 1, 0, 0]</text>\n<text text-anchor=\"start\" x=\"1950\" y=\"-476.3\" font-family=\"Helvetica,sans-Serif\" font-size=\"14.00\" fill=\"#000000\">class = 3</text>\n</g>\n<!-- 40&#45;&gt;41 -->\n<g id=\"edge41\" class=\"edge\">\n<title>40&#45;&gt;41</title>\n<path fill=\"none\" stroke=\"#000000\" d=\"M1979,-579.8796C1979,-569.2134 1979,-557.7021 1979,-546.9015\"/>\n<polygon fill=\"#000000\" stroke=\"#000000\" points=\"1982.5001,-546.8149 1979,-536.8149 1975.5001,-546.815 1982.5001,-546.8149\"/>\n</g>\n<!-- 42 -->\n<g id=\"node43\" class=\"node\">\n<title>42</title>\n<path fill=\"#e5399d\" stroke=\"#000000\" d=\"M2228,-536.5C2228,-536.5 2090,-536.5 2090,-536.5 2084,-536.5 2078,-530.5 2078,-524.5 2078,-524.5 2078,-480.5 2078,-480.5 2078,-474.5 2084,-468.5 2090,-468.5 2090,-468.5 2228,-468.5 2228,-468.5 2234,-468.5 2240,-474.5 2240,-480.5 2240,-480.5 2240,-524.5 2240,-524.5 2240,-530.5 2234,-536.5 2228,-536.5\"/>\n<text text-anchor=\"start\" x=\"2116.5\" y=\"-521.3\" font-family=\"Helvetica,sans-Serif\" font-size=\"14.00\" fill=\"#000000\">entropy = 0.0</text>\n<text text-anchor=\"start\" x=\"2119.5\" y=\"-506.3\" font-family=\"Helvetica,sans-Serif\" font-size=\"14.00\" fill=\"#000000\">samples = 1</text>\n<text text-anchor=\"start\" x=\"2086\" y=\"-491.3\" font-family=\"Helvetica,sans-Serif\" font-size=\"14.00\" fill=\"#000000\">value = [0, 0, 0, 0, 0, 1]</text>\n<text text-anchor=\"start\" x=\"2130\" y=\"-476.3\" font-family=\"Helvetica,sans-Serif\" font-size=\"14.00\" fill=\"#000000\">class = 5</text>\n</g>\n<!-- 40&#45;&gt;42 -->\n<g id=\"edge42\" class=\"edge\">\n<title>40&#45;&gt;42</title>\n<path fill=\"none\" stroke=\"#000000\" d=\"M2041.9553,-579.8796C2060.3384,-567.7263 2080.3811,-554.4759 2098.6021,-542.4297\"/>\n<polygon fill=\"#000000\" stroke=\"#000000\" points=\"2100.9737,-545.0576 2107.3853,-536.623 2097.1133,-539.2183 2100.9737,-545.0576\"/>\n</g>\n<!-- 45 -->\n<g id=\"node46\" class=\"node\">\n<title>45</title>\n<path fill=\"#ab7bee\" stroke=\"#000000\" d=\"M2555,-782C2555,-782 2303,-782 2303,-782 2297,-782 2291,-776 2291,-770 2291,-770 2291,-711 2291,-711 2291,-705 2297,-699 2303,-699 2303,-699 2555,-699 2555,-699 2561,-699 2567,-705 2567,-711 2567,-711 2567,-770 2567,-770 2567,-776 2561,-782 2555,-782\"/>\n<text text-anchor=\"start\" x=\"2299\" y=\"-766.8\" font-family=\"Helvetica,sans-Serif\" font-size=\"14.00\" fill=\"#000000\">Concentration in Classes (0 &#45; 10) ≤ &#45;0.27</text>\n<text text-anchor=\"start\" x=\"2378\" y=\"-751.8\" font-family=\"Helvetica,sans-Serif\" font-size=\"14.00\" fill=\"#000000\">entropy = 0.811</text>\n<text text-anchor=\"start\" x=\"2389.5\" y=\"-736.8\" font-family=\"Helvetica,sans-Serif\" font-size=\"14.00\" fill=\"#000000\">samples = 4</text>\n<text text-anchor=\"start\" x=\"2356\" y=\"-721.8\" font-family=\"Helvetica,sans-Serif\" font-size=\"14.00\" fill=\"#000000\">value = [0, 1, 0, 0, 3, 0]</text>\n<text text-anchor=\"start\" x=\"2400\" y=\"-706.8\" font-family=\"Helvetica,sans-Serif\" font-size=\"14.00\" fill=\"#000000\">class = 4</text>\n</g>\n<!-- 44&#45;&gt;45 -->\n<g id=\"edge45\" class=\"edge\">\n<title>44&#45;&gt;45</title>\n<path fill=\"none\" stroke=\"#000000\" d=\"M2429,-817.8796C2429,-809.6838 2429,-800.9891 2429,-792.5013\"/>\n<polygon fill=\"#000000\" stroke=\"#000000\" points=\"2432.5001,-792.298 2429,-782.2981 2425.5001,-792.2981 2432.5001,-792.298\"/>\n</g>\n<!-- 48 -->\n<g id=\"node49\" class=\"node\">\n<title>48</title>\n<path fill=\"#e95aad\" stroke=\"#000000\" d=\"M2882,-782C2882,-782 2630,-782 2630,-782 2624,-782 2618,-776 2618,-770 2618,-770 2618,-711 2618,-711 2618,-705 2624,-699 2630,-699 2630,-699 2882,-699 2882,-699 2888,-699 2894,-705 2894,-711 2894,-711 2894,-770 2894,-770 2894,-776 2888,-782 2882,-782\"/>\n<text text-anchor=\"start\" x=\"2626\" y=\"-766.8\" font-family=\"Helvetica,sans-Serif\" font-size=\"14.00\" fill=\"#000000\">Concentration in Classes (0 &#45; 10) ≤ &#45;0.27</text>\n<text text-anchor=\"start\" x=\"2705\" y=\"-751.8\" font-family=\"Helvetica,sans-Serif\" font-size=\"14.00\" fill=\"#000000\">entropy = 0.592</text>\n<text text-anchor=\"start\" x=\"2716.5\" y=\"-736.8\" font-family=\"Helvetica,sans-Serif\" font-size=\"14.00\" fill=\"#000000\">samples = 7</text>\n<text text-anchor=\"start\" x=\"2683\" y=\"-721.8\" font-family=\"Helvetica,sans-Serif\" font-size=\"14.00\" fill=\"#000000\">value = [0, 0, 0, 0, 1, 6]</text>\n<text text-anchor=\"start\" x=\"2727\" y=\"-706.8\" font-family=\"Helvetica,sans-Serif\" font-size=\"14.00\" fill=\"#000000\">class = 5</text>\n</g>\n<!-- 44&#45;&gt;48 -->\n<g id=\"edge48\" class=\"edge\">\n<title>44&#45;&gt;48</title>\n<path fill=\"none\" stroke=\"#000000\" d=\"M2543.3687,-817.8796C2572.1194,-807.4168 2603.1045,-796.1409 2632.2888,-785.5203\"/>\n<polygon fill=\"#000000\" stroke=\"#000000\" points=\"2633.4957,-788.8057 2641.6958,-782.0969 2631.1018,-782.2277 2633.4957,-788.8057\"/>\n</g>\n<!-- 46 -->\n<g id=\"node47\" class=\"node\">\n<title>46</title>\n<path fill=\"#9de539\" stroke=\"#000000\" d=\"M2465,-655.5C2465,-655.5 2327,-655.5 2327,-655.5 2321,-655.5 2315,-649.5 2315,-643.5 2315,-643.5 2315,-599.5 2315,-599.5 2315,-593.5 2321,-587.5 2327,-587.5 2327,-587.5 2465,-587.5 2465,-587.5 2471,-587.5 2477,-593.5 2477,-599.5 2477,-599.5 2477,-643.5 2477,-643.5 2477,-649.5 2471,-655.5 2465,-655.5\"/>\n<text text-anchor=\"start\" x=\"2353.5\" y=\"-640.3\" font-family=\"Helvetica,sans-Serif\" font-size=\"14.00\" fill=\"#000000\">entropy = 0.0</text>\n<text text-anchor=\"start\" x=\"2356.5\" y=\"-625.3\" font-family=\"Helvetica,sans-Serif\" font-size=\"14.00\" fill=\"#000000\">samples = 1</text>\n<text text-anchor=\"start\" x=\"2323\" y=\"-610.3\" font-family=\"Helvetica,sans-Serif\" font-size=\"14.00\" fill=\"#000000\">value = [0, 1, 0, 0, 0, 0]</text>\n<text text-anchor=\"start\" x=\"2367\" y=\"-595.3\" font-family=\"Helvetica,sans-Serif\" font-size=\"14.00\" fill=\"#000000\">class = 1</text>\n</g>\n<!-- 45&#45;&gt;46 -->\n<g id=\"edge46\" class=\"edge\">\n<title>45&#45;&gt;46</title>\n<path fill=\"none\" stroke=\"#000000\" d=\"M2417.4582,-698.8796C2414.4699,-688.1034 2411.2423,-676.4647 2408.2205,-665.5677\"/>\n<polygon fill=\"#000000\" stroke=\"#000000\" points=\"2411.561,-664.516 2405.5159,-655.8149 2404.8155,-666.3866 2411.561,-664.516\"/>\n</g>\n<!-- 47 -->\n<g id=\"node48\" class=\"node\">\n<title>47</title>\n<path fill=\"#8139e5\" stroke=\"#000000\" d=\"M2645,-655.5C2645,-655.5 2507,-655.5 2507,-655.5 2501,-655.5 2495,-649.5 2495,-643.5 2495,-643.5 2495,-599.5 2495,-599.5 2495,-593.5 2501,-587.5 2507,-587.5 2507,-587.5 2645,-587.5 2645,-587.5 2651,-587.5 2657,-593.5 2657,-599.5 2657,-599.5 2657,-643.5 2657,-643.5 2657,-649.5 2651,-655.5 2645,-655.5\"/>\n<text text-anchor=\"start\" x=\"2533.5\" y=\"-640.3\" font-family=\"Helvetica,sans-Serif\" font-size=\"14.00\" fill=\"#000000\">entropy = 0.0</text>\n<text text-anchor=\"start\" x=\"2536.5\" y=\"-625.3\" font-family=\"Helvetica,sans-Serif\" font-size=\"14.00\" fill=\"#000000\">samples = 3</text>\n<text text-anchor=\"start\" x=\"2503\" y=\"-610.3\" font-family=\"Helvetica,sans-Serif\" font-size=\"14.00\" fill=\"#000000\">value = [0, 0, 0, 0, 3, 0]</text>\n<text text-anchor=\"start\" x=\"2547\" y=\"-595.3\" font-family=\"Helvetica,sans-Serif\" font-size=\"14.00\" fill=\"#000000\">class = 4</text>\n</g>\n<!-- 45&#45;&gt;47 -->\n<g id=\"edge47\" class=\"edge\">\n<title>45&#45;&gt;47</title>\n<path fill=\"none\" stroke=\"#000000\" d=\"M2480.4135,-698.8796C2495.0835,-687.0038 2511.0477,-674.0804 2525.6533,-662.2568\"/>\n<polygon fill=\"#000000\" stroke=\"#000000\" points=\"2528.0407,-664.8273 2533.611,-655.8149 2523.6363,-659.3866 2528.0407,-664.8273\"/>\n</g>\n<!-- 49 -->\n<g id=\"node50\" class=\"node\">\n<title>49</title>\n<path fill=\"#8139e5\" stroke=\"#000000\" d=\"M2825,-655.5C2825,-655.5 2687,-655.5 2687,-655.5 2681,-655.5 2675,-649.5 2675,-643.5 2675,-643.5 2675,-599.5 2675,-599.5 2675,-593.5 2681,-587.5 2687,-587.5 2687,-587.5 2825,-587.5 2825,-587.5 2831,-587.5 2837,-593.5 2837,-599.5 2837,-599.5 2837,-643.5 2837,-643.5 2837,-649.5 2831,-655.5 2825,-655.5\"/>\n<text text-anchor=\"start\" x=\"2713.5\" y=\"-640.3\" font-family=\"Helvetica,sans-Serif\" font-size=\"14.00\" fill=\"#000000\">entropy = 0.0</text>\n<text text-anchor=\"start\" x=\"2716.5\" y=\"-625.3\" font-family=\"Helvetica,sans-Serif\" font-size=\"14.00\" fill=\"#000000\">samples = 1</text>\n<text text-anchor=\"start\" x=\"2683\" y=\"-610.3\" font-family=\"Helvetica,sans-Serif\" font-size=\"14.00\" fill=\"#000000\">value = [0, 0, 0, 0, 1, 0]</text>\n<text text-anchor=\"start\" x=\"2727\" y=\"-595.3\" font-family=\"Helvetica,sans-Serif\" font-size=\"14.00\" fill=\"#000000\">class = 4</text>\n</g>\n<!-- 48&#45;&gt;49 -->\n<g id=\"edge49\" class=\"edge\">\n<title>48&#45;&gt;49</title>\n<path fill=\"none\" stroke=\"#000000\" d=\"M2756,-698.8796C2756,-688.2134 2756,-676.7021 2756,-665.9015\"/>\n<polygon fill=\"#000000\" stroke=\"#000000\" points=\"2759.5001,-665.8149 2756,-655.8149 2752.5001,-665.815 2759.5001,-665.8149\"/>\n</g>\n<!-- 50 -->\n<g id=\"node51\" class=\"node\">\n<title>50</title>\n<path fill=\"#e5399d\" stroke=\"#000000\" d=\"M3005,-655.5C3005,-655.5 2867,-655.5 2867,-655.5 2861,-655.5 2855,-649.5 2855,-643.5 2855,-643.5 2855,-599.5 2855,-599.5 2855,-593.5 2861,-587.5 2867,-587.5 2867,-587.5 3005,-587.5 3005,-587.5 3011,-587.5 3017,-593.5 3017,-599.5 3017,-599.5 3017,-643.5 3017,-643.5 3017,-649.5 3011,-655.5 3005,-655.5\"/>\n<text text-anchor=\"start\" x=\"2893.5\" y=\"-640.3\" font-family=\"Helvetica,sans-Serif\" font-size=\"14.00\" fill=\"#000000\">entropy = 0.0</text>\n<text text-anchor=\"start\" x=\"2896.5\" y=\"-625.3\" font-family=\"Helvetica,sans-Serif\" font-size=\"14.00\" fill=\"#000000\">samples = 6</text>\n<text text-anchor=\"start\" x=\"2863\" y=\"-610.3\" font-family=\"Helvetica,sans-Serif\" font-size=\"14.00\" fill=\"#000000\">value = [0, 0, 0, 0, 0, 6]</text>\n<text text-anchor=\"start\" x=\"2907\" y=\"-595.3\" font-family=\"Helvetica,sans-Serif\" font-size=\"14.00\" fill=\"#000000\">class = 5</text>\n</g>\n<!-- 48&#45;&gt;50 -->\n<g id=\"edge50\" class=\"edge\">\n<title>48&#45;&gt;50</title>\n<path fill=\"none\" stroke=\"#000000\" d=\"M2818.9553,-698.8796C2837.3384,-686.7263 2857.3811,-673.4759 2875.6021,-661.4297\"/>\n<polygon fill=\"#000000\" stroke=\"#000000\" points=\"2877.9737,-664.0576 2884.3853,-655.623 2874.1133,-658.2183 2877.9737,-664.0576\"/>\n</g>\n</g>\n</svg>\n"
          },
          "metadata": {},
          "execution_count": 45
        }
      ]
    },
    {
      "cell_type": "markdown",
      "metadata": {
        "id": "UYG9KrrBI9xc"
      },
      "source": [
        "# **KNN**"
      ]
    },
    {
      "cell_type": "code",
      "metadata": {
        "colab": {
          "base_uri": "https://localhost:8080/"
        },
        "id": "vXqhHEtHJEei",
        "outputId": "6b8cff25-887e-4ea9-e926-9074581e53d9"
      },
      "source": [
        "from sklearn.neighbors import KNeighborsClassifier\n",
        "KNN = KNeighborsClassifier(n_neighbors=5)\n",
        "KNN.fit(X_train, y_train)"
      ],
      "execution_count": 46,
      "outputs": [
        {
          "output_type": "execute_result",
          "data": {
            "text/plain": [
              "KNeighborsClassifier()"
            ]
          },
          "metadata": {},
          "execution_count": 46
        }
      ]
    },
    {
      "cell_type": "code",
      "metadata": {
        "id": "sMJSXzUsJQFx"
      },
      "source": [
        "y_pred = KNN.predict(X_test)"
      ],
      "execution_count": 47,
      "outputs": []
    },
    {
      "cell_type": "code",
      "metadata": {
        "colab": {
          "base_uri": "https://localhost:8080/"
        },
        "id": "z8CE4G9OJU14",
        "outputId": "1a4024c9-9ca7-4532-8115-3f63adc785a4"
      },
      "source": [
        "from sklearn.metrics import confusion_matrix\n",
        "#Accuray of the model \n",
        "print(\"Accuracy:\", accuracy_score(y_test, y_pred))\n",
        "print(confusion_matrix(y_test, y_pred))"
      ],
      "execution_count": 48,
      "outputs": [
        {
          "output_type": "stream",
          "name": "stdout",
          "text": [
            "Accuracy: 0.4444444444444444\n",
            "[[0 0 1 0 0]\n",
            " [0 0 1 0 2]\n",
            " [0 0 3 0 1]\n",
            " [0 0 0 1 1]\n",
            " [0 0 1 3 4]]\n"
          ]
        }
      ]
    },
    {
      "cell_type": "code",
      "metadata": {
        "colab": {
          "base_uri": "https://localhost:8080/"
        },
        "id": "ZEqE5OX2JZdG",
        "outputId": "dad63737-0842-4d20-c05f-d37b509489ad"
      },
      "source": [
        "error = []\n",
        "\n",
        "# Calculating error for K values between 1 and 40\n",
        "for i in range(1, 40):\n",
        "    knn = KNeighborsClassifier(n_neighbors=i)\n",
        "    knn.fit(X_train, y_train)\n",
        "    pred_i = knn.predict(X_test)\n",
        "    error.append(np.mean(pred_i != y_test))\n",
        "    print(np.mean(pred_i != y_test))"
      ],
      "execution_count": 49,
      "outputs": [
        {
          "output_type": "stream",
          "name": "stdout",
          "text": [
            "0.5555555555555556\n",
            "0.6111111111111112\n",
            "0.5555555555555556\n",
            "0.6666666666666666\n",
            "0.5555555555555556\n",
            "0.5555555555555556\n",
            "0.5\n",
            "0.5\n",
            "0.5\n",
            "0.4444444444444444\n",
            "0.5\n",
            "0.5\n",
            "0.4444444444444444\n",
            "0.4444444444444444\n",
            "0.4444444444444444\n",
            "0.4444444444444444\n",
            "0.5\n",
            "0.5\n",
            "0.5\n",
            "0.5\n",
            "0.4444444444444444\n",
            "0.4444444444444444\n",
            "0.4444444444444444\n",
            "0.4444444444444444\n",
            "0.4444444444444444\n",
            "0.5\n",
            "0.5\n",
            "0.5555555555555556\n",
            "0.5555555555555556\n",
            "0.5555555555555556\n",
            "0.5555555555555556\n",
            "0.5555555555555556\n",
            "0.5555555555555556\n",
            "0.5555555555555556\n",
            "0.5555555555555556\n",
            "0.5555555555555556\n",
            "0.5555555555555556\n",
            "0.5555555555555556\n",
            "0.5555555555555556\n"
          ]
        }
      ]
    },
    {
      "cell_type": "code",
      "metadata": {
        "colab": {
          "base_uri": "https://localhost:8080/",
          "height": 421
        },
        "id": "hq4Ttf_ZJe7U",
        "outputId": "05796bc3-6469-44ef-d6bf-49d29e60492e"
      },
      "source": [
        "plt.figure(figsize=(12, 6))\n",
        "plt.plot(range(1, 40), error, color='red', linestyle='dashed', marker='o',\n",
        "         markerfacecolor='blue', markersize=10)\n",
        "plt.title('Error Rate K Value')\n",
        "plt.xlabel('K Value')\n",
        "plt.ylabel('Mean Error')"
      ],
      "execution_count": 50,
      "outputs": [
        {
          "output_type": "execute_result",
          "data": {
            "text/plain": [
              "Text(0, 0.5, 'Mean Error')"
            ]
          },
          "metadata": {},
          "execution_count": 50
        },
        {
          "output_type": "display_data",
          "data": {
            "image/png": "[encoded data removed]",
            "text/plain": [
              "<Figure size 864x432 with 1 Axes>"
            ]
          },
          "metadata": {
            "needs_background": "light"
          }
        }
      ]
    }
  ]
}